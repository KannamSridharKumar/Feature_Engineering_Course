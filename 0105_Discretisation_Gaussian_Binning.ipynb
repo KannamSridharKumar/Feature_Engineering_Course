{
 "cells": [
  {
   "cell_type": "code",
   "execution_count": 14,
   "metadata": {},
   "outputs": [
    {
     "name": "stdout",
     "output_type": "stream",
     "text": [
      "The nb_black extension is already loaded. To reload it, use:\n",
      "  %reload_ext nb_black\n"
     ]
    },
    {
     "data": {
      "application/javascript": [
       "\n",
       "            setTimeout(function() {\n",
       "                var nbb_cell_id = 14;\n",
       "                var nbb_unformatted_code = \"%load_ext nb_black\";\n",
       "                var nbb_formatted_code = \"%load_ext nb_black\";\n",
       "                var nbb_cells = Jupyter.notebook.get_cells();\n",
       "                for (var i = 0; i < nbb_cells.length; ++i) {\n",
       "                    if (nbb_cells[i].input_prompt_number == nbb_cell_id) {\n",
       "                        if (nbb_cells[i].get_text() == nbb_unformatted_code) {\n",
       "                             nbb_cells[i].set_text(nbb_formatted_code);\n",
       "                        }\n",
       "                        break;\n",
       "                    }\n",
       "                }\n",
       "            }, 500);\n",
       "            "
      ],
      "text/plain": [
       "<IPython.core.display.Javascript object>"
      ]
     },
     "metadata": {},
     "output_type": "display_data"
    }
   ],
   "source": [
    "%load_ext nb_black"
   ]
  },
  {
   "cell_type": "code",
   "execution_count": 15,
   "metadata": {},
   "outputs": [
    {
     "data": {
      "application/javascript": [
       "\n",
       "            setTimeout(function() {\n",
       "                var nbb_cell_id = 15;\n",
       "                var nbb_unformatted_code = \"import random\\nimport pandas as pd\\nimport numpy as np\\nfrom scipy import stats\\nimport matplotlib.pyplot as plt\\nfrom sklearn.preprocessing import QuantileTransformer\\nfrom IPython.display import Image\\n\\nplt.style.use(\\\"fivethirtyeight\\\")\";\n",
       "                var nbb_formatted_code = \"import random\\nimport pandas as pd\\nimport numpy as np\\nfrom scipy import stats\\nimport matplotlib.pyplot as plt\\nfrom sklearn.preprocessing import QuantileTransformer\\nfrom IPython.display import Image\\n\\nplt.style.use(\\\"fivethirtyeight\\\")\";\n",
       "                var nbb_cells = Jupyter.notebook.get_cells();\n",
       "                for (var i = 0; i < nbb_cells.length; ++i) {\n",
       "                    if (nbb_cells[i].input_prompt_number == nbb_cell_id) {\n",
       "                        if (nbb_cells[i].get_text() == nbb_unformatted_code) {\n",
       "                             nbb_cells[i].set_text(nbb_formatted_code);\n",
       "                        }\n",
       "                        break;\n",
       "                    }\n",
       "                }\n",
       "            }, 500);\n",
       "            "
      ],
      "text/plain": [
       "<IPython.core.display.Javascript object>"
      ]
     },
     "metadata": {},
     "output_type": "display_data"
    }
   ],
   "source": [
    "import random\n",
    "import pandas as pd\n",
    "import numpy as np\n",
    "from scipy import stats\n",
    "import matplotlib.pyplot as plt\n",
    "from sklearn.preprocessing import QuantileTransformer\n",
    "from IPython.display import Image\n",
    "\n",
    "plt.style.use(\"fivethirtyeight\")"
   ]
  },
  {
   "cell_type": "code",
   "execution_count": 16,
   "metadata": {},
   "outputs": [
    {
     "data": {
      "application/javascript": [
       "\n",
       "            setTimeout(function() {\n",
       "                var nbb_cell_id = 16;\n",
       "                var nbb_unformatted_code = \"plt.rcParams[\\\"figure.figsize\\\"] = (12, 4)\\nplt.rcParams.update({\\\"font.size\\\": 14})\\npd.set_option(\\\"display.precision\\\", 2)\";\n",
       "                var nbb_formatted_code = \"plt.rcParams[\\\"figure.figsize\\\"] = (12, 4)\\nplt.rcParams.update({\\\"font.size\\\": 14})\\npd.set_option(\\\"display.precision\\\", 2)\";\n",
       "                var nbb_cells = Jupyter.notebook.get_cells();\n",
       "                for (var i = 0; i < nbb_cells.length; ++i) {\n",
       "                    if (nbb_cells[i].input_prompt_number == nbb_cell_id) {\n",
       "                        if (nbb_cells[i].get_text() == nbb_unformatted_code) {\n",
       "                             nbb_cells[i].set_text(nbb_formatted_code);\n",
       "                        }\n",
       "                        break;\n",
       "                    }\n",
       "                }\n",
       "            }, 500);\n",
       "            "
      ],
      "text/plain": [
       "<IPython.core.display.Javascript object>"
      ]
     },
     "metadata": {},
     "output_type": "display_data"
    }
   ],
   "source": [
    "plt.rcParams[\"figure.figsize\"] = (12, 4)\n",
    "plt.rcParams.update({\"font.size\": 14})\n",
    "pd.set_option(\"display.precision\", 2)"
   ]
  },
  {
   "cell_type": "code",
   "execution_count": 19,
   "metadata": {},
   "outputs": [
    {
     "data": {
      "image/png": "[encoded data removed]",
      "text/plain": [
       "<IPython.core.display.Image object>"
      ]
     },
     "execution_count": 19,
     "metadata": {
      "image/png": {
       "width": 800
      }
     },
     "output_type": "execute_result"
    },
    {
     "data": {
      "application/javascript": [
       "\n",
       "            setTimeout(function() {\n",
       "                var nbb_cell_id = 19;\n",
       "                var nbb_unformatted_code = \"Image(\\\"images/gaussian.png\\\", width=800)\";\n",
       "                var nbb_formatted_code = \"Image(\\\"images/gaussian.png\\\", width=800)\";\n",
       "                var nbb_cells = Jupyter.notebook.get_cells();\n",
       "                for (var i = 0; i < nbb_cells.length; ++i) {\n",
       "                    if (nbb_cells[i].input_prompt_number == nbb_cell_id) {\n",
       "                        if (nbb_cells[i].get_text() == nbb_unformatted_code) {\n",
       "                             nbb_cells[i].set_text(nbb_formatted_code);\n",
       "                        }\n",
       "                        break;\n",
       "                    }\n",
       "                }\n",
       "            }, 500);\n",
       "            "
      ],
      "text/plain": [
       "<IPython.core.display.Javascript object>"
      ]
     },
     "metadata": {},
     "output_type": "display_data"
    }
   ],
   "source": [
    "Image(\"images/gaussian.png\", width=800)"
   ]
  },
  {
   "cell_type": "markdown",
   "metadata": {},
   "source": []
  },
  {
   "cell_type": "code",
   "execution_count": 6,
   "metadata": {},
   "outputs": [
    {
     "data": {
      "text/html": [
       "<div><div id=7d303c9a-fac6-42a4-aaf1-42eabc082642 style=\"display:none; background-color:#9D6CFF; color:white; width:200px; height:30px; padding-left:5px; border-radius:4px; flex-direction:row; justify-content:space-around; align-items:center;\" onmouseover=\"this.style.backgroundColor='#BA9BF8'\" onmouseout=\"this.style.backgroundColor='#9D6CFF'\" onclick=\"window.commands?.execute('create-mitosheet-from-dataframe-output');\">See Full Dataframe in Mito</div> <script> if (window.commands?.hasCommand('create-mitosheet-from-dataframe-output')) document.getElementById('7d303c9a-fac6-42a4-aaf1-42eabc082642').style.display = 'flex' </script> <table border=\"1\" class=\"dataframe\">\n",
       "  <thead>\n",
       "    <tr style=\"text-align: right;\">\n",
       "      <th></th>\n",
       "      <th>timestamp</th>\n",
       "      <th>feat</th>\n",
       "    </tr>\n",
       "  </thead>\n",
       "  <tbody>\n",
       "    <tr>\n",
       "      <th>0</th>\n",
       "      <td>t_0</td>\n",
       "      <td>73.90</td>\n",
       "    </tr>\n",
       "    <tr>\n",
       "      <th>1</th>\n",
       "      <td>t_1</td>\n",
       "      <td>45.71</td>\n",
       "    </tr>\n",
       "    <tr>\n",
       "      <th>2</th>\n",
       "      <td>t_2</td>\n",
       "      <td>46.45</td>\n",
       "    </tr>\n",
       "    <tr>\n",
       "      <th>3</th>\n",
       "      <td>t_3</td>\n",
       "      <td>40.64</td>\n",
       "    </tr>\n",
       "    <tr>\n",
       "      <th>4</th>\n",
       "      <td>t_4</td>\n",
       "      <td>53.98</td>\n",
       "    </tr>\n",
       "    <tr>\n",
       "      <th>5</th>\n",
       "      <td>t_5</td>\n",
       "      <td>50.80</td>\n",
       "    </tr>\n",
       "    <tr>\n",
       "      <th>6</th>\n",
       "      <td>t_6</td>\n",
       "      <td>50.57</td>\n",
       "    </tr>\n",
       "    <tr>\n",
       "      <th>7</th>\n",
       "      <td>t_7</td>\n",
       "      <td>57.52</td>\n",
       "    </tr>\n",
       "    <tr>\n",
       "      <th>8</th>\n",
       "      <td>t_8</td>\n",
       "      <td>47.39</td>\n",
       "    </tr>\n",
       "    <tr>\n",
       "      <th>9</th>\n",
       "      <td>t_9</td>\n",
       "      <td>50.09</td>\n",
       "    </tr>\n",
       "  </tbody>\n",
       "</table></div>"
      ],
      "text/plain": [
       "  timestamp   feat\n",
       "0       t_0  73.90\n",
       "1       t_1  45.71\n",
       "2       t_2  46.45\n",
       "3       t_3  40.64\n",
       "4       t_4  53.98\n",
       "5       t_5  50.80\n",
       "6       t_6  50.57\n",
       "7       t_7  57.52\n",
       "8       t_8  47.39\n",
       "9       t_9  50.09"
      ]
     },
     "execution_count": 6,
     "metadata": {},
     "output_type": "execute_result"
    },
    {
     "data": {
      "application/javascript": [
       "\n",
       "            setTimeout(function() {\n",
       "                var nbb_cell_id = 6;\n",
       "                var nbb_unformatted_code = \"sensor = np.random.normal(50, 10, 10000)\\ntimestamp = [\\\"t_\\\" + str(i) for i in range(len(sensor))]\\ndf = pd.DataFrame({\\\"timestamp\\\": timestamp, \\\"feat\\\": sensor})\\ndf.head(10)\";\n",
       "                var nbb_formatted_code = \"sensor = np.random.normal(50, 10, 10000)\\ntimestamp = [\\\"t_\\\" + str(i) for i in range(len(sensor))]\\ndf = pd.DataFrame({\\\"timestamp\\\": timestamp, \\\"feat\\\": sensor})\\ndf.head(10)\";\n",
       "                var nbb_cells = Jupyter.notebook.get_cells();\n",
       "                for (var i = 0; i < nbb_cells.length; ++i) {\n",
       "                    if (nbb_cells[i].input_prompt_number == nbb_cell_id) {\n",
       "                        if (nbb_cells[i].get_text() == nbb_unformatted_code) {\n",
       "                             nbb_cells[i].set_text(nbb_formatted_code);\n",
       "                        }\n",
       "                        break;\n",
       "                    }\n",
       "                }\n",
       "            }, 500);\n",
       "            "
      ],
      "text/plain": [
       "<IPython.core.display.Javascript object>"
      ]
     },
     "metadata": {},
     "output_type": "display_data"
    }
   ],
   "source": [
    "sensor = np.random.normal(50, 10, 10000)\n",
    "timestamp = [\"t_\" + str(i) for i in range(len(sensor))]\n",
    "df = pd.DataFrame({\"timestamp\": timestamp, \"feat\": sensor})\n",
    "df.head(10)"
   ]
  },
  {
   "cell_type": "code",
   "execution_count": 7,
   "metadata": {},
   "outputs": [
    {
     "name": "stdout",
     "output_type": "stream",
     "text": [
      "Mean is  49.83\n",
      "STD is  9.91\n"
     ]
    },
    {
     "data": {
      "application/javascript": [
       "\n",
       "            setTimeout(function() {\n",
       "                var nbb_cell_id = 7;\n",
       "                var nbb_unformatted_code = \"print(\\\"Mean is \\\", round(df[\\\"feat\\\"].mean(), 2))\\nprint(\\\"STD is \\\", round(df[\\\"feat\\\"].std(), 2))\";\n",
       "                var nbb_formatted_code = \"print(\\\"Mean is \\\", round(df[\\\"feat\\\"].mean(), 2))\\nprint(\\\"STD is \\\", round(df[\\\"feat\\\"].std(), 2))\";\n",
       "                var nbb_cells = Jupyter.notebook.get_cells();\n",
       "                for (var i = 0; i < nbb_cells.length; ++i) {\n",
       "                    if (nbb_cells[i].input_prompt_number == nbb_cell_id) {\n",
       "                        if (nbb_cells[i].get_text() == nbb_unformatted_code) {\n",
       "                             nbb_cells[i].set_text(nbb_formatted_code);\n",
       "                        }\n",
       "                        break;\n",
       "                    }\n",
       "                }\n",
       "            }, 500);\n",
       "            "
      ],
      "text/plain": [
       "<IPython.core.display.Javascript object>"
      ]
     },
     "metadata": {},
     "output_type": "display_data"
    }
   ],
   "source": [
    "print(\"Mean is \", round(df[\"feat\"].mean(), 2))\n",
    "print(\"STD is \", round(df[\"feat\"].std(), 2))"
   ]
  },
  {
   "cell_type": "code",
   "execution_count": 10,
   "metadata": {},
   "outputs": [
    {
     "data": {
      "application/javascript": [
       "\n",
       "            setTimeout(function() {\n",
       "                var nbb_cell_id = 10;\n",
       "                var nbb_unformatted_code = \"df[\\\"feat_sd\\\"] = stats.zscore(df[\\\"feat\\\"])\\n#df[\\\"feat_sd_pn\\\"] = np.where(df[\\\"feat_sd\\\"] < 0, \\\"negative\\\", \\\"positive\\\")\\n#df[\\\"feat_sd\\\"] = abs(df[\\\"feat_sd\\\"].astype(\\\"int\\\")) + 1\\n#df.head(10)\";\n",
       "                var nbb_formatted_code = \"df[\\\"feat_sd\\\"] = stats.zscore(df[\\\"feat\\\"])\\n# df[\\\"feat_sd_pn\\\"] = np.where(df[\\\"feat_sd\\\"] < 0, \\\"negative\\\", \\\"positive\\\")\\n# df[\\\"feat_sd\\\"] = abs(df[\\\"feat_sd\\\"].astype(\\\"int\\\")) + 1\\n# df.head(10)\";\n",
       "                var nbb_cells = Jupyter.notebook.get_cells();\n",
       "                for (var i = 0; i < nbb_cells.length; ++i) {\n",
       "                    if (nbb_cells[i].input_prompt_number == nbb_cell_id) {\n",
       "                        if (nbb_cells[i].get_text() == nbb_unformatted_code) {\n",
       "                             nbb_cells[i].set_text(nbb_formatted_code);\n",
       "                        }\n",
       "                        break;\n",
       "                    }\n",
       "                }\n",
       "            }, 500);\n",
       "            "
      ],
      "text/plain": [
       "<IPython.core.display.Javascript object>"
      ]
     },
     "metadata": {},
     "output_type": "display_data"
    }
   ],
   "source": [
    "df[\"feat_sd\"] = stats.zscore(df[\"feat\"])\n",
    "df[\"feat_sd_pn\"] = np.where(df[\"feat_sd\"] < 0, \"negative\", \"positive\")\n",
    "df[\"feat_sd\"] = abs(df[\"feat_sd\"].astype(\"int\")) + 1\n",
    "df.head(10)"
   ]
  },
  {
   "cell_type": "code",
   "execution_count": 11,
   "metadata": {},
   "outputs": [
    {
     "data": {
      "text/plain": [
       "array([ 2.42911143, -0.41543091, -0.34048132, ...,  0.56740056,\n",
       "        1.54094889, -0.37121051])"
      ]
     },
     "execution_count": 11,
     "metadata": {},
     "output_type": "execute_result"
    },
    {
     "data": {
      "application/javascript": [
       "\n",
       "            setTimeout(function() {\n",
       "                var nbb_cell_id = 11;\n",
       "                var nbb_unformatted_code = \"df[\\\"feat_sd\\\"].unique()\";\n",
       "                var nbb_formatted_code = \"df[\\\"feat_sd\\\"].unique()\";\n",
       "                var nbb_cells = Jupyter.notebook.get_cells();\n",
       "                for (var i = 0; i < nbb_cells.length; ++i) {\n",
       "                    if (nbb_cells[i].input_prompt_number == nbb_cell_id) {\n",
       "                        if (nbb_cells[i].get_text() == nbb_unformatted_code) {\n",
       "                             nbb_cells[i].set_text(nbb_formatted_code);\n",
       "                        }\n",
       "                        break;\n",
       "                    }\n",
       "                }\n",
       "            }, 500);\n",
       "            "
      ],
      "text/plain": [
       "<IPython.core.display.Javascript object>"
      ]
     },
     "metadata": {},
     "output_type": "display_data"
    }
   ],
   "source": [
    "df[\"feat_sd\"].unique()"
   ]
  },
  {
   "cell_type": "code",
   "execution_count": 20,
   "metadata": {},
   "outputs": [
    {
     "data": {
      "image/png": "[encoded data removed]",
      "text/plain": [
       "<Figure size 864x576 with 4 Axes>"
      ]
     },
     "metadata": {},
     "output_type": "display_data"
    },
    {
     "data": {
      "application/javascript": [
       "\n",
       "            setTimeout(function() {\n",
       "                var nbb_cell_id = 20;\n",
       "                var nbb_unformatted_code = \"plt.figure(figsize=(12, 8))\\nplt.subplot(2, 2, 1)\\nplt.hist(df[\\\"feat\\\"], bins=20, edgecolor=\\\"black\\\")\\nfor i in range(-3, 4):\\n    plt.axvline(\\n        df[\\\"feat\\\"].mean() - i * df[\\\"feat\\\"].std(),\\n        color=\\\"tab:red\\\",\\n        linestyle=\\\"dashed\\\",\\n        linewidth=2,\\n    )\\n\\nplt.xlabel(\\\"Feature Values\\\")\\nplt.ylabel(\\\"Histogram (Count)\\\")\\nplt.subplot(2, 2, 2)\\nplt.boxplot(df[\\\"feat\\\"].values)\\nplt.xlabel(\\\"\\\")\\nplt.ylabel(\\\"Feature Values\\\")\\nplt.subplot(2, 2, 3)\\ndf[\\\"feat_sd_pn\\\"].value_counts().plot(kind=\\\"bar\\\", rot=0, edgecolor=\\\"black\\\")\\nplt.subplot(2, 2, 4)\\ndf[\\\"feat_sd\\\"].value_counts().plot(kind=\\\"bar\\\", rot=0, edgecolor=\\\"black\\\")\\nplt.xlabel(\\\"SD\\\")\\nplt.ylabel(\\\"# of Values\\\")\\nplt.tight_layout()\";\n",
       "                var nbb_formatted_code = \"plt.figure(figsize=(12, 8))\\nplt.subplot(2, 2, 1)\\nplt.hist(df[\\\"feat\\\"], bins=20, edgecolor=\\\"black\\\")\\nfor i in range(-3, 4):\\n    plt.axvline(\\n        df[\\\"feat\\\"].mean() - i * df[\\\"feat\\\"].std(),\\n        color=\\\"tab:red\\\",\\n        linestyle=\\\"dashed\\\",\\n        linewidth=2,\\n    )\\n\\nplt.xlabel(\\\"Feature Values\\\")\\nplt.ylabel(\\\"Histogram (Count)\\\")\\nplt.subplot(2, 2, 2)\\nplt.boxplot(df[\\\"feat\\\"].values)\\nplt.xlabel(\\\"\\\")\\nplt.ylabel(\\\"Feature Values\\\")\\nplt.subplot(2, 2, 3)\\ndf[\\\"feat_sd_pn\\\"].value_counts().plot(kind=\\\"bar\\\", rot=0, edgecolor=\\\"black\\\")\\nplt.subplot(2, 2, 4)\\ndf[\\\"feat_sd\\\"].value_counts().plot(kind=\\\"bar\\\", rot=0, edgecolor=\\\"black\\\")\\nplt.xlabel(\\\"SD\\\")\\nplt.ylabel(\\\"# of Values\\\")\\nplt.tight_layout()\";\n",
       "                var nbb_cells = Jupyter.notebook.get_cells();\n",
       "                for (var i = 0; i < nbb_cells.length; ++i) {\n",
       "                    if (nbb_cells[i].input_prompt_number == nbb_cell_id) {\n",
       "                        if (nbb_cells[i].get_text() == nbb_unformatted_code) {\n",
       "                             nbb_cells[i].set_text(nbb_formatted_code);\n",
       "                        }\n",
       "                        break;\n",
       "                    }\n",
       "                }\n",
       "            }, 500);\n",
       "            "
      ],
      "text/plain": [
       "<IPython.core.display.Javascript object>"
      ]
     },
     "metadata": {},
     "output_type": "display_data"
    }
   ],
   "source": [
    "plt.figure(figsize=(12, 8))\n",
    "plt.subplot(2, 2, 1)\n",
    "plt.hist(df[\"feat\"], bins=20, edgecolor=\"black\")\n",
    "for i in range(-3, 4):\n",
    "    plt.axvline(\n",
    "        df[\"feat\"].mean() - i * df[\"feat\"].std(),\n",
    "        color=\"tab:red\",\n",
    "        linestyle=\"dashed\",\n",
    "        linewidth=2,\n",
    "    )\n",
    "\n",
    "plt.xlabel(\"Feature Values\")\n",
    "plt.ylabel(\"Histogram (Count)\")\n",
    "plt.subplot(2, 2, 2)\n",
    "plt.boxplot(df[\"feat\"].values)\n",
    "plt.xlabel(\"\")\n",
    "plt.ylabel(\"Feature Values\")\n",
    "plt.subplot(2, 2, 3)\n",
    "df[\"feat_sd_pn\"].value_counts().plot(kind=\"bar\", rot=0, edgecolor=\"black\")\n",
    "plt.subplot(2, 2, 4)\n",
    "df[\"feat_sd\"].value_counts().plot(kind=\"bar\", rot=0, edgecolor=\"black\")\n",
    "plt.xlabel(\"SD\")\n",
    "plt.ylabel(\"# of Values\")\n",
    "plt.tight_layout()"
   ]
  },
  {
   "cell_type": "code",
   "execution_count": 31,
   "metadata": {},
   "outputs": [
    {
     "data": {
      "text/plain": [
       "Text(0, 0.5, 'Percentage of Values (*100)')"
      ]
     },
     "execution_count": 31,
     "metadata": {},
     "output_type": "execute_result"
    },
    {
     "data": {
      "image/png": "[encoded data removed]",
      "text/plain": [
       "<Figure size 864x288 with 1 Axes>"
      ]
     },
     "metadata": {},
     "output_type": "display_data"
    },
    {
     "data": {
      "application/javascript": [
       "\n",
       "            setTimeout(function() {\n",
       "                var nbb_cell_id = 31;\n",
       "                var nbb_unformatted_code = \"df[\\\"feat_sd\\\"].value_counts(normalize=True).plot(kind=\\\"bar\\\", rot=0, edgecolor=\\\"black\\\")\\nplt.xlabel(\\\"SD\\\")\\nplt.ylabel(\\\"Percentage of Values (*100)\\\")\";\n",
       "                var nbb_formatted_code = \"df[\\\"feat_sd\\\"].value_counts(normalize=True).plot(kind=\\\"bar\\\", rot=0, edgecolor=\\\"black\\\")\\nplt.xlabel(\\\"SD\\\")\\nplt.ylabel(\\\"Percentage of Values (*100)\\\")\";\n",
       "                var nbb_cells = Jupyter.notebook.get_cells();\n",
       "                for (var i = 0; i < nbb_cells.length; ++i) {\n",
       "                    if (nbb_cells[i].input_prompt_number == nbb_cell_id) {\n",
       "                        if (nbb_cells[i].get_text() == nbb_unformatted_code) {\n",
       "                             nbb_cells[i].set_text(nbb_formatted_code);\n",
       "                        }\n",
       "                        break;\n",
       "                    }\n",
       "                }\n",
       "            }, 500);\n",
       "            "
      ],
      "text/plain": [
       "<IPython.core.display.Javascript object>"
      ]
     },
     "metadata": {},
     "output_type": "display_data"
    }
   ],
   "source": [
    "df[\"feat_sd\"].value_counts(normalize=True).plot(kind=\"bar\", rot=0, edgecolor=\"black\")\n",
    "plt.xlabel(\"SD\")\n",
    "plt.ylabel(\"Percentage of Values (*100)\")"
   ]
  },
  {
   "cell_type": "code",
   "execution_count": null,
   "metadata": {},
   "outputs": [],
   "source": []
  },
  {
   "cell_type": "code",
   "execution_count": null,
   "metadata": {},
   "outputs": [],
   "source": []
  },
  {
   "cell_type": "code",
   "execution_count": null,
   "metadata": {},
   "outputs": [],
   "source": []
  }
 ],
 "metadata": {
  "kernelspec": {
   "display_name": "Python 3 (ipykernel)",
   "language": "python",
   "name": "python3"
  },
  "language_info": {
   "codemirror_mode": {
    "name": "ipython",
    "version": 3
   },
   "file_extension": ".py",
   "mimetype": "text/x-python",
   "name": "python",
   "nbconvert_exporter": "python",
   "pygments_lexer": "ipython3",
   "version": "3.8.13"
  },
  "toc": {
   "base_numbering": 1,
   "nav_menu": {},
   "number_sections": true,
   "sideBar": true,
   "skip_h1_title": false,
   "title_cell": "Table of Contents",
   "title_sidebar": "Contents",
   "toc_cell": false,
   "toc_position": {},
   "toc_section_display": true,
   "toc_window_display": false
  }
 },
 "nbformat": 4,
 "nbformat_minor": 4
}
