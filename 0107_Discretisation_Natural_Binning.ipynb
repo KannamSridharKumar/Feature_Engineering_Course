{
 "cells": [
  {
   "cell_type": "code",
   "execution_count": 1,
   "id": "a9d13e15",
   "metadata": {},
   "outputs": [
    {
     "data": {
      "application/javascript": [
       "\n",
       "            setTimeout(function() {\n",
       "                var nbb_cell_id = 1;\n",
       "                var nbb_unformatted_code = \"%load_ext nb_black\";\n",
       "                var nbb_formatted_code = \"%load_ext nb_black\";\n",
       "                var nbb_cells = Jupyter.notebook.get_cells();\n",
       "                for (var i = 0; i < nbb_cells.length; ++i) {\n",
       "                    if (nbb_cells[i].input_prompt_number == nbb_cell_id) {\n",
       "                        if (nbb_cells[i].get_text() == nbb_unformatted_code) {\n",
       "                             nbb_cells[i].set_text(nbb_formatted_code);\n",
       "                        }\n",
       "                        break;\n",
       "                    }\n",
       "                }\n",
       "            }, 500);\n",
       "            "
      ],
      "text/plain": [
       "<IPython.core.display.Javascript object>"
      ]
     },
     "metadata": {},
     "output_type": "display_data"
    }
   ],
   "source": [
    "%load_ext nb_black"
   ]
  },
  {
   "cell_type": "markdown",
   "id": "003f2946",
   "metadata": {},
   "source": [
    "- Fisher-Jenks algorithm, Jenks Optimisation Method or Fisher exact optimization method.\n",
    "\n",
    "\n",
    "- Minimize each class's average deviation from the class mean, while maximizing each class's deviation from the means of the other classes. \n",
    "\n",
    "\n",
    "- The method seeks to reduce the variance within classes and maximize the variance between classes.\n"
   ]
  },
  {
   "cell_type": "code",
   "execution_count": 2,
   "id": "f83669d9",
   "metadata": {},
   "outputs": [
    {
     "data": {
      "application/javascript": [
       "\n",
       "            setTimeout(function() {\n",
       "                var nbb_cell_id = 2;\n",
       "                var nbb_unformatted_code = \"import jenkspy\\nimport random\\nimport pandas as pd\\nimport numpy as np\\nfrom scipy import stats\\nimport matplotlib.pyplot as plt\\n\\nplt.style.use(\\\"fivethirtyeight\\\")\";\n",
       "                var nbb_formatted_code = \"import jenkspy\\nimport random\\nimport pandas as pd\\nimport numpy as np\\nfrom scipy import stats\\nimport matplotlib.pyplot as plt\\n\\nplt.style.use(\\\"fivethirtyeight\\\")\";\n",
       "                var nbb_cells = Jupyter.notebook.get_cells();\n",
       "                for (var i = 0; i < nbb_cells.length; ++i) {\n",
       "                    if (nbb_cells[i].input_prompt_number == nbb_cell_id) {\n",
       "                        if (nbb_cells[i].get_text() == nbb_unformatted_code) {\n",
       "                             nbb_cells[i].set_text(nbb_formatted_code);\n",
       "                        }\n",
       "                        break;\n",
       "                    }\n",
       "                }\n",
       "            }, 500);\n",
       "            "
      ],
      "text/plain": [
       "<IPython.core.display.Javascript object>"
      ]
     },
     "metadata": {},
     "output_type": "display_data"
    }
   ],
   "source": [
    "import jenkspy\n",
    "import random\n",
    "import pandas as pd\n",
    "import numpy as np\n",
    "from scipy import stats\n",
    "import matplotlib.pyplot as plt\n",
    "\n",
    "plt.style.use(\"fivethirtyeight\")"
   ]
  },
  {
   "cell_type": "code",
   "execution_count": 3,
   "id": "98981c6c",
   "metadata": {},
   "outputs": [
    {
     "data": {
      "application/javascript": [
       "\n",
       "            setTimeout(function() {\n",
       "                var nbb_cell_id = 3;\n",
       "                var nbb_unformatted_code = \"plt.rcParams[\\\"figure.figsize\\\"] = (12, 4)\\nplt.rcParams.update({\\\"font.size\\\": 14})\";\n",
       "                var nbb_formatted_code = \"plt.rcParams[\\\"figure.figsize\\\"] = (12, 4)\\nplt.rcParams.update({\\\"font.size\\\": 14})\";\n",
       "                var nbb_cells = Jupyter.notebook.get_cells();\n",
       "                for (var i = 0; i < nbb_cells.length; ++i) {\n",
       "                    if (nbb_cells[i].input_prompt_number == nbb_cell_id) {\n",
       "                        if (nbb_cells[i].get_text() == nbb_unformatted_code) {\n",
       "                             nbb_cells[i].set_text(nbb_formatted_code);\n",
       "                        }\n",
       "                        break;\n",
       "                    }\n",
       "                }\n",
       "            }, 500);\n",
       "            "
      ],
      "text/plain": [
       "<IPython.core.display.Javascript object>"
      ]
     },
     "metadata": {},
     "output_type": "display_data"
    }
   ],
   "source": [
    "plt.rcParams[\"figure.figsize\"] = (12, 4)\n",
    "plt.rcParams.update({\"font.size\": 14})"
   ]
  },
  {
   "cell_type": "code",
   "execution_count": 4,
   "id": "acbbfb81",
   "metadata": {},
   "outputs": [
    {
     "data": {
      "text/html": [
       "<div><div id=8a671869-9e77-4fd2-a670-dd10d6699ccf style=\"display:none; background-color:#9D6CFF; color:white; width:200px; height:30px; padding-left:5px; border-radius:4px; flex-direction:row; justify-content:space-around; align-items:center;\" onmouseover=\"this.style.backgroundColor='#BA9BF8'\" onmouseout=\"this.style.backgroundColor='#9D6CFF'\" onclick=\"window.commands?.execute('create-mitosheet-from-dataframe-output');\">See Full Dataframe in Mito</div> <script> if (window.commands?.hasCommand('create-mitosheet-from-dataframe-output')) document.getElementById('8a671869-9e77-4fd2-a670-dd10d6699ccf').style.display = 'flex' </script> <table border=\"1\" class=\"dataframe\">\n",
       "  <thead>\n",
       "    <tr style=\"text-align: right;\">\n",
       "      <th></th>\n",
       "      <th>timestamp</th>\n",
       "      <th>feat</th>\n",
       "    </tr>\n",
       "  </thead>\n",
       "  <tbody>\n",
       "    <tr>\n",
       "      <th>0</th>\n",
       "      <td>t_0</td>\n",
       "      <td>44.331462</td>\n",
       "    </tr>\n",
       "    <tr>\n",
       "      <th>1</th>\n",
       "      <td>t_1</td>\n",
       "      <td>68.596974</td>\n",
       "    </tr>\n",
       "    <tr>\n",
       "      <th>2</th>\n",
       "      <td>t_2</td>\n",
       "      <td>42.684838</td>\n",
       "    </tr>\n",
       "    <tr>\n",
       "      <th>3</th>\n",
       "      <td>t_3</td>\n",
       "      <td>67.239206</td>\n",
       "    </tr>\n",
       "    <tr>\n",
       "      <th>4</th>\n",
       "      <td>t_4</td>\n",
       "      <td>44.404492</td>\n",
       "    </tr>\n",
       "    <tr>\n",
       "      <th>5</th>\n",
       "      <td>t_5</td>\n",
       "      <td>67.293653</td>\n",
       "    </tr>\n",
       "    <tr>\n",
       "      <th>6</th>\n",
       "      <td>t_6</td>\n",
       "      <td>53.232998</td>\n",
       "    </tr>\n",
       "    <tr>\n",
       "      <th>7</th>\n",
       "      <td>t_7</td>\n",
       "      <td>49.151991</td>\n",
       "    </tr>\n",
       "    <tr>\n",
       "      <th>8</th>\n",
       "      <td>t_8</td>\n",
       "      <td>55.512607</td>\n",
       "    </tr>\n",
       "    <tr>\n",
       "      <th>9</th>\n",
       "      <td>t_9</td>\n",
       "      <td>40.052791</td>\n",
       "    </tr>\n",
       "  </tbody>\n",
       "</table></div>"
      ],
      "text/plain": [
       "  timestamp       feat\n",
       "0       t_0  44.331462\n",
       "1       t_1  68.596974\n",
       "2       t_2  42.684838\n",
       "3       t_3  67.239206\n",
       "4       t_4  44.404492\n",
       "5       t_5  67.293653\n",
       "6       t_6  53.232998\n",
       "7       t_7  49.151991\n",
       "8       t_8  55.512607\n",
       "9       t_9  40.052791"
      ]
     },
     "execution_count": 4,
     "metadata": {},
     "output_type": "execute_result"
    },
    {
     "data": {
      "application/javascript": [
       "\n",
       "            setTimeout(function() {\n",
       "                var nbb_cell_id = 4;\n",
       "                var nbb_unformatted_code = \"feat = np.concatenate(\\n    [\\n        np.random.randint(20000, 80000, 600),\\n        np.random.randint(80000, 120000, 200),\\n        np.random.randint(120000, 180000, 150),\\n        np.random.randint(180000, 250000, 50),\\n    ]\\n)\\n\\nfeat = np.concatenate(\\n    [\\n        np.random.normal(50, 10, 1000),\\n        np.random.uniform(90, 110, 1000),\\n        np.random.normal(170, 20, 2000),\\n    ]\\n)\\n\\n# np.random.shuffle(feat)\\ntimestamp = [\\\"t_\\\" + str(i) for i in range(len(feat))]\\ndf = pd.DataFrame({\\\"timestamp\\\": timestamp, \\\"feat\\\": feat})\\ndf.head(10)\";\n",
       "                var nbb_formatted_code = \"feat = np.concatenate(\\n    [\\n        np.random.randint(20000, 80000, 600),\\n        np.random.randint(80000, 120000, 200),\\n        np.random.randint(120000, 180000, 150),\\n        np.random.randint(180000, 250000, 50),\\n    ]\\n)\\n\\nfeat = np.concatenate(\\n    [\\n        np.random.normal(50, 10, 1000),\\n        np.random.uniform(90, 110, 1000),\\n        np.random.normal(170, 20, 2000),\\n    ]\\n)\\n\\n# np.random.shuffle(feat)\\ntimestamp = [\\\"t_\\\" + str(i) for i in range(len(feat))]\\ndf = pd.DataFrame({\\\"timestamp\\\": timestamp, \\\"feat\\\": feat})\\ndf.head(10)\";\n",
       "                var nbb_cells = Jupyter.notebook.get_cells();\n",
       "                for (var i = 0; i < nbb_cells.length; ++i) {\n",
       "                    if (nbb_cells[i].input_prompt_number == nbb_cell_id) {\n",
       "                        if (nbb_cells[i].get_text() == nbb_unformatted_code) {\n",
       "                             nbb_cells[i].set_text(nbb_formatted_code);\n",
       "                        }\n",
       "                        break;\n",
       "                    }\n",
       "                }\n",
       "            }, 500);\n",
       "            "
      ],
      "text/plain": [
       "<IPython.core.display.Javascript object>"
      ]
     },
     "metadata": {},
     "output_type": "display_data"
    }
   ],
   "source": [
    "feat = np.concatenate(\n",
    "    [\n",
    "        np.random.randint(20000, 80000, 600),\n",
    "        np.random.randint(80000, 120000, 200),\n",
    "        np.random.randint(120000, 180000, 150),\n",
    "        np.random.randint(180000, 250000, 50),\n",
    "    ]\n",
    ")\n",
    "\n",
    "feat = np.concatenate(\n",
    "    [\n",
    "        np.random.normal(50, 10, 1000),\n",
    "        np.random.uniform(90, 110, 1000),\n",
    "        np.random.normal(170, 20, 2000),\n",
    "    ]\n",
    ")\n",
    "\n",
    "# np.random.shuffle(feat)\n",
    "timestamp = [\"t_\" + str(i) for i in range(len(feat))]\n",
    "df = pd.DataFrame({\"timestamp\": timestamp, \"feat\": feat})\n",
    "df.head(10)"
   ]
  },
  {
   "cell_type": "code",
   "execution_count": 5,
   "id": "b9b0689e",
   "metadata": {},
   "outputs": [
    {
     "data": {
      "text/plain": [
       "Text(0, 0.5, 'Feature Value')"
      ]
     },
     "execution_count": 5,
     "metadata": {},
     "output_type": "execute_result"
    },
    {
     "data": {
      "image/png": "[encoded data removed]",
      "text/plain": [
       "<Figure size 864x288 with 1 Axes>"
      ]
     },
     "metadata": {},
     "output_type": "display_data"
    },
    {
     "data": {
      "application/javascript": [
       "\n",
       "            setTimeout(function() {\n",
       "                var nbb_cell_id = 5;\n",
       "                var nbb_unformatted_code = \"plt.figure(figsize=(12, 4))\\nplt.plot(df[\\\"feat\\\"], \\\"o\\\")\\nplt.xlabel(\\\"timestamp\\\")\\nplt.ylabel(\\\"Feature Value\\\")\";\n",
       "                var nbb_formatted_code = \"plt.figure(figsize=(12, 4))\\nplt.plot(df[\\\"feat\\\"], \\\"o\\\")\\nplt.xlabel(\\\"timestamp\\\")\\nplt.ylabel(\\\"Feature Value\\\")\";\n",
       "                var nbb_cells = Jupyter.notebook.get_cells();\n",
       "                for (var i = 0; i < nbb_cells.length; ++i) {\n",
       "                    if (nbb_cells[i].input_prompt_number == nbb_cell_id) {\n",
       "                        if (nbb_cells[i].get_text() == nbb_unformatted_code) {\n",
       "                             nbb_cells[i].set_text(nbb_formatted_code);\n",
       "                        }\n",
       "                        break;\n",
       "                    }\n",
       "                }\n",
       "            }, 500);\n",
       "            "
      ],
      "text/plain": [
       "<IPython.core.display.Javascript object>"
      ]
     },
     "metadata": {},
     "output_type": "display_data"
    }
   ],
   "source": [
    "plt.figure(figsize=(12, 4))\n",
    "plt.plot(df[\"feat\"], \"o\")\n",
    "plt.xlabel(\"timestamp\")\n",
    "plt.ylabel(\"Feature Value\")"
   ]
  },
  {
   "cell_type": "code",
   "execution_count": 6,
   "id": "d8b93185",
   "metadata": {},
   "outputs": [
    {
     "name": "stdout",
     "output_type": "stream",
     "text": [
      "[15.891659567422842, 75.1656271836834, 137.20848401974467, 238.32395876223165]\n"
     ]
    },
    {
     "data": {
      "application/javascript": [
       "\n",
       "            setTimeout(function() {\n",
       "                var nbb_cell_id = 6;\n",
       "                var nbb_unformatted_code = \"nbins = 3\\nbreak_points = jenkspy.jenks_breaks(df[\\\"feat\\\"], nb_class=nbins)\\nprint(break_points)\";\n",
       "                var nbb_formatted_code = \"nbins = 3\\nbreak_points = jenkspy.jenks_breaks(df[\\\"feat\\\"], nb_class=nbins)\\nprint(break_points)\";\n",
       "                var nbb_cells = Jupyter.notebook.get_cells();\n",
       "                for (var i = 0; i < nbb_cells.length; ++i) {\n",
       "                    if (nbb_cells[i].input_prompt_number == nbb_cell_id) {\n",
       "                        if (nbb_cells[i].get_text() == nbb_unformatted_code) {\n",
       "                             nbb_cells[i].set_text(nbb_formatted_code);\n",
       "                        }\n",
       "                        break;\n",
       "                    }\n",
       "                }\n",
       "            }, 500);\n",
       "            "
      ],
      "text/plain": [
       "<IPython.core.display.Javascript object>"
      ]
     },
     "metadata": {},
     "output_type": "display_data"
    }
   ],
   "source": [
    "nbins = 3\n",
    "break_points = jenkspy.jenks_breaks(df[\"feat\"], nb_class=nbins)\n",
    "print(break_points)"
   ]
  },
  {
   "cell_type": "code",
   "execution_count": 7,
   "id": "8eb1423b",
   "metadata": {},
   "outputs": [
    {
     "name": "stdout",
     "output_type": "stream",
     "text": [
      "['group_1', 'group_2', 'group_3']\n"
     ]
    },
    {
     "data": {
      "text/html": [
       "<div><div id=fca31032-cbed-4431-bee7-14041f1a6d20 style=\"display:none; background-color:#9D6CFF; color:white; width:200px; height:30px; padding-left:5px; border-radius:4px; flex-direction:row; justify-content:space-around; align-items:center;\" onmouseover=\"this.style.backgroundColor='#BA9BF8'\" onmouseout=\"this.style.backgroundColor='#9D6CFF'\" onclick=\"window.commands?.execute('create-mitosheet-from-dataframe-output');\">See Full Dataframe in Mito</div> <script> if (window.commands?.hasCommand('create-mitosheet-from-dataframe-output')) document.getElementById('fca31032-cbed-4431-bee7-14041f1a6d20').style.display = 'flex' </script> <table border=\"1\" class=\"dataframe\">\n",
       "  <thead>\n",
       "    <tr style=\"text-align: right;\">\n",
       "      <th></th>\n",
       "      <th>timestamp</th>\n",
       "      <th>feat</th>\n",
       "      <th>feat_bin</th>\n",
       "    </tr>\n",
       "  </thead>\n",
       "  <tbody>\n",
       "    <tr>\n",
       "      <th>2615</th>\n",
       "      <td>t_2615</td>\n",
       "      <td>193.045841</td>\n",
       "      <td>group_3</td>\n",
       "    </tr>\n",
       "    <tr>\n",
       "      <th>1126</th>\n",
       "      <td>t_1126</td>\n",
       "      <td>102.392199</td>\n",
       "      <td>group_2</td>\n",
       "    </tr>\n",
       "    <tr>\n",
       "      <th>2669</th>\n",
       "      <td>t_2669</td>\n",
       "      <td>172.763233</td>\n",
       "      <td>group_3</td>\n",
       "    </tr>\n",
       "    <tr>\n",
       "      <th>3656</th>\n",
       "      <td>t_3656</td>\n",
       "      <td>169.933182</td>\n",
       "      <td>group_3</td>\n",
       "    </tr>\n",
       "    <tr>\n",
       "      <th>505</th>\n",
       "      <td>t_505</td>\n",
       "      <td>40.872414</td>\n",
       "      <td>group_1</td>\n",
       "    </tr>\n",
       "    <tr>\n",
       "      <th>3742</th>\n",
       "      <td>t_3742</td>\n",
       "      <td>172.864447</td>\n",
       "      <td>group_3</td>\n",
       "    </tr>\n",
       "    <tr>\n",
       "      <th>3633</th>\n",
       "      <td>t_3633</td>\n",
       "      <td>137.539884</td>\n",
       "      <td>group_3</td>\n",
       "    </tr>\n",
       "    <tr>\n",
       "      <th>2864</th>\n",
       "      <td>t_2864</td>\n",
       "      <td>176.174214</td>\n",
       "      <td>group_3</td>\n",
       "    </tr>\n",
       "    <tr>\n",
       "      <th>3811</th>\n",
       "      <td>t_3811</td>\n",
       "      <td>169.703589</td>\n",
       "      <td>group_3</td>\n",
       "    </tr>\n",
       "    <tr>\n",
       "      <th>3598</th>\n",
       "      <td>t_3598</td>\n",
       "      <td>186.644179</td>\n",
       "      <td>group_3</td>\n",
       "    </tr>\n",
       "  </tbody>\n",
       "</table></div>"
      ],
      "text/plain": [
       "     timestamp        feat feat_bin\n",
       "2615    t_2615  193.045841  group_3\n",
       "1126    t_1126  102.392199  group_2\n",
       "2669    t_2669  172.763233  group_3\n",
       "3656    t_3656  169.933182  group_3\n",
       "505      t_505   40.872414  group_1\n",
       "3742    t_3742  172.864447  group_3\n",
       "3633    t_3633  137.539884  group_3\n",
       "2864    t_2864  176.174214  group_3\n",
       "3811    t_3811  169.703589  group_3\n",
       "3598    t_3598  186.644179  group_3"
      ]
     },
     "execution_count": 7,
     "metadata": {},
     "output_type": "execute_result"
    },
    {
     "data": {
      "application/javascript": [
       "\n",
       "            setTimeout(function() {\n",
       "                var nbb_cell_id = 7;\n",
       "                var nbb_unformatted_code = \"bin_labels = [\\\"group_\\\" + str(i) for i in range(1, 4)]\\nprint(bin_labels)\\ndf[\\\"feat_bin\\\"] = pd.cut(df[\\\"feat\\\"], bins=break_points, labels=bin_labels)\\ndf.sample(10)\";\n",
       "                var nbb_formatted_code = \"bin_labels = [\\\"group_\\\" + str(i) for i in range(1, 4)]\\nprint(bin_labels)\\ndf[\\\"feat_bin\\\"] = pd.cut(df[\\\"feat\\\"], bins=break_points, labels=bin_labels)\\ndf.sample(10)\";\n",
       "                var nbb_cells = Jupyter.notebook.get_cells();\n",
       "                for (var i = 0; i < nbb_cells.length; ++i) {\n",
       "                    if (nbb_cells[i].input_prompt_number == nbb_cell_id) {\n",
       "                        if (nbb_cells[i].get_text() == nbb_unformatted_code) {\n",
       "                             nbb_cells[i].set_text(nbb_formatted_code);\n",
       "                        }\n",
       "                        break;\n",
       "                    }\n",
       "                }\n",
       "            }, 500);\n",
       "            "
      ],
      "text/plain": [
       "<IPython.core.display.Javascript object>"
      ]
     },
     "metadata": {},
     "output_type": "display_data"
    }
   ],
   "source": [
    "bin_labels = [\"group_\" + str(i) for i in range(1, 4)]\n",
    "print(bin_labels)\n",
    "df[\"feat_bin\"] = pd.cut(df[\"feat\"], bins=break_points, labels=bin_labels)\n",
    "df.sample(10)"
   ]
  },
  {
   "cell_type": "code",
   "execution_count": 8,
   "id": "86c13bde",
   "metadata": {},
   "outputs": [
    {
     "data": {
      "image/png": "[encoded data removed]",
      "text/plain": [
       "<Figure size 864x288 with 2 Axes>"
      ]
     },
     "metadata": {},
     "output_type": "display_data"
    },
    {
     "data": {
      "application/javascript": [
       "\n",
       "            setTimeout(function() {\n",
       "                var nbb_cell_id = 8;\n",
       "                var nbb_unformatted_code = \"plt.subplot(1, 2, 1)\\nhist = plt.hist(df[\\\"feat\\\"], bins=20, align=\\\"left\\\", color=\\\"tab:blue\\\", edgecolor=\\\"black\\\")\\nfor bp in break_points:\\n    plt.vlines(bp, ymin=0, ymax=max(hist[0]), color=\\\"tab:red\\\")\\nplt.xlabel(\\\"Feature\\\")\\nplt.ylabel(\\\"Count\\\")\\nplt.subplot(1, 2, 2)\\ndf[\\\"feat_bin\\\"].value_counts().plot(kind=\\\"bar\\\", rot=0, edgecolor=\\\"black\\\")\\nplt.xlabel(\\\"Feature group\\\")\\nplt.ylabel(\\\"Count\\\")\\nplt.tight_layout()\";\n",
       "                var nbb_formatted_code = \"plt.subplot(1, 2, 1)\\nhist = plt.hist(df[\\\"feat\\\"], bins=20, align=\\\"left\\\", color=\\\"tab:blue\\\", edgecolor=\\\"black\\\")\\nfor bp in break_points:\\n    plt.vlines(bp, ymin=0, ymax=max(hist[0]), color=\\\"tab:red\\\")\\nplt.xlabel(\\\"Feature\\\")\\nplt.ylabel(\\\"Count\\\")\\nplt.subplot(1, 2, 2)\\ndf[\\\"feat_bin\\\"].value_counts().plot(kind=\\\"bar\\\", rot=0, edgecolor=\\\"black\\\")\\nplt.xlabel(\\\"Feature group\\\")\\nplt.ylabel(\\\"Count\\\")\\nplt.tight_layout()\";\n",
       "                var nbb_cells = Jupyter.notebook.get_cells();\n",
       "                for (var i = 0; i < nbb_cells.length; ++i) {\n",
       "                    if (nbb_cells[i].input_prompt_number == nbb_cell_id) {\n",
       "                        if (nbb_cells[i].get_text() == nbb_unformatted_code) {\n",
       "                             nbb_cells[i].set_text(nbb_formatted_code);\n",
       "                        }\n",
       "                        break;\n",
       "                    }\n",
       "                }\n",
       "            }, 500);\n",
       "            "
      ],
      "text/plain": [
       "<IPython.core.display.Javascript object>"
      ]
     },
     "metadata": {},
     "output_type": "display_data"
    }
   ],
   "source": [
    "plt.subplot(1, 2, 1)\n",
    "hist = plt.hist(df[\"feat\"], bins=20, align=\"left\", color=\"tab:blue\", edgecolor=\"black\")\n",
    "for bp in break_points:\n",
    "    plt.vlines(bp, ymin=0, ymax=max(hist[0]), color=\"tab:red\")\n",
    "plt.xlabel(\"Feature\")\n",
    "plt.ylabel(\"Count\")\n",
    "plt.subplot(1, 2, 2)\n",
    "df[\"feat_bin\"].value_counts().plot(kind=\"bar\", rot=0, edgecolor=\"black\")\n",
    "plt.xlabel(\"Feature group\")\n",
    "plt.ylabel(\"Count\")\n",
    "plt.tight_layout()"
   ]
  },
  {
   "cell_type": "code",
   "execution_count": 9,
   "id": "95a0279c",
   "metadata": {},
   "outputs": [
    {
     "data": {
      "text/plain": [
       "Text(0, 0.5, 'Histogram (Count)')"
      ]
     },
     "execution_count": 9,
     "metadata": {},
     "output_type": "execute_result"
    },
    {
     "data": {
      "image/png": "[encoded data removed]",
      "text/plain": [
       "<Figure size 864x288 with 1 Axes>"
      ]
     },
     "metadata": {},
     "output_type": "display_data"
    },
    {
     "data": {
      "application/javascript": [
       "\n",
       "            setTimeout(function() {\n",
       "                var nbb_cell_id = 9;\n",
       "                var nbb_unformatted_code = \"plt.plot(df[\\\"feat\\\"], \\\"o\\\")\\nfor i in break_points:\\n    plt.axhline(\\n        i, color=\\\"tab:red\\\", linestyle=\\\"dashed\\\", linewidth=2,\\n    )\\nplt.xlabel(\\\"Feature Values\\\")\\nplt.ylabel(\\\"Histogram (Count)\\\")\";\n",
       "                var nbb_formatted_code = \"plt.plot(df[\\\"feat\\\"], \\\"o\\\")\\nfor i in break_points:\\n    plt.axhline(\\n        i, color=\\\"tab:red\\\", linestyle=\\\"dashed\\\", linewidth=2,\\n    )\\nplt.xlabel(\\\"Feature Values\\\")\\nplt.ylabel(\\\"Histogram (Count)\\\")\";\n",
       "                var nbb_cells = Jupyter.notebook.get_cells();\n",
       "                for (var i = 0; i < nbb_cells.length; ++i) {\n",
       "                    if (nbb_cells[i].input_prompt_number == nbb_cell_id) {\n",
       "                        if (nbb_cells[i].get_text() == nbb_unformatted_code) {\n",
       "                             nbb_cells[i].set_text(nbb_formatted_code);\n",
       "                        }\n",
       "                        break;\n",
       "                    }\n",
       "                }\n",
       "            }, 500);\n",
       "            "
      ],
      "text/plain": [
       "<IPython.core.display.Javascript object>"
      ]
     },
     "metadata": {},
     "output_type": "display_data"
    }
   ],
   "source": [
    "plt.plot(df[\"feat\"], \"o\")\n",
    "for i in break_points:\n",
    "    plt.axhline(\n",
    "        i, color=\"tab:red\", linestyle=\"dashed\", linewidth=2,\n",
    "    )\n",
    "plt.xlabel(\"Feature Values\")\n",
    "plt.ylabel(\"Histogram (Count)\")"
   ]
  },
  {
   "cell_type": "code",
   "execution_count": null,
   "id": "803da2a2",
   "metadata": {},
   "outputs": [],
   "source": []
  },
  {
   "cell_type": "code",
   "execution_count": null,
   "id": "d46a84c5",
   "metadata": {},
   "outputs": [],
   "source": []
  },
  {
   "cell_type": "code",
   "execution_count": null,
   "id": "d3cbc01f",
   "metadata": {},
   "outputs": [],
   "source": []
  }
 ],
 "metadata": {
  "kernelspec": {
   "display_name": "Python 3 (ipykernel)",
   "language": "python",
   "name": "python3"
  },
  "language_info": {
   "codemirror_mode": {
    "name": "ipython",
    "version": 3
   },
   "file_extension": ".py",
   "mimetype": "text/x-python",
   "name": "python",
   "nbconvert_exporter": "python",
   "pygments_lexer": "ipython3",
   "version": "3.8.13"
  },
  "toc": {
   "base_numbering": 1,
   "nav_menu": {},
   "number_sections": true,
   "sideBar": true,
   "skip_h1_title": false,
   "title_cell": "Table of Contents",
   "title_sidebar": "Contents",
   "toc_cell": false,
   "toc_position": {},
   "toc_section_display": true,
   "toc_window_display": false
  }
 },
 "nbformat": 4,
 "nbformat_minor": 5
}
