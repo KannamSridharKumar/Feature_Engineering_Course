{
 "cells": [
  {
   "cell_type": "code",
   "execution_count": 1,
   "metadata": {
    "slideshow": {
     "slide_type": "-"
    }
   },
   "outputs": [
    {
     "data": {
      "application/javascript": [
       "\n",
       "            setTimeout(function() {\n",
       "                var nbb_cell_id = 1;\n",
       "                var nbb_unformatted_code = \"%load_ext nb_black\";\n",
       "                var nbb_formatted_code = \"%load_ext nb_black\";\n",
       "                var nbb_cells = Jupyter.notebook.get_cells();\n",
       "                for (var i = 0; i < nbb_cells.length; ++i) {\n",
       "                    if (nbb_cells[i].input_prompt_number == nbb_cell_id) {\n",
       "                        if (nbb_cells[i].get_text() == nbb_unformatted_code) {\n",
       "                             nbb_cells[i].set_text(nbb_formatted_code);\n",
       "                        }\n",
       "                        break;\n",
       "                    }\n",
       "                }\n",
       "            }, 500);\n",
       "            "
      ],
      "text/plain": [
       "<IPython.core.display.Javascript object>"
      ]
     },
     "metadata": {},
     "output_type": "display_data"
    }
   ],
   "source": [
    "%load_ext nb_black"
   ]
  },
  {
   "cell_type": "code",
   "execution_count": 2,
   "metadata": {},
   "outputs": [],
   "source": [
    "import random\n",
    "import pandas as pd\n",
    "import numpy as np\n",
    "from scipy import stats\n",
    "import matplotlib.pyplot as plt\n",
    "from sklearn.preprocessing import Binarizer\n",
    "\n",
    "plt.style.use(\"fivethirtyeight\")"
   ]
  },
  {
   "cell_type": "code",
   "execution_count": 3,
   "metadata": {},
   "outputs": [
    {
     "data": {
      "application/javascript": [
       "\n",
       "            setTimeout(function() {\n",
       "                var nbb_cell_id = 3;\n",
       "                var nbb_unformatted_code = \"plt.rcParams[\\\"figure.figsize\\\"] = (12, 4)\\nplt.rcParams[\\\"axes.grid\\\"] = True\\nplt.rcParams.update({\\\"font.size\\\": 14})\";\n",
       "                var nbb_formatted_code = \"plt.rcParams[\\\"figure.figsize\\\"] = (12, 4)\\nplt.rcParams[\\\"axes.grid\\\"] = True\\nplt.rcParams.update({\\\"font.size\\\": 14})\";\n",
       "                var nbb_cells = Jupyter.notebook.get_cells();\n",
       "                for (var i = 0; i < nbb_cells.length; ++i) {\n",
       "                    if (nbb_cells[i].input_prompt_number == nbb_cell_id) {\n",
       "                        if (nbb_cells[i].get_text() == nbb_unformatted_code) {\n",
       "                             nbb_cells[i].set_text(nbb_formatted_code);\n",
       "                        }\n",
       "                        break;\n",
       "                    }\n",
       "                }\n",
       "            }, 500);\n",
       "            "
      ],
      "text/plain": [
       "<IPython.core.display.Javascript object>"
      ]
     },
     "metadata": {},
     "output_type": "display_data"
    }
   ],
   "source": [
    "plt.rcParams[\"figure.figsize\"] = (12, 4)\n",
    "plt.rcParams.update({\"font.size\": 14})"
   ]
  },
  {
   "cell_type": "markdown",
   "metadata": {},
   "source": [
    "### Numerical Features"
   ]
  },
  {
   "cell_type": "markdown",
   "metadata": {},
   "source": [
    "#### Threshold"
   ]
  },
  {
   "cell_type": "code",
   "execution_count": 4,
   "metadata": {},
   "outputs": [
    {
     "data": {
      "text/html": [
       "<div><div id=12ae4e3f-3afe-40a8-98bb-94e404614453 style=\"display:none; background-color:#9D6CFF; color:white; width:200px; height:30px; padding-left:5px; border-radius:4px; flex-direction:row; justify-content:space-around; align-items:center;\" onmouseover=\"this.style.backgroundColor='#BA9BF8'\" onmouseout=\"this.style.backgroundColor='#9D6CFF'\" onclick=\"window.commands?.execute('create-mitosheet-from-dataframe-output');\">See Full Dataframe in Mito</div> <script> if (window.commands?.hasCommand('create-mitosheet-from-dataframe-output')) document.getElementById('12ae4e3f-3afe-40a8-98bb-94e404614453').style.display = 'flex' </script> <table border=\"1\" class=\"dataframe\">\n",
       "  <thead>\n",
       "    <tr style=\"text-align: right;\">\n",
       "      <th></th>\n",
       "      <th>timestamp</th>\n",
       "      <th>voltage</th>\n",
       "    </tr>\n",
       "  </thead>\n",
       "  <tbody>\n",
       "    <tr>\n",
       "      <th>0</th>\n",
       "      <td>t_0</td>\n",
       "      <td>78</td>\n",
       "    </tr>\n",
       "    <tr>\n",
       "      <th>1</th>\n",
       "      <td>t_1</td>\n",
       "      <td>82</td>\n",
       "    </tr>\n",
       "    <tr>\n",
       "      <th>2</th>\n",
       "      <td>t_2</td>\n",
       "      <td>61</td>\n",
       "    </tr>\n",
       "    <tr>\n",
       "      <th>3</th>\n",
       "      <td>t_3</td>\n",
       "      <td>30</td>\n",
       "    </tr>\n",
       "    <tr>\n",
       "      <th>4</th>\n",
       "      <td>t_4</td>\n",
       "      <td>20</td>\n",
       "    </tr>\n",
       "    <tr>\n",
       "      <th>5</th>\n",
       "      <td>t_5</td>\n",
       "      <td>7</td>\n",
       "    </tr>\n",
       "    <tr>\n",
       "      <th>6</th>\n",
       "      <td>t_6</td>\n",
       "      <td>49</td>\n",
       "    </tr>\n",
       "    <tr>\n",
       "      <th>7</th>\n",
       "      <td>t_7</td>\n",
       "      <td>23</td>\n",
       "    </tr>\n",
       "    <tr>\n",
       "      <th>8</th>\n",
       "      <td>t_8</td>\n",
       "      <td>59</td>\n",
       "    </tr>\n",
       "    <tr>\n",
       "      <th>9</th>\n",
       "      <td>t_9</td>\n",
       "      <td>31</td>\n",
       "    </tr>\n",
       "  </tbody>\n",
       "</table></div>"
      ],
      "text/plain": [
       "  timestamp  voltage\n",
       "0       t_0       78\n",
       "1       t_1       82\n",
       "2       t_2       61\n",
       "3       t_3       30\n",
       "4       t_4       20\n",
       "5       t_5        7\n",
       "6       t_6       49\n",
       "7       t_7       23\n",
       "8       t_8       59\n",
       "9       t_9       31"
      ]
     },
     "execution_count": 4,
     "metadata": {},
     "output_type": "execute_result"
    },
    {
     "data": {
      "application/javascript": [
       "\n",
       "            setTimeout(function() {\n",
       "                var nbb_cell_id = 4;\n",
       "                var nbb_unformatted_code = \"voltage = np.random.randint(0, 100, 120)\\ntimestamp = [\\\"t_\\\" + str(i) for i in range(len(voltage))]\\ndf = pd.DataFrame({\\\"timestamp\\\": timestamp, \\\"voltage\\\": voltage})\\ndf.head(10)\";\n",
       "                var nbb_formatted_code = \"voltage = np.random.randint(0, 100, 120)\\ntimestamp = [\\\"t_\\\" + str(i) for i in range(len(voltage))]\\ndf = pd.DataFrame({\\\"timestamp\\\": timestamp, \\\"voltage\\\": voltage})\\ndf.head(10)\";\n",
       "                var nbb_cells = Jupyter.notebook.get_cells();\n",
       "                for (var i = 0; i < nbb_cells.length; ++i) {\n",
       "                    if (nbb_cells[i].input_prompt_number == nbb_cell_id) {\n",
       "                        if (nbb_cells[i].get_text() == nbb_unformatted_code) {\n",
       "                             nbb_cells[i].set_text(nbb_formatted_code);\n",
       "                        }\n",
       "                        break;\n",
       "                    }\n",
       "                }\n",
       "            }, 500);\n",
       "            "
      ],
      "text/plain": [
       "<IPython.core.display.Javascript object>"
      ]
     },
     "metadata": {},
     "output_type": "display_data"
    }
   ],
   "source": [
    "voltage = np.random.randint(0, 100, 120)\n",
    "timestamp = [\"t_\" + str(i) for i in range(len(voltage))]\n",
    "df = pd.DataFrame({\"timestamp\": timestamp, \"voltage\": voltage})\n",
    "df.head(10)"
   ]
  },
  {
   "cell_type": "code",
   "execution_count": 5,
   "metadata": {},
   "outputs": [
    {
     "data": {
      "text/html": [
       "<div><div id=d2afbb09-7849-4ce8-b7e9-05411243e508 style=\"display:none; background-color:#9D6CFF; color:white; width:200px; height:30px; padding-left:5px; border-radius:4px; flex-direction:row; justify-content:space-around; align-items:center;\" onmouseover=\"this.style.backgroundColor='#BA9BF8'\" onmouseout=\"this.style.backgroundColor='#9D6CFF'\" onclick=\"window.commands?.execute('create-mitosheet-from-dataframe-output');\">See Full Dataframe in Mito</div> <script> if (window.commands?.hasCommand('create-mitosheet-from-dataframe-output')) document.getElementById('d2afbb09-7849-4ce8-b7e9-05411243e508').style.display = 'flex' </script> <table border=\"1\" class=\"dataframe\">\n",
       "  <thead>\n",
       "    <tr style=\"text-align: right;\">\n",
       "      <th></th>\n",
       "      <th>timestamp</th>\n",
       "      <th>voltage</th>\n",
       "      <th>voltage_safe_str</th>\n",
       "      <th>voltage_safe_int</th>\n",
       "    </tr>\n",
       "  </thead>\n",
       "  <tbody>\n",
       "    <tr>\n",
       "      <th>0</th>\n",
       "      <td>t_0</td>\n",
       "      <td>78</td>\n",
       "      <td>safe</td>\n",
       "      <td>0</td>\n",
       "    </tr>\n",
       "    <tr>\n",
       "      <th>1</th>\n",
       "      <td>t_1</td>\n",
       "      <td>82</td>\n",
       "      <td>unsafe</td>\n",
       "      <td>1</td>\n",
       "    </tr>\n",
       "    <tr>\n",
       "      <th>2</th>\n",
       "      <td>t_2</td>\n",
       "      <td>61</td>\n",
       "      <td>safe</td>\n",
       "      <td>0</td>\n",
       "    </tr>\n",
       "    <tr>\n",
       "      <th>3</th>\n",
       "      <td>t_3</td>\n",
       "      <td>30</td>\n",
       "      <td>safe</td>\n",
       "      <td>0</td>\n",
       "    </tr>\n",
       "    <tr>\n",
       "      <th>4</th>\n",
       "      <td>t_4</td>\n",
       "      <td>20</td>\n",
       "      <td>safe</td>\n",
       "      <td>0</td>\n",
       "    </tr>\n",
       "    <tr>\n",
       "      <th>5</th>\n",
       "      <td>t_5</td>\n",
       "      <td>7</td>\n",
       "      <td>safe</td>\n",
       "      <td>0</td>\n",
       "    </tr>\n",
       "    <tr>\n",
       "      <th>6</th>\n",
       "      <td>t_6</td>\n",
       "      <td>49</td>\n",
       "      <td>safe</td>\n",
       "      <td>0</td>\n",
       "    </tr>\n",
       "    <tr>\n",
       "      <th>7</th>\n",
       "      <td>t_7</td>\n",
       "      <td>23</td>\n",
       "      <td>safe</td>\n",
       "      <td>0</td>\n",
       "    </tr>\n",
       "    <tr>\n",
       "      <th>8</th>\n",
       "      <td>t_8</td>\n",
       "      <td>59</td>\n",
       "      <td>safe</td>\n",
       "      <td>0</td>\n",
       "    </tr>\n",
       "    <tr>\n",
       "      <th>9</th>\n",
       "      <td>t_9</td>\n",
       "      <td>31</td>\n",
       "      <td>safe</td>\n",
       "      <td>0</td>\n",
       "    </tr>\n",
       "  </tbody>\n",
       "</table></div>"
      ],
      "text/plain": [
       "  timestamp  voltage voltage_safe_str  voltage_safe_int\n",
       "0       t_0       78             safe                 0\n",
       "1       t_1       82           unsafe                 1\n",
       "2       t_2       61             safe                 0\n",
       "3       t_3       30             safe                 0\n",
       "4       t_4       20             safe                 0\n",
       "5       t_5        7             safe                 0\n",
       "6       t_6       49             safe                 0\n",
       "7       t_7       23             safe                 0\n",
       "8       t_8       59             safe                 0\n",
       "9       t_9       31             safe                 0"
      ]
     },
     "execution_count": 5,
     "metadata": {},
     "output_type": "execute_result"
    },
    {
     "data": {
      "application/javascript": [
       "\n",
       "            setTimeout(function() {\n",
       "                var nbb_cell_id = 5;\n",
       "                var nbb_unformatted_code = \"df[\\\"voltage_safe_str\\\"] = np.where(df[\\\"voltage\\\"] < 80, \\\"safe\\\", \\\"unsafe\\\")\\ndf[\\\"voltage_safe_int\\\"] = np.where(df[\\\"voltage\\\"] < 80, 0, 1)\\ndf.head(10)\";\n",
       "                var nbb_formatted_code = \"df[\\\"voltage_safe_str\\\"] = np.where(df[\\\"voltage\\\"] < 80, \\\"safe\\\", \\\"unsafe\\\")\\ndf[\\\"voltage_safe_int\\\"] = np.where(df[\\\"voltage\\\"] < 80, 0, 1)\\ndf.head(10)\";\n",
       "                var nbb_cells = Jupyter.notebook.get_cells();\n",
       "                for (var i = 0; i < nbb_cells.length; ++i) {\n",
       "                    if (nbb_cells[i].input_prompt_number == nbb_cell_id) {\n",
       "                        if (nbb_cells[i].get_text() == nbb_unformatted_code) {\n",
       "                             nbb_cells[i].set_text(nbb_formatted_code);\n",
       "                        }\n",
       "                        break;\n",
       "                    }\n",
       "                }\n",
       "            }, 500);\n",
       "            "
      ],
      "text/plain": [
       "<IPython.core.display.Javascript object>"
      ]
     },
     "metadata": {},
     "output_type": "display_data"
    }
   ],
   "source": [
    "df[\"voltage_safe_str\"] = np.where(df[\"voltage\"] < 80, \"safe\", \"unsafe\")\n",
    "df[\"voltage_safe_int\"] = np.where(df[\"voltage\"] < 80, 0, 1)\n",
    "df.head(10)"
   ]
  },
  {
   "cell_type": "code",
   "execution_count": 6,
   "metadata": {},
   "outputs": [
    {
     "data": {
      "text/plain": [
       "Text(0, 0.5, 'Count')"
      ]
     },
     "execution_count": 6,
     "metadata": {},
     "output_type": "execute_result"
    },
    {
     "data": {
      "image/png": "[encoded data removed]",
      "text/plain": [
       "<Figure size 864x288 with 2 Axes>"
      ]
     },
     "metadata": {},
     "output_type": "display_data"
    },
    {
     "data": {
      "application/javascript": [
       "\n",
       "            setTimeout(function() {\n",
       "                var nbb_cell_id = 6;\n",
       "                var nbb_unformatted_code = \"plt.subplot(1, 2, 1)\\nplt.hist(df[\\\"voltage\\\"], bins=20, edgecolor=\\\"black\\\")\\nplt.xlabel(\\\"Voltage\\\")\\nplt.ylabel(\\\"Hist (Count)\\\")\\nplt.subplot(1, 2, 2)\\ndf[\\\"voltage_safe_str\\\"].value_counts().plot(kind=\\\"bar\\\", rot=0, edgecolor=\\\"black\\\")\\nplt.xlabel(\\\"Voltage\\\")\\nplt.ylabel(\\\"Count\\\")\";\n",
       "                var nbb_formatted_code = \"plt.subplot(1, 2, 1)\\nplt.hist(df[\\\"voltage\\\"], bins=20, edgecolor=\\\"black\\\")\\nplt.xlabel(\\\"Voltage\\\")\\nplt.ylabel(\\\"Hist (Count)\\\")\\nplt.subplot(1, 2, 2)\\ndf[\\\"voltage_safe_str\\\"].value_counts().plot(kind=\\\"bar\\\", rot=0, edgecolor=\\\"black\\\")\\nplt.xlabel(\\\"Voltage\\\")\\nplt.ylabel(\\\"Count\\\")\";\n",
       "                var nbb_cells = Jupyter.notebook.get_cells();\n",
       "                for (var i = 0; i < nbb_cells.length; ++i) {\n",
       "                    if (nbb_cells[i].input_prompt_number == nbb_cell_id) {\n",
       "                        if (nbb_cells[i].get_text() == nbb_unformatted_code) {\n",
       "                             nbb_cells[i].set_text(nbb_formatted_code);\n",
       "                        }\n",
       "                        break;\n",
       "                    }\n",
       "                }\n",
       "            }, 500);\n",
       "            "
      ],
      "text/plain": [
       "<IPython.core.display.Javascript object>"
      ]
     },
     "metadata": {},
     "output_type": "display_data"
    }
   ],
   "source": [
    "plt.subplot(1, 2, 1)\n",
    "plt.hist(df[\"voltage\"], bins=20, edgecolor=\"black\")\n",
    "plt.xlabel(\"Voltage\")\n",
    "plt.ylabel(\"Hist (Count)\")\n",
    "plt.subplot(1, 2, 2)\n",
    "df[\"voltage_safe_str\"].value_counts().plot(kind=\"bar\", rot=0, edgecolor=\"black\")\n",
    "plt.xlabel(\"Voltage\")\n",
    "plt.ylabel(\"Count\")"
   ]
  },
  {
   "cell_type": "code",
   "execution_count": 7,
   "metadata": {},
   "outputs": [
    {
     "data": {
      "text/html": [
       "<div><div id=7b746014-84d2-45f9-b9a6-4ea1a28be768 style=\"display:none; background-color:#9D6CFF; color:white; width:200px; height:30px; padding-left:5px; border-radius:4px; flex-direction:row; justify-content:space-around; align-items:center;\" onmouseover=\"this.style.backgroundColor='#BA9BF8'\" onmouseout=\"this.style.backgroundColor='#9D6CFF'\" onclick=\"window.commands?.execute('create-mitosheet-from-dataframe-output');\">See Full Dataframe in Mito</div> <script> if (window.commands?.hasCommand('create-mitosheet-from-dataframe-output')) document.getElementById('7b746014-84d2-45f9-b9a6-4ea1a28be768').style.display = 'flex' </script> <table border=\"1\" class=\"dataframe\">\n",
       "  <thead>\n",
       "    <tr style=\"text-align: right;\">\n",
       "      <th></th>\n",
       "      <th>song_id</th>\n",
       "      <th>listen_count</th>\n",
       "    </tr>\n",
       "  </thead>\n",
       "  <tbody>\n",
       "    <tr>\n",
       "      <th>0</th>\n",
       "      <td>song_id_0</td>\n",
       "      <td>1</td>\n",
       "    </tr>\n",
       "    <tr>\n",
       "      <th>1</th>\n",
       "      <td>song_id_1</td>\n",
       "      <td>91</td>\n",
       "    </tr>\n",
       "    <tr>\n",
       "      <th>2</th>\n",
       "      <td>song_id_2</td>\n",
       "      <td>0</td>\n",
       "    </tr>\n",
       "    <tr>\n",
       "      <th>3</th>\n",
       "      <td>song_id_3</td>\n",
       "      <td>6</td>\n",
       "    </tr>\n",
       "    <tr>\n",
       "      <th>4</th>\n",
       "      <td>song_id_4</td>\n",
       "      <td>1</td>\n",
       "    </tr>\n",
       "    <tr>\n",
       "      <th>5</th>\n",
       "      <td>song_id_5</td>\n",
       "      <td>43</td>\n",
       "    </tr>\n",
       "    <tr>\n",
       "      <th>6</th>\n",
       "      <td>song_id_6</td>\n",
       "      <td>7</td>\n",
       "    </tr>\n",
       "    <tr>\n",
       "      <th>7</th>\n",
       "      <td>song_id_7</td>\n",
       "      <td>91</td>\n",
       "    </tr>\n",
       "    <tr>\n",
       "      <th>8</th>\n",
       "      <td>song_id_8</td>\n",
       "      <td>10</td>\n",
       "    </tr>\n",
       "    <tr>\n",
       "      <th>9</th>\n",
       "      <td>song_id_9</td>\n",
       "      <td>2</td>\n",
       "    </tr>\n",
       "  </tbody>\n",
       "</table></div>"
      ],
      "text/plain": [
       "     song_id  listen_count\n",
       "0  song_id_0             1\n",
       "1  song_id_1            91\n",
       "2  song_id_2             0\n",
       "3  song_id_3             6\n",
       "4  song_id_4             1\n",
       "5  song_id_5            43\n",
       "6  song_id_6             7\n",
       "7  song_id_7            91\n",
       "8  song_id_8            10\n",
       "9  song_id_9             2"
      ]
     },
     "execution_count": 7,
     "metadata": {},
     "output_type": "execute_result"
    },
    {
     "data": {
      "application/javascript": [
       "\n",
       "            setTimeout(function() {\n",
       "                var nbb_cell_id = 7;\n",
       "                var nbb_unformatted_code = \"feat = np.concatenate(\\n    [\\n        np.random.randint(0, 1, 100),\\n        np.random.randint(0, 10, 100),\\n        np.random.randint(10, 100, 100),\\n    ]\\n)\\nnp.random.shuffle(feat)\\nsong_id = [\\\"song_id_\\\" + str(i) for i in range(len(feat))]\\ndf = pd.DataFrame({\\\"song_id\\\": song_id, \\\"listen_count\\\": feat})\\ndf.head(10)\";\n",
       "                var nbb_formatted_code = \"feat = np.concatenate(\\n    [\\n        np.random.randint(0, 1, 100),\\n        np.random.randint(0, 10, 100),\\n        np.random.randint(10, 100, 100),\\n    ]\\n)\\nnp.random.shuffle(feat)\\nsong_id = [\\\"song_id_\\\" + str(i) for i in range(len(feat))]\\ndf = pd.DataFrame({\\\"song_id\\\": song_id, \\\"listen_count\\\": feat})\\ndf.head(10)\";\n",
       "                var nbb_cells = Jupyter.notebook.get_cells();\n",
       "                for (var i = 0; i < nbb_cells.length; ++i) {\n",
       "                    if (nbb_cells[i].input_prompt_number == nbb_cell_id) {\n",
       "                        if (nbb_cells[i].get_text() == nbb_unformatted_code) {\n",
       "                             nbb_cells[i].set_text(nbb_formatted_code);\n",
       "                        }\n",
       "                        break;\n",
       "                    }\n",
       "                }\n",
       "            }, 500);\n",
       "            "
      ],
      "text/plain": [
       "<IPython.core.display.Javascript object>"
      ]
     },
     "metadata": {},
     "output_type": "display_data"
    }
   ],
   "source": [
    "feat = np.concatenate(\n",
    "    [\n",
    "        np.random.randint(0, 1, 100),\n",
    "        np.random.randint(0, 10, 100),\n",
    "        np.random.randint(10, 100, 100),\n",
    "    ]\n",
    ")\n",
    "np.random.shuffle(feat)\n",
    "song_id = [\"song_id_\" + str(i) for i in range(len(feat))]\n",
    "df = pd.DataFrame({\"song_id\": song_id, \"listen_count\": feat})\n",
    "df.head(10)"
   ]
  },
  {
   "cell_type": "code",
   "execution_count": 8,
   "metadata": {},
   "outputs": [
    {
     "data": {
      "text/html": [
       "<div><div id=801e92a8-f9b9-42e4-93f9-b4ebfe4e9eb6 style=\"display:none; background-color:#9D6CFF; color:white; width:200px; height:30px; padding-left:5px; border-radius:4px; flex-direction:row; justify-content:space-around; align-items:center;\" onmouseover=\"this.style.backgroundColor='#BA9BF8'\" onmouseout=\"this.style.backgroundColor='#9D6CFF'\" onclick=\"window.commands?.execute('create-mitosheet-from-dataframe-output');\">See Full Dataframe in Mito</div> <script> if (window.commands?.hasCommand('create-mitosheet-from-dataframe-output')) document.getElementById('801e92a8-f9b9-42e4-93f9-b4ebfe4e9eb6').style.display = 'flex' </script> <table border=\"1\" class=\"dataframe\">\n",
       "  <thead>\n",
       "    <tr style=\"text-align: right;\">\n",
       "      <th></th>\n",
       "      <th>song_id</th>\n",
       "      <th>listen_count</th>\n",
       "      <th>like_str</th>\n",
       "      <th>like_int</th>\n",
       "    </tr>\n",
       "  </thead>\n",
       "  <tbody>\n",
       "    <tr>\n",
       "      <th>0</th>\n",
       "      <td>song_id_0</td>\n",
       "      <td>1</td>\n",
       "      <td>unlike</td>\n",
       "      <td>0</td>\n",
       "    </tr>\n",
       "    <tr>\n",
       "      <th>1</th>\n",
       "      <td>song_id_1</td>\n",
       "      <td>91</td>\n",
       "      <td>like</td>\n",
       "      <td>1</td>\n",
       "    </tr>\n",
       "    <tr>\n",
       "      <th>2</th>\n",
       "      <td>song_id_2</td>\n",
       "      <td>0</td>\n",
       "      <td>unlike</td>\n",
       "      <td>0</td>\n",
       "    </tr>\n",
       "    <tr>\n",
       "      <th>3</th>\n",
       "      <td>song_id_3</td>\n",
       "      <td>6</td>\n",
       "      <td>like</td>\n",
       "      <td>1</td>\n",
       "    </tr>\n",
       "    <tr>\n",
       "      <th>4</th>\n",
       "      <td>song_id_4</td>\n",
       "      <td>1</td>\n",
       "      <td>unlike</td>\n",
       "      <td>0</td>\n",
       "    </tr>\n",
       "    <tr>\n",
       "      <th>5</th>\n",
       "      <td>song_id_5</td>\n",
       "      <td>43</td>\n",
       "      <td>like</td>\n",
       "      <td>1</td>\n",
       "    </tr>\n",
       "    <tr>\n",
       "      <th>6</th>\n",
       "      <td>song_id_6</td>\n",
       "      <td>7</td>\n",
       "      <td>like</td>\n",
       "      <td>1</td>\n",
       "    </tr>\n",
       "    <tr>\n",
       "      <th>7</th>\n",
       "      <td>song_id_7</td>\n",
       "      <td>91</td>\n",
       "      <td>like</td>\n",
       "      <td>1</td>\n",
       "    </tr>\n",
       "    <tr>\n",
       "      <th>8</th>\n",
       "      <td>song_id_8</td>\n",
       "      <td>10</td>\n",
       "      <td>like</td>\n",
       "      <td>1</td>\n",
       "    </tr>\n",
       "    <tr>\n",
       "      <th>9</th>\n",
       "      <td>song_id_9</td>\n",
       "      <td>2</td>\n",
       "      <td>like</td>\n",
       "      <td>1</td>\n",
       "    </tr>\n",
       "  </tbody>\n",
       "</table></div>"
      ],
      "text/plain": [
       "     song_id  listen_count like_str  like_int\n",
       "0  song_id_0             1   unlike         0\n",
       "1  song_id_1            91     like         1\n",
       "2  song_id_2             0   unlike         0\n",
       "3  song_id_3             6     like         1\n",
       "4  song_id_4             1   unlike         0\n",
       "5  song_id_5            43     like         1\n",
       "6  song_id_6             7     like         1\n",
       "7  song_id_7            91     like         1\n",
       "8  song_id_8            10     like         1\n",
       "9  song_id_9             2     like         1"
      ]
     },
     "execution_count": 8,
     "metadata": {},
     "output_type": "execute_result"
    },
    {
     "data": {
      "application/javascript": [
       "\n",
       "            setTimeout(function() {\n",
       "                var nbb_cell_id = 8;\n",
       "                var nbb_unformatted_code = \"df[\\\"like_str\\\"] = np.where(df[\\\"listen_count\\\"] > 1, \\\"like\\\", \\\"unlike\\\")\\n\\nbn = Binarizer(threshold=1)\\ndf[\\\"like_int\\\"] = bn.transform([df[\\\"listen_count\\\"]])[0]\\n\\ndf.head(10)\";\n",
       "                var nbb_formatted_code = \"df[\\\"like_str\\\"] = np.where(df[\\\"listen_count\\\"] > 1, \\\"like\\\", \\\"unlike\\\")\\n\\nbn = Binarizer(threshold=1)\\ndf[\\\"like_int\\\"] = bn.transform([df[\\\"listen_count\\\"]])[0]\\n\\ndf.head(10)\";\n",
       "                var nbb_cells = Jupyter.notebook.get_cells();\n",
       "                for (var i = 0; i < nbb_cells.length; ++i) {\n",
       "                    if (nbb_cells[i].input_prompt_number == nbb_cell_id) {\n",
       "                        if (nbb_cells[i].get_text() == nbb_unformatted_code) {\n",
       "                             nbb_cells[i].set_text(nbb_formatted_code);\n",
       "                        }\n",
       "                        break;\n",
       "                    }\n",
       "                }\n",
       "            }, 500);\n",
       "            "
      ],
      "text/plain": [
       "<IPython.core.display.Javascript object>"
      ]
     },
     "metadata": {},
     "output_type": "display_data"
    }
   ],
   "source": [
    "df[\"like_str\"] = np.where(df[\"listen_count\"] > 1, \"like\", \"unlike\")\n",
    "\n",
    "bn = Binarizer(threshold=1)\n",
    "df[\"like_int\"] = bn.transform([df[\"listen_count\"]])[0]\n",
    "\n",
    "df.head(10)"
   ]
  },
  {
   "cell_type": "code",
   "execution_count": 9,
   "metadata": {},
   "outputs": [
    {
     "data": {
      "image/png": "[encoded data removed]",
      "text/plain": [
       "<Figure size 864x288 with 3 Axes>"
      ]
     },
     "metadata": {},
     "output_type": "display_data"
    },
    {
     "data": {
      "application/javascript": [
       "\n",
       "            setTimeout(function() {\n",
       "                var nbb_cell_id = 9;\n",
       "                var nbb_unformatted_code = \"plt.subplot(1, 3, 1)\\nplt.hist(df[\\\"listen_count\\\"], bins=20, edgecolor=\\\"black\\\")\\nplt.xlabel(\\\"listen count\\\")\\nplt.ylabel(\\\"# of songs\\\")\\nplt.subplot(1, 3, 2)\\nplt.hist(df[\\\"listen_count\\\"], bins=20, edgecolor=\\\"black\\\", range=[0, 10])\\nplt.xlabel(\\\"listen count\\\")\\nplt.ylabel(\\\"# of songs\\\")\\nplt.subplot(1, 3, 3)\\ndf[\\\"like_str\\\"].value_counts().plot(kind=\\\"bar\\\", rot=0, edgecolor=\\\"black\\\")\\nplt.xlabel(\\\"listen\\\")\\nplt.ylabel(\\\"# of songs\\\")\\nplt.tight_layout()\";\n",
       "                var nbb_formatted_code = \"plt.subplot(1, 3, 1)\\nplt.hist(df[\\\"listen_count\\\"], bins=20, edgecolor=\\\"black\\\")\\nplt.xlabel(\\\"listen count\\\")\\nplt.ylabel(\\\"# of songs\\\")\\nplt.subplot(1, 3, 2)\\nplt.hist(df[\\\"listen_count\\\"], bins=20, edgecolor=\\\"black\\\", range=[0, 10])\\nplt.xlabel(\\\"listen count\\\")\\nplt.ylabel(\\\"# of songs\\\")\\nplt.subplot(1, 3, 3)\\ndf[\\\"like_str\\\"].value_counts().plot(kind=\\\"bar\\\", rot=0, edgecolor=\\\"black\\\")\\nplt.xlabel(\\\"listen\\\")\\nplt.ylabel(\\\"# of songs\\\")\\nplt.tight_layout()\";\n",
       "                var nbb_cells = Jupyter.notebook.get_cells();\n",
       "                for (var i = 0; i < nbb_cells.length; ++i) {\n",
       "                    if (nbb_cells[i].input_prompt_number == nbb_cell_id) {\n",
       "                        if (nbb_cells[i].get_text() == nbb_unformatted_code) {\n",
       "                             nbb_cells[i].set_text(nbb_formatted_code);\n",
       "                        }\n",
       "                        break;\n",
       "                    }\n",
       "                }\n",
       "            }, 500);\n",
       "            "
      ],
      "text/plain": [
       "<IPython.core.display.Javascript object>"
      ]
     },
     "metadata": {},
     "output_type": "display_data"
    }
   ],
   "source": [
    "plt.subplot(1, 3, 1)\n",
    "plt.hist(df[\"listen_count\"], bins=20, edgecolor=\"black\")\n",
    "plt.xlabel(\"listen count\")\n",
    "plt.ylabel(\"# of songs\")\n",
    "plt.subplot(1, 3, 2)\n",
    "plt.hist(df[\"listen_count\"], bins=20, edgecolor=\"black\", range=[0, 10])\n",
    "plt.xlabel(\"listen count\")\n",
    "plt.ylabel(\"# of songs\")\n",
    "plt.subplot(1, 3, 3)\n",
    "df[\"like_str\"].value_counts().plot(kind=\"bar\", rot=0, edgecolor=\"black\")\n",
    "plt.xlabel(\"listen\")\n",
    "plt.ylabel(\"# of songs\")\n",
    "plt.tight_layout()"
   ]
  },
  {
   "cell_type": "markdown",
   "metadata": {},
   "source": [
    "#### Positive vs Negative"
   ]
  },
  {
   "cell_type": "code",
   "execution_count": 10,
   "metadata": {},
   "outputs": [
    {
     "data": {
      "text/html": [
       "<div><div id=425aeb97-dd29-4677-9214-4a05f318bc78 style=\"display:none; background-color:#9D6CFF; color:white; width:200px; height:30px; padding-left:5px; border-radius:4px; flex-direction:row; justify-content:space-around; align-items:center;\" onmouseover=\"this.style.backgroundColor='#BA9BF8'\" onmouseout=\"this.style.backgroundColor='#9D6CFF'\" onclick=\"window.commands?.execute('create-mitosheet-from-dataframe-output');\">See Full Dataframe in Mito</div> <script> if (window.commands?.hasCommand('create-mitosheet-from-dataframe-output')) document.getElementById('425aeb97-dd29-4677-9214-4a05f318bc78').style.display = 'flex' </script> <table border=\"1\" class=\"dataframe\">\n",
       "  <thead>\n",
       "    <tr style=\"text-align: right;\">\n",
       "      <th></th>\n",
       "      <th>review_id</th>\n",
       "      <th>sentiment_score</th>\n",
       "    </tr>\n",
       "  </thead>\n",
       "  <tbody>\n",
       "    <tr>\n",
       "      <th>0</th>\n",
       "      <td>review_id_0</td>\n",
       "      <td>-6</td>\n",
       "    </tr>\n",
       "    <tr>\n",
       "      <th>1</th>\n",
       "      <td>review_id_1</td>\n",
       "      <td>0</td>\n",
       "    </tr>\n",
       "    <tr>\n",
       "      <th>2</th>\n",
       "      <td>review_id_2</td>\n",
       "      <td>-9</td>\n",
       "    </tr>\n",
       "    <tr>\n",
       "      <th>3</th>\n",
       "      <td>review_id_3</td>\n",
       "      <td>-5</td>\n",
       "    </tr>\n",
       "    <tr>\n",
       "      <th>4</th>\n",
       "      <td>review_id_4</td>\n",
       "      <td>8</td>\n",
       "    </tr>\n",
       "    <tr>\n",
       "      <th>5</th>\n",
       "      <td>review_id_5</td>\n",
       "      <td>-4</td>\n",
       "    </tr>\n",
       "    <tr>\n",
       "      <th>6</th>\n",
       "      <td>review_id_6</td>\n",
       "      <td>-1</td>\n",
       "    </tr>\n",
       "    <tr>\n",
       "      <th>7</th>\n",
       "      <td>review_id_7</td>\n",
       "      <td>-7</td>\n",
       "    </tr>\n",
       "    <tr>\n",
       "      <th>8</th>\n",
       "      <td>review_id_8</td>\n",
       "      <td>8</td>\n",
       "    </tr>\n",
       "    <tr>\n",
       "      <th>9</th>\n",
       "      <td>review_id_9</td>\n",
       "      <td>9</td>\n",
       "    </tr>\n",
       "  </tbody>\n",
       "</table></div>"
      ],
      "text/plain": [
       "     review_id  sentiment_score\n",
       "0  review_id_0               -6\n",
       "1  review_id_1                0\n",
       "2  review_id_2               -9\n",
       "3  review_id_3               -5\n",
       "4  review_id_4                8\n",
       "5  review_id_5               -4\n",
       "6  review_id_6               -1\n",
       "7  review_id_7               -7\n",
       "8  review_id_8                8\n",
       "9  review_id_9                9"
      ]
     },
     "execution_count": 10,
     "metadata": {},
     "output_type": "execute_result"
    },
    {
     "data": {
      "application/javascript": [
       "\n",
       "            setTimeout(function() {\n",
       "                var nbb_cell_id = 10;\n",
       "                var nbb_unformatted_code = \"sentiment_score = np.random.randint(-10, 10, 100)\\nreview_id = [\\\"review_id_\\\" + str(i) for i in range(len(sentiment_score))]\\ndf = pd.DataFrame({\\\"review_id\\\": review_id, \\\"sentiment_score\\\": sentiment_score})\\ndf.head(10)\";\n",
       "                var nbb_formatted_code = \"sentiment_score = np.random.randint(-10, 10, 100)\\nreview_id = [\\\"review_id_\\\" + str(i) for i in range(len(sentiment_score))]\\ndf = pd.DataFrame({\\\"review_id\\\": review_id, \\\"sentiment_score\\\": sentiment_score})\\ndf.head(10)\";\n",
       "                var nbb_cells = Jupyter.notebook.get_cells();\n",
       "                for (var i = 0; i < nbb_cells.length; ++i) {\n",
       "                    if (nbb_cells[i].input_prompt_number == nbb_cell_id) {\n",
       "                        if (nbb_cells[i].get_text() == nbb_unformatted_code) {\n",
       "                             nbb_cells[i].set_text(nbb_formatted_code);\n",
       "                        }\n",
       "                        break;\n",
       "                    }\n",
       "                }\n",
       "            }, 500);\n",
       "            "
      ],
      "text/plain": [
       "<IPython.core.display.Javascript object>"
      ]
     },
     "metadata": {},
     "output_type": "display_data"
    }
   ],
   "source": [
    "sentiment_score = np.random.randint(-10, 10, 100)\n",
    "review_id = [\"review_id_\" + str(i) for i in range(len(sentiment_score))]\n",
    "df = pd.DataFrame({\"review_id\": review_id, \"sentiment_score\": sentiment_score})\n",
    "df.head(10)"
   ]
  },
  {
   "cell_type": "code",
   "execution_count": 11,
   "metadata": {},
   "outputs": [
    {
     "data": {
      "text/html": [
       "<div><div id=2c828498-bfd7-4649-90a3-39c3ad3d5923 style=\"display:none; background-color:#9D6CFF; color:white; width:200px; height:30px; padding-left:5px; border-radius:4px; flex-direction:row; justify-content:space-around; align-items:center;\" onmouseover=\"this.style.backgroundColor='#BA9BF8'\" onmouseout=\"this.style.backgroundColor='#9D6CFF'\" onclick=\"window.commands?.execute('create-mitosheet-from-dataframe-output');\">See Full Dataframe in Mito</div> <script> if (window.commands?.hasCommand('create-mitosheet-from-dataframe-output')) document.getElementById('2c828498-bfd7-4649-90a3-39c3ad3d5923').style.display = 'flex' </script> <table border=\"1\" class=\"dataframe\">\n",
       "  <thead>\n",
       "    <tr style=\"text-align: right;\">\n",
       "      <th></th>\n",
       "      <th>review_id</th>\n",
       "      <th>sentiment_score</th>\n",
       "      <th>sentiment_polarity</th>\n",
       "      <th>sentiment_polarity_int</th>\n",
       "    </tr>\n",
       "  </thead>\n",
       "  <tbody>\n",
       "    <tr>\n",
       "      <th>0</th>\n",
       "      <td>review_id_0</td>\n",
       "      <td>-6</td>\n",
       "      <td>negative</td>\n",
       "      <td>0</td>\n",
       "    </tr>\n",
       "    <tr>\n",
       "      <th>1</th>\n",
       "      <td>review_id_1</td>\n",
       "      <td>0</td>\n",
       "      <td>positive</td>\n",
       "      <td>1</td>\n",
       "    </tr>\n",
       "    <tr>\n",
       "      <th>2</th>\n",
       "      <td>review_id_2</td>\n",
       "      <td>-9</td>\n",
       "      <td>negative</td>\n",
       "      <td>0</td>\n",
       "    </tr>\n",
       "    <tr>\n",
       "      <th>3</th>\n",
       "      <td>review_id_3</td>\n",
       "      <td>-5</td>\n",
       "      <td>negative</td>\n",
       "      <td>0</td>\n",
       "    </tr>\n",
       "    <tr>\n",
       "      <th>4</th>\n",
       "      <td>review_id_4</td>\n",
       "      <td>8</td>\n",
       "      <td>positive</td>\n",
       "      <td>1</td>\n",
       "    </tr>\n",
       "    <tr>\n",
       "      <th>5</th>\n",
       "      <td>review_id_5</td>\n",
       "      <td>-4</td>\n",
       "      <td>negative</td>\n",
       "      <td>0</td>\n",
       "    </tr>\n",
       "    <tr>\n",
       "      <th>6</th>\n",
       "      <td>review_id_6</td>\n",
       "      <td>-1</td>\n",
       "      <td>negative</td>\n",
       "      <td>0</td>\n",
       "    </tr>\n",
       "    <tr>\n",
       "      <th>7</th>\n",
       "      <td>review_id_7</td>\n",
       "      <td>-7</td>\n",
       "      <td>negative</td>\n",
       "      <td>0</td>\n",
       "    </tr>\n",
       "    <tr>\n",
       "      <th>8</th>\n",
       "      <td>review_id_8</td>\n",
       "      <td>8</td>\n",
       "      <td>positive</td>\n",
       "      <td>1</td>\n",
       "    </tr>\n",
       "    <tr>\n",
       "      <th>9</th>\n",
       "      <td>review_id_9</td>\n",
       "      <td>9</td>\n",
       "      <td>positive</td>\n",
       "      <td>1</td>\n",
       "    </tr>\n",
       "  </tbody>\n",
       "</table></div>"
      ],
      "text/plain": [
       "     review_id  sentiment_score sentiment_polarity  sentiment_polarity_int\n",
       "0  review_id_0               -6           negative                       0\n",
       "1  review_id_1                0           positive                       1\n",
       "2  review_id_2               -9           negative                       0\n",
       "3  review_id_3               -5           negative                       0\n",
       "4  review_id_4                8           positive                       1\n",
       "5  review_id_5               -4           negative                       0\n",
       "6  review_id_6               -1           negative                       0\n",
       "7  review_id_7               -7           negative                       0\n",
       "8  review_id_8                8           positive                       1\n",
       "9  review_id_9                9           positive                       1"
      ]
     },
     "execution_count": 11,
     "metadata": {},
     "output_type": "execute_result"
    },
    {
     "data": {
      "application/javascript": [
       "\n",
       "            setTimeout(function() {\n",
       "                var nbb_cell_id = 11;\n",
       "                var nbb_unformatted_code = \"df[\\\"sentiment_polarity\\\"] = np.where(df[\\\"sentiment_score\\\"] < 0, \\\"negative\\\", \\\"positive\\\")\\ndf[\\\"sentiment_polarity_int\\\"] = np.where(df[\\\"sentiment_score\\\"] < 0, 0, 1)\\n\\ndf.head(10)\";\n",
       "                var nbb_formatted_code = \"df[\\\"sentiment_polarity\\\"] = np.where(df[\\\"sentiment_score\\\"] < 0, \\\"negative\\\", \\\"positive\\\")\\ndf[\\\"sentiment_polarity_int\\\"] = np.where(df[\\\"sentiment_score\\\"] < 0, 0, 1)\\n\\ndf.head(10)\";\n",
       "                var nbb_cells = Jupyter.notebook.get_cells();\n",
       "                for (var i = 0; i < nbb_cells.length; ++i) {\n",
       "                    if (nbb_cells[i].input_prompt_number == nbb_cell_id) {\n",
       "                        if (nbb_cells[i].get_text() == nbb_unformatted_code) {\n",
       "                             nbb_cells[i].set_text(nbb_formatted_code);\n",
       "                        }\n",
       "                        break;\n",
       "                    }\n",
       "                }\n",
       "            }, 500);\n",
       "            "
      ],
      "text/plain": [
       "<IPython.core.display.Javascript object>"
      ]
     },
     "metadata": {},
     "output_type": "display_data"
    }
   ],
   "source": [
    "df[\"sentiment_polarity\"] = np.where(df[\"sentiment_score\"] < 0, \"negative\", \"positive\")\n",
    "df[\"sentiment_polarity_int\"] = np.where(df[\"sentiment_score\"] < 0, 0, 1)\n",
    "\n",
    "df.head(10)"
   ]
  },
  {
   "cell_type": "code",
   "execution_count": 12,
   "metadata": {},
   "outputs": [
    {
     "data": {
      "text/plain": [
       "Text(0, 0.5, 'Count')"
      ]
     },
     "execution_count": 12,
     "metadata": {},
     "output_type": "execute_result"
    },
    {
     "data": {
      "image/png": "[encoded data removed]",
      "text/plain": [
       "<Figure size 864x288 with 2 Axes>"
      ]
     },
     "metadata": {},
     "output_type": "display_data"
    },
    {
     "data": {
      "application/javascript": [
       "\n",
       "            setTimeout(function() {\n",
       "                var nbb_cell_id = 12;\n",
       "                var nbb_unformatted_code = \"plt.subplot(1, 2, 1)\\nplt.hist(df[\\\"sentiment_score\\\"], bins=20, edgecolor=\\\"black\\\")\\nplt.xlabel(\\\"Sentiment Score\\\")\\nplt.ylabel(\\\"Count\\\")\\nplt.subplot(1, 2, 2)\\ndf[\\\"sentiment_polarity\\\"].value_counts().plot(kind=\\\"bar\\\", rot=0, edgecolor=\\\"black\\\")\\nplt.xlabel(\\\"Sentiment Polarity\\\")\\nplt.ylabel(\\\"Count\\\")\";\n",
       "                var nbb_formatted_code = \"plt.subplot(1, 2, 1)\\nplt.hist(df[\\\"sentiment_score\\\"], bins=20, edgecolor=\\\"black\\\")\\nplt.xlabel(\\\"Sentiment Score\\\")\\nplt.ylabel(\\\"Count\\\")\\nplt.subplot(1, 2, 2)\\ndf[\\\"sentiment_polarity\\\"].value_counts().plot(kind=\\\"bar\\\", rot=0, edgecolor=\\\"black\\\")\\nplt.xlabel(\\\"Sentiment Polarity\\\")\\nplt.ylabel(\\\"Count\\\")\";\n",
       "                var nbb_cells = Jupyter.notebook.get_cells();\n",
       "                for (var i = 0; i < nbb_cells.length; ++i) {\n",
       "                    if (nbb_cells[i].input_prompt_number == nbb_cell_id) {\n",
       "                        if (nbb_cells[i].get_text() == nbb_unformatted_code) {\n",
       "                             nbb_cells[i].set_text(nbb_formatted_code);\n",
       "                        }\n",
       "                        break;\n",
       "                    }\n",
       "                }\n",
       "            }, 500);\n",
       "            "
      ],
      "text/plain": [
       "<IPython.core.display.Javascript object>"
      ]
     },
     "metadata": {},
     "output_type": "display_data"
    }
   ],
   "source": [
    "plt.subplot(1, 2, 1)\n",
    "plt.hist(df[\"sentiment_score\"], bins=20, edgecolor=\"black\")\n",
    "plt.xlabel(\"Sentiment Score\")\n",
    "plt.ylabel(\"Count\")\n",
    "plt.subplot(1, 2, 2)\n",
    "df[\"sentiment_polarity\"].value_counts().plot(kind=\"bar\", rot=0, edgecolor=\"black\")\n",
    "plt.xlabel(\"Sentiment Polarity\")\n",
    "plt.ylabel(\"Count\")\n"
   ]
  },
  {
   "cell_type": "markdown",
   "metadata": {},
   "source": [
    "#### Outlier"
   ]
  },
  {
   "cell_type": "code",
   "execution_count": 13,
   "metadata": {},
   "outputs": [
    {
     "data": {
      "text/html": [
       "<div><div id=212c2d0f-a6f3-41a9-b643-8b25b298231f style=\"display:none; background-color:#9D6CFF; color:white; width:200px; height:30px; padding-left:5px; border-radius:4px; flex-direction:row; justify-content:space-around; align-items:center;\" onmouseover=\"this.style.backgroundColor='#BA9BF8'\" onmouseout=\"this.style.backgroundColor='#9D6CFF'\" onclick=\"window.commands?.execute('create-mitosheet-from-dataframe-output');\">See Full Dataframe in Mito</div> <script> if (window.commands?.hasCommand('create-mitosheet-from-dataframe-output')) document.getElementById('212c2d0f-a6f3-41a9-b643-8b25b298231f').style.display = 'flex' </script> <table border=\"1\" class=\"dataframe\">\n",
       "  <thead>\n",
       "    <tr style=\"text-align: right;\">\n",
       "      <th></th>\n",
       "      <th>timestamp</th>\n",
       "      <th>sensor</th>\n",
       "    </tr>\n",
       "  </thead>\n",
       "  <tbody>\n",
       "    <tr>\n",
       "      <th>0</th>\n",
       "      <td>t_0</td>\n",
       "      <td>2</td>\n",
       "    </tr>\n",
       "    <tr>\n",
       "      <th>1</th>\n",
       "      <td>t_1</td>\n",
       "      <td>9</td>\n",
       "    </tr>\n",
       "    <tr>\n",
       "      <th>2</th>\n",
       "      <td>t_2</td>\n",
       "      <td>99</td>\n",
       "    </tr>\n",
       "    <tr>\n",
       "      <th>3</th>\n",
       "      <td>t_3</td>\n",
       "      <td>7</td>\n",
       "    </tr>\n",
       "    <tr>\n",
       "      <th>4</th>\n",
       "      <td>t_4</td>\n",
       "      <td>7</td>\n",
       "    </tr>\n",
       "    <tr>\n",
       "      <th>5</th>\n",
       "      <td>t_5</td>\n",
       "      <td>6</td>\n",
       "    </tr>\n",
       "    <tr>\n",
       "      <th>6</th>\n",
       "      <td>t_6</td>\n",
       "      <td>3</td>\n",
       "    </tr>\n",
       "    <tr>\n",
       "      <th>7</th>\n",
       "      <td>t_7</td>\n",
       "      <td>47</td>\n",
       "    </tr>\n",
       "    <tr>\n",
       "      <th>8</th>\n",
       "      <td>t_8</td>\n",
       "      <td>5</td>\n",
       "    </tr>\n",
       "    <tr>\n",
       "      <th>9</th>\n",
       "      <td>t_9</td>\n",
       "      <td>7</td>\n",
       "    </tr>\n",
       "  </tbody>\n",
       "</table></div>"
      ],
      "text/plain": [
       "  timestamp  sensor\n",
       "0       t_0       2\n",
       "1       t_1       9\n",
       "2       t_2      99\n",
       "3       t_3       7\n",
       "4       t_4       7\n",
       "5       t_5       6\n",
       "6       t_6       3\n",
       "7       t_7      47\n",
       "8       t_8       5\n",
       "9       t_9       7"
      ]
     },
     "execution_count": 13,
     "metadata": {},
     "output_type": "execute_result"
    },
    {
     "data": {
      "application/javascript": [
       "\n",
       "            setTimeout(function() {\n",
       "                var nbb_cell_id = 13;\n",
       "                var nbb_unformatted_code = \"sensor = np.random.randint(0, 10, 100)\\ntimestamp = [\\\"t_\\\" + str(i) for i in range(len(sensor))]\\ndf = pd.DataFrame({\\\"timestamp\\\": timestamp, \\\"sensor\\\": sensor})\\ndf.loc[2, \\\"sensor\\\"] = 99\\ndf.loc[7, \\\"sensor\\\"] = 47\\ndf.head(10)\";\n",
       "                var nbb_formatted_code = \"sensor = np.random.randint(0, 10, 100)\\ntimestamp = [\\\"t_\\\" + str(i) for i in range(len(sensor))]\\ndf = pd.DataFrame({\\\"timestamp\\\": timestamp, \\\"sensor\\\": sensor})\\ndf.loc[2, \\\"sensor\\\"] = 99\\ndf.loc[7, \\\"sensor\\\"] = 47\\ndf.head(10)\";\n",
       "                var nbb_cells = Jupyter.notebook.get_cells();\n",
       "                for (var i = 0; i < nbb_cells.length; ++i) {\n",
       "                    if (nbb_cells[i].input_prompt_number == nbb_cell_id) {\n",
       "                        if (nbb_cells[i].get_text() == nbb_unformatted_code) {\n",
       "                             nbb_cells[i].set_text(nbb_formatted_code);\n",
       "                        }\n",
       "                        break;\n",
       "                    }\n",
       "                }\n",
       "            }, 500);\n",
       "            "
      ],
      "text/plain": [
       "<IPython.core.display.Javascript object>"
      ]
     },
     "metadata": {},
     "output_type": "display_data"
    }
   ],
   "source": [
    "sensor = np.random.randint(0, 10, 100)\n",
    "timestamp = [\"t_\" + str(i) for i in range(len(sensor))]\n",
    "df = pd.DataFrame({\"timestamp\": timestamp, \"sensor\": sensor})\n",
    "df.loc[2, \"sensor\"] = 99\n",
    "df.loc[7, \"sensor\"] = 47\n",
    "df.head(10)"
   ]
  },
  {
   "cell_type": "code",
   "execution_count": 14,
   "metadata": {},
   "outputs": [
    {
     "data": {
      "text/html": [
       "<div><div id=2bc4d6a8-cba3-4db6-bdd1-9c1957317f69 style=\"display:none; background-color:#9D6CFF; color:white; width:200px; height:30px; padding-left:5px; border-radius:4px; flex-direction:row; justify-content:space-around; align-items:center;\" onmouseover=\"this.style.backgroundColor='#BA9BF8'\" onmouseout=\"this.style.backgroundColor='#9D6CFF'\" onclick=\"window.commands?.execute('create-mitosheet-from-dataframe-output');\">See Full Dataframe in Mito</div> <script> if (window.commands?.hasCommand('create-mitosheet-from-dataframe-output')) document.getElementById('2bc4d6a8-cba3-4db6-bdd1-9c1957317f69').style.display = 'flex' </script> <table border=\"1\" class=\"dataframe\">\n",
       "  <thead>\n",
       "    <tr style=\"text-align: right;\">\n",
       "      <th></th>\n",
       "      <th>timestamp</th>\n",
       "      <th>sensor</th>\n",
       "      <th>outlier_int</th>\n",
       "      <th>outlier_str</th>\n",
       "    </tr>\n",
       "  </thead>\n",
       "  <tbody>\n",
       "    <tr>\n",
       "      <th>0</th>\n",
       "      <td>t_0</td>\n",
       "      <td>2</td>\n",
       "      <td>0</td>\n",
       "      <td>no</td>\n",
       "    </tr>\n",
       "    <tr>\n",
       "      <th>1</th>\n",
       "      <td>t_1</td>\n",
       "      <td>9</td>\n",
       "      <td>0</td>\n",
       "      <td>no</td>\n",
       "    </tr>\n",
       "    <tr>\n",
       "      <th>2</th>\n",
       "      <td>t_2</td>\n",
       "      <td>99</td>\n",
       "      <td>1</td>\n",
       "      <td>yes</td>\n",
       "    </tr>\n",
       "    <tr>\n",
       "      <th>3</th>\n",
       "      <td>t_3</td>\n",
       "      <td>7</td>\n",
       "      <td>0</td>\n",
       "      <td>no</td>\n",
       "    </tr>\n",
       "    <tr>\n",
       "      <th>4</th>\n",
       "      <td>t_4</td>\n",
       "      <td>7</td>\n",
       "      <td>0</td>\n",
       "      <td>no</td>\n",
       "    </tr>\n",
       "    <tr>\n",
       "      <th>5</th>\n",
       "      <td>t_5</td>\n",
       "      <td>6</td>\n",
       "      <td>0</td>\n",
       "      <td>no</td>\n",
       "    </tr>\n",
       "    <tr>\n",
       "      <th>6</th>\n",
       "      <td>t_6</td>\n",
       "      <td>3</td>\n",
       "      <td>0</td>\n",
       "      <td>no</td>\n",
       "    </tr>\n",
       "    <tr>\n",
       "      <th>7</th>\n",
       "      <td>t_7</td>\n",
       "      <td>47</td>\n",
       "      <td>1</td>\n",
       "      <td>yes</td>\n",
       "    </tr>\n",
       "    <tr>\n",
       "      <th>8</th>\n",
       "      <td>t_8</td>\n",
       "      <td>5</td>\n",
       "      <td>0</td>\n",
       "      <td>no</td>\n",
       "    </tr>\n",
       "    <tr>\n",
       "      <th>9</th>\n",
       "      <td>t_9</td>\n",
       "      <td>7</td>\n",
       "      <td>0</td>\n",
       "      <td>no</td>\n",
       "    </tr>\n",
       "  </tbody>\n",
       "</table></div>"
      ],
      "text/plain": [
       "  timestamp  sensor  outlier_int outlier_str\n",
       "0       t_0       2            0          no\n",
       "1       t_1       9            0          no\n",
       "2       t_2      99            1         yes\n",
       "3       t_3       7            0          no\n",
       "4       t_4       7            0          no\n",
       "5       t_5       6            0          no\n",
       "6       t_6       3            0          no\n",
       "7       t_7      47            1         yes\n",
       "8       t_8       5            0          no\n",
       "9       t_9       7            0          no"
      ]
     },
     "execution_count": 14,
     "metadata": {},
     "output_type": "execute_result"
    },
    {
     "data": {
      "application/javascript": [
       "\n",
       "            setTimeout(function() {\n",
       "                var nbb_cell_id = 14;\n",
       "                var nbb_unformatted_code = \"thres_low = df[\\\"sensor\\\"].mean() - 3 * df[\\\"sensor\\\"].std()\\nthres_high = df[\\\"sensor\\\"].mean() + 3 * df[\\\"sensor\\\"].std()\\n\\ndf[\\\"outlier_int\\\"] = np.where(\\n    ((df[\\\"sensor\\\"] > thres_high) | (df[\\\"sensor\\\"] < thres_low)), 1, 0\\n)\\n\\ndf[\\\"outlier_str\\\"] = np.where(abs(stats.zscore(df[\\\"sensor\\\"])) > 3, \\\"yes\\\", \\\"no\\\")\\n\\ndf.head(10)\";\n",
       "                var nbb_formatted_code = \"thres_low = df[\\\"sensor\\\"].mean() - 3 * df[\\\"sensor\\\"].std()\\nthres_high = df[\\\"sensor\\\"].mean() + 3 * df[\\\"sensor\\\"].std()\\n\\ndf[\\\"outlier_int\\\"] = np.where(\\n    ((df[\\\"sensor\\\"] > thres_high) | (df[\\\"sensor\\\"] < thres_low)), 1, 0\\n)\\n\\ndf[\\\"outlier_str\\\"] = np.where(abs(stats.zscore(df[\\\"sensor\\\"])) > 3, \\\"yes\\\", \\\"no\\\")\\n\\ndf.head(10)\";\n",
       "                var nbb_cells = Jupyter.notebook.get_cells();\n",
       "                for (var i = 0; i < nbb_cells.length; ++i) {\n",
       "                    if (nbb_cells[i].input_prompt_number == nbb_cell_id) {\n",
       "                        if (nbb_cells[i].get_text() == nbb_unformatted_code) {\n",
       "                             nbb_cells[i].set_text(nbb_formatted_code);\n",
       "                        }\n",
       "                        break;\n",
       "                    }\n",
       "                }\n",
       "            }, 500);\n",
       "            "
      ],
      "text/plain": [
       "<IPython.core.display.Javascript object>"
      ]
     },
     "metadata": {},
     "output_type": "display_data"
    }
   ],
   "source": [
    "thres_low = df[\"sensor\"].mean() - 3 * df[\"sensor\"].std()\n",
    "thres_high = df[\"sensor\"].mean() + 3 * df[\"sensor\"].std()\n",
    "\n",
    "df[\"outlier_int\"] = np.where(\n",
    "    ((df[\"sensor\"] > thres_high) | (df[\"sensor\"] < thres_low)), 1, 0\n",
    ")\n",
    "\n",
    "df[\"outlier_str\"] = np.where(abs(stats.zscore(df[\"sensor\"])) > 3, \"yes\", \"no\")\n",
    "\n",
    "df.head(10)"
   ]
  },
  {
   "cell_type": "code",
   "execution_count": 15,
   "metadata": {},
   "outputs": [
    {
     "data": {
      "text/plain": [
       "Text(0, 0.5, 'Count')"
      ]
     },
     "execution_count": 15,
     "metadata": {},
     "output_type": "execute_result"
    },
    {
     "data": {
      "image/png": "[encoded data removed]",
      "text/plain": [
       "<Figure size 864x288 with 2 Axes>"
      ]
     },
     "metadata": {},
     "output_type": "display_data"
    },
    {
     "data": {
      "application/javascript": [
       "\n",
       "            setTimeout(function() {\n",
       "                var nbb_cell_id = 15;\n",
       "                var nbb_unformatted_code = \"plt.subplot(1, 2, 1)\\nplt.hist(df[\\\"sensor\\\"], bins=20, edgecolor=\\\"black\\\")\\nplt.xlabel(\\\"Sensor\\\")\\nplt.ylabel(\\\"Count\\\")\\nplt.subplot(1, 2, 2)\\ndf[\\\"outlier_str\\\"].value_counts().plot(kind=\\\"bar\\\", rot=0, edgecolor=\\\"black\\\")\\nplt.xlabel(\\\"Outlier\\\")\\nplt.ylabel(\\\"Count\\\")\";\n",
       "                var nbb_formatted_code = \"plt.subplot(1, 2, 1)\\nplt.hist(df[\\\"sensor\\\"], bins=20, edgecolor=\\\"black\\\")\\nplt.xlabel(\\\"Sensor\\\")\\nplt.ylabel(\\\"Count\\\")\\nplt.subplot(1, 2, 2)\\ndf[\\\"outlier_str\\\"].value_counts().plot(kind=\\\"bar\\\", rot=0, edgecolor=\\\"black\\\")\\nplt.xlabel(\\\"Outlier\\\")\\nplt.ylabel(\\\"Count\\\")\";\n",
       "                var nbb_cells = Jupyter.notebook.get_cells();\n",
       "                for (var i = 0; i < nbb_cells.length; ++i) {\n",
       "                    if (nbb_cells[i].input_prompt_number == nbb_cell_id) {\n",
       "                        if (nbb_cells[i].get_text() == nbb_unformatted_code) {\n",
       "                             nbb_cells[i].set_text(nbb_formatted_code);\n",
       "                        }\n",
       "                        break;\n",
       "                    }\n",
       "                }\n",
       "            }, 500);\n",
       "            "
      ],
      "text/plain": [
       "<IPython.core.display.Javascript object>"
      ]
     },
     "metadata": {},
     "output_type": "display_data"
    }
   ],
   "source": [
    "plt.subplot(1, 2, 1)\n",
    "plt.hist(df[\"sensor\"], bins=20, edgecolor=\"black\")\n",
    "plt.xlabel(\"Sensor\")\n",
    "plt.ylabel(\"Count\")\n",
    "plt.subplot(1, 2, 2)\n",
    "df[\"outlier_str\"].value_counts().plot(kind=\"bar\", rot=0, edgecolor=\"black\")\n",
    "plt.xlabel(\"Outlier\")\n",
    "plt.ylabel(\"Count\")"
   ]
  },
  {
   "cell_type": "markdown",
   "metadata": {},
   "source": [
    "### Categorical Features"
   ]
  },
  {
   "cell_type": "markdown",
   "metadata": {},
   "source": [
    "#### Grouping"
   ]
  },
  {
   "cell_type": "code",
   "execution_count": 16,
   "metadata": {},
   "outputs": [
    {
     "data": {
      "text/html": [
       "<div><div id=9e58c5a4-39a0-4c61-a7ba-a63dd7fb6388 style=\"display:none; background-color:#9D6CFF; color:white; width:200px; height:30px; padding-left:5px; border-radius:4px; flex-direction:row; justify-content:space-around; align-items:center;\" onmouseover=\"this.style.backgroundColor='#BA9BF8'\" onmouseout=\"this.style.backgroundColor='#9D6CFF'\" onclick=\"window.commands?.execute('create-mitosheet-from-dataframe-output');\">See Full Dataframe in Mito</div> <script> if (window.commands?.hasCommand('create-mitosheet-from-dataframe-output')) document.getElementById('9e58c5a4-39a0-4c61-a7ba-a63dd7fb6388').style.display = 'flex' </script> <table border=\"1\" class=\"dataframe\">\n",
       "  <thead>\n",
       "    <tr style=\"text-align: right;\">\n",
       "      <th></th>\n",
       "      <th>person_id</th>\n",
       "      <th>age_group</th>\n",
       "    </tr>\n",
       "  </thead>\n",
       "  <tbody>\n",
       "    <tr>\n",
       "      <th>0</th>\n",
       "      <td>person_id_0</td>\n",
       "      <td>child</td>\n",
       "    </tr>\n",
       "    <tr>\n",
       "      <th>1</th>\n",
       "      <td>person_id_1</td>\n",
       "      <td>adult</td>\n",
       "    </tr>\n",
       "    <tr>\n",
       "      <th>2</th>\n",
       "      <td>person_id_2</td>\n",
       "      <td>senior</td>\n",
       "    </tr>\n",
       "    <tr>\n",
       "      <th>3</th>\n",
       "      <td>person_id_3</td>\n",
       "      <td>child</td>\n",
       "    </tr>\n",
       "    <tr>\n",
       "      <th>4</th>\n",
       "      <td>person_id_4</td>\n",
       "      <td>senior</td>\n",
       "    </tr>\n",
       "    <tr>\n",
       "      <th>5</th>\n",
       "      <td>person_id_5</td>\n",
       "      <td>child</td>\n",
       "    </tr>\n",
       "    <tr>\n",
       "      <th>6</th>\n",
       "      <td>person_id_6</td>\n",
       "      <td>teen</td>\n",
       "    </tr>\n",
       "    <tr>\n",
       "      <th>7</th>\n",
       "      <td>person_id_7</td>\n",
       "      <td>infant</td>\n",
       "    </tr>\n",
       "    <tr>\n",
       "      <th>8</th>\n",
       "      <td>person_id_8</td>\n",
       "      <td>child</td>\n",
       "    </tr>\n",
       "    <tr>\n",
       "      <th>9</th>\n",
       "      <td>person_id_9</td>\n",
       "      <td>toddler</td>\n",
       "    </tr>\n",
       "  </tbody>\n",
       "</table></div>"
      ],
      "text/plain": [
       "     person_id age_group\n",
       "0  person_id_0     child\n",
       "1  person_id_1     adult\n",
       "2  person_id_2    senior\n",
       "3  person_id_3     child\n",
       "4  person_id_4    senior\n",
       "5  person_id_5     child\n",
       "6  person_id_6      teen\n",
       "7  person_id_7    infant\n",
       "8  person_id_8     child\n",
       "9  person_id_9   toddler"
      ]
     },
     "execution_count": 16,
     "metadata": {},
     "output_type": "execute_result"
    },
    {
     "data": {
      "application/javascript": [
       "\n",
       "            setTimeout(function() {\n",
       "                var nbb_cell_id = 16;\n",
       "                var nbb_unformatted_code = \"groups = [\\\"infant\\\", \\\"toddler\\\", \\\"child\\\", \\\"teen\\\", \\\"adult\\\", \\\"senior\\\"]\\nage_group = random.choices(groups, k=100)\\nperson_id = [\\\"person_id_\\\" + str(i) for i in range(len(age_group))]\\ndf = pd.DataFrame({\\\"person_id\\\": person_id, \\\"age_group\\\": age_group})\\ndf.head(10)\";\n",
       "                var nbb_formatted_code = \"groups = [\\\"infant\\\", \\\"toddler\\\", \\\"child\\\", \\\"teen\\\", \\\"adult\\\", \\\"senior\\\"]\\nage_group = random.choices(groups, k=100)\\nperson_id = [\\\"person_id_\\\" + str(i) for i in range(len(age_group))]\\ndf = pd.DataFrame({\\\"person_id\\\": person_id, \\\"age_group\\\": age_group})\\ndf.head(10)\";\n",
       "                var nbb_cells = Jupyter.notebook.get_cells();\n",
       "                for (var i = 0; i < nbb_cells.length; ++i) {\n",
       "                    if (nbb_cells[i].input_prompt_number == nbb_cell_id) {\n",
       "                        if (nbb_cells[i].get_text() == nbb_unformatted_code) {\n",
       "                             nbb_cells[i].set_text(nbb_formatted_code);\n",
       "                        }\n",
       "                        break;\n",
       "                    }\n",
       "                }\n",
       "            }, 500);\n",
       "            "
      ],
      "text/plain": [
       "<IPython.core.display.Javascript object>"
      ]
     },
     "metadata": {},
     "output_type": "display_data"
    }
   ],
   "source": [
    "groups = [\"infant\", \"toddler\", \"child\", \"teen\", \"adult\", \"senior\"]\n",
    "age_group = random.choices(groups, k=100)\n",
    "person_id = [\"person_id_\" + str(i) for i in range(len(age_group))]\n",
    "df = pd.DataFrame({\"person_id\": person_id, \"age_group\": age_group})\n",
    "df.head(10)"
   ]
  },
  {
   "cell_type": "code",
   "execution_count": null,
   "metadata": {},
   "outputs": [],
   "source": []
  },
  {
   "cell_type": "code",
   "execution_count": 17,
   "metadata": {},
   "outputs": [
    {
     "data": {
      "text/html": [
       "<div><div id=6c33678c-cbb4-4675-b270-dac593ee2756 style=\"display:none; background-color:#9D6CFF; color:white; width:200px; height:30px; padding-left:5px; border-radius:4px; flex-direction:row; justify-content:space-around; align-items:center;\" onmouseover=\"this.style.backgroundColor='#BA9BF8'\" onmouseout=\"this.style.backgroundColor='#9D6CFF'\" onclick=\"window.commands?.execute('create-mitosheet-from-dataframe-output');\">See Full Dataframe in Mito</div> <script> if (window.commands?.hasCommand('create-mitosheet-from-dataframe-output')) document.getElementById('6c33678c-cbb4-4675-b270-dac593ee2756').style.display = 'flex' </script> <table border=\"1\" class=\"dataframe\">\n",
       "  <thead>\n",
       "    <tr style=\"text-align: right;\">\n",
       "      <th></th>\n",
       "      <th>person_id</th>\n",
       "      <th>age_group</th>\n",
       "      <th>major_str</th>\n",
       "      <th>major_int</th>\n",
       "    </tr>\n",
       "  </thead>\n",
       "  <tbody>\n",
       "    <tr>\n",
       "      <th>0</th>\n",
       "      <td>person_id_0</td>\n",
       "      <td>child</td>\n",
       "      <td>no</td>\n",
       "      <td>0</td>\n",
       "    </tr>\n",
       "    <tr>\n",
       "      <th>1</th>\n",
       "      <td>person_id_1</td>\n",
       "      <td>adult</td>\n",
       "      <td>yes</td>\n",
       "      <td>1</td>\n",
       "    </tr>\n",
       "    <tr>\n",
       "      <th>2</th>\n",
       "      <td>person_id_2</td>\n",
       "      <td>senior</td>\n",
       "      <td>yes</td>\n",
       "      <td>1</td>\n",
       "    </tr>\n",
       "    <tr>\n",
       "      <th>3</th>\n",
       "      <td>person_id_3</td>\n",
       "      <td>child</td>\n",
       "      <td>no</td>\n",
       "      <td>0</td>\n",
       "    </tr>\n",
       "    <tr>\n",
       "      <th>4</th>\n",
       "      <td>person_id_4</td>\n",
       "      <td>senior</td>\n",
       "      <td>yes</td>\n",
       "      <td>1</td>\n",
       "    </tr>\n",
       "    <tr>\n",
       "      <th>5</th>\n",
       "      <td>person_id_5</td>\n",
       "      <td>child</td>\n",
       "      <td>no</td>\n",
       "      <td>0</td>\n",
       "    </tr>\n",
       "    <tr>\n",
       "      <th>6</th>\n",
       "      <td>person_id_6</td>\n",
       "      <td>teen</td>\n",
       "      <td>no</td>\n",
       "      <td>0</td>\n",
       "    </tr>\n",
       "    <tr>\n",
       "      <th>7</th>\n",
       "      <td>person_id_7</td>\n",
       "      <td>infant</td>\n",
       "      <td>no</td>\n",
       "      <td>0</td>\n",
       "    </tr>\n",
       "    <tr>\n",
       "      <th>8</th>\n",
       "      <td>person_id_8</td>\n",
       "      <td>child</td>\n",
       "      <td>no</td>\n",
       "      <td>0</td>\n",
       "    </tr>\n",
       "    <tr>\n",
       "      <th>9</th>\n",
       "      <td>person_id_9</td>\n",
       "      <td>toddler</td>\n",
       "      <td>no</td>\n",
       "      <td>0</td>\n",
       "    </tr>\n",
       "  </tbody>\n",
       "</table></div>"
      ],
      "text/plain": [
       "     person_id age_group major_str  major_int\n",
       "0  person_id_0     child        no          0\n",
       "1  person_id_1     adult       yes          1\n",
       "2  person_id_2    senior       yes          1\n",
       "3  person_id_3     child        no          0\n",
       "4  person_id_4    senior       yes          1\n",
       "5  person_id_5     child        no          0\n",
       "6  person_id_6      teen        no          0\n",
       "7  person_id_7    infant        no          0\n",
       "8  person_id_8     child        no          0\n",
       "9  person_id_9   toddler        no          0"
      ]
     },
     "execution_count": 17,
     "metadata": {},
     "output_type": "execute_result"
    },
    {
     "data": {
      "application/javascript": [
       "\n",
       "            setTimeout(function() {\n",
       "                var nbb_cell_id = 17;\n",
       "                var nbb_unformatted_code = \"df[\\\"major_str\\\"] = np.where(df[\\\"age_group\\\"].isin([\\\"adult\\\", \\\"senior\\\"]), \\\"yes\\\", \\\"no\\\")\\n\\nage_group_map = {\\n    \\\"infant\\\": 0,\\n    \\\"toddler\\\": 0,\\n    \\\"child\\\": 0,\\n    \\\"teen\\\": 0,\\n    \\\"adult\\\": 1,\\n    \\\"senior\\\": 1,\\n}\\n\\ndf[\\\"major_int\\\"] = df[\\\"age_group\\\"].map(age_group_map)\\n\\ndf.head(10)\";\n",
       "                var nbb_formatted_code = \"df[\\\"major_str\\\"] = np.where(df[\\\"age_group\\\"].isin([\\\"adult\\\", \\\"senior\\\"]), \\\"yes\\\", \\\"no\\\")\\n\\nage_group_map = {\\n    \\\"infant\\\": 0,\\n    \\\"toddler\\\": 0,\\n    \\\"child\\\": 0,\\n    \\\"teen\\\": 0,\\n    \\\"adult\\\": 1,\\n    \\\"senior\\\": 1,\\n}\\n\\ndf[\\\"major_int\\\"] = df[\\\"age_group\\\"].map(age_group_map)\\n\\ndf.head(10)\";\n",
       "                var nbb_cells = Jupyter.notebook.get_cells();\n",
       "                for (var i = 0; i < nbb_cells.length; ++i) {\n",
       "                    if (nbb_cells[i].input_prompt_number == nbb_cell_id) {\n",
       "                        if (nbb_cells[i].get_text() == nbb_unformatted_code) {\n",
       "                             nbb_cells[i].set_text(nbb_formatted_code);\n",
       "                        }\n",
       "                        break;\n",
       "                    }\n",
       "                }\n",
       "            }, 500);\n",
       "            "
      ],
      "text/plain": [
       "<IPython.core.display.Javascript object>"
      ]
     },
     "metadata": {},
     "output_type": "display_data"
    }
   ],
   "source": [
    "df[\"major_str\"] = np.where(df[\"age_group\"].isin([\"adult\", \"senior\"]), \"yes\", \"no\")\n",
    "\n",
    "age_group_map = {\n",
    "    \"infant\": 0,\n",
    "    \"toddler\": 0,\n",
    "    \"child\": 0,\n",
    "    \"teen\": 0,\n",
    "    \"adult\": 1,\n",
    "    \"senior\": 1,\n",
    "}\n",
    "\n",
    "df[\"major_int\"] = df[\"age_group\"].map(age_group_map)\n",
    "\n",
    "df.head(10)"
   ]
  },
  {
   "cell_type": "code",
   "execution_count": 18,
   "metadata": {},
   "outputs": [
    {
     "data": {
      "text/plain": [
       "Text(0, 0.5, 'Count')"
      ]
     },
     "execution_count": 18,
     "metadata": {},
     "output_type": "execute_result"
    },
    {
     "data": {
      "image/png": "[encoded data removed]",
      "text/plain": [
       "<Figure size 864x288 with 2 Axes>"
      ]
     },
     "metadata": {},
     "output_type": "display_data"
    },
    {
     "data": {
      "application/javascript": [
       "\n",
       "            setTimeout(function() {\n",
       "                var nbb_cell_id = 18;\n",
       "                var nbb_unformatted_code = \"plt.subplot(1, 2, 1)\\ndf[\\\"age_group\\\"].value_counts().plot(kind=\\\"bar\\\", rot=0)\\nplt.xlabel(\\\"Age Group\\\")\\nplt.ylabel(\\\"Count\\\")\\nplt.subplot(1, 2, 2)\\ndf[\\\"major_str\\\"].value_counts().plot(kind=\\\"bar\\\", rot=0, edgecolor=\\\"black\\\")\\nplt.xlabel(\\\"Major\\\")\\nplt.ylabel(\\\"Count\\\")\";\n",
       "                var nbb_formatted_code = \"plt.subplot(1, 2, 1)\\ndf[\\\"age_group\\\"].value_counts().plot(kind=\\\"bar\\\", rot=0)\\nplt.xlabel(\\\"Age Group\\\")\\nplt.ylabel(\\\"Count\\\")\\nplt.subplot(1, 2, 2)\\ndf[\\\"major_str\\\"].value_counts().plot(kind=\\\"bar\\\", rot=0, edgecolor=\\\"black\\\")\\nplt.xlabel(\\\"Major\\\")\\nplt.ylabel(\\\"Count\\\")\";\n",
       "                var nbb_cells = Jupyter.notebook.get_cells();\n",
       "                for (var i = 0; i < nbb_cells.length; ++i) {\n",
       "                    if (nbb_cells[i].input_prompt_number == nbb_cell_id) {\n",
       "                        if (nbb_cells[i].get_text() == nbb_unformatted_code) {\n",
       "                             nbb_cells[i].set_text(nbb_formatted_code);\n",
       "                        }\n",
       "                        break;\n",
       "                    }\n",
       "                }\n",
       "            }, 500);\n",
       "            "
      ],
      "text/plain": [
       "<IPython.core.display.Javascript object>"
      ]
     },
     "metadata": {},
     "output_type": "display_data"
    }
   ],
   "source": [
    "plt.subplot(1, 2, 1)\n",
    "df[\"age_group\"].value_counts().plot(kind=\"bar\", rot=0)\n",
    "plt.xlabel(\"Age Group\")\n",
    "plt.ylabel(\"Count\")\n",
    "plt.subplot(1, 2, 2)\n",
    "df[\"major_str\"].value_counts().plot(kind=\"bar\", rot=0, edgecolor=\"black\")\n",
    "plt.xlabel(\"Major\")\n",
    "plt.ylabel(\"Count\")"
   ]
  },
  {
   "cell_type": "markdown",
   "metadata": {},
   "source": [
    "#### One vs All"
   ]
  },
  {
   "cell_type": "code",
   "execution_count": 3,
   "metadata": {},
   "outputs": [
    {
     "data": {
      "text/html": [
       "<div><div id=c94878ad-70fd-4846-94a3-4eec1dab0591 style=\"display:none; background-color:#9D6CFF; color:white; width:200px; height:30px; padding-left:5px; border-radius:4px; flex-direction:row; justify-content:space-around; align-items:center;\" onmouseover=\"this.style.backgroundColor='#BA9BF8'\" onmouseout=\"this.style.backgroundColor='#9D6CFF'\" onclick=\"window.commands?.execute('create-mitosheet-from-dataframe-output');\">See Full Dataframe in Mito</div> <script> if (window.commands?.hasCommand('create-mitosheet-from-dataframe-output')) document.getElementById('c94878ad-70fd-4846-94a3-4eec1dab0591').style.display = 'flex' </script> <table border=\"1\" class=\"dataframe\">\n",
       "  <thead>\n",
       "    <tr style=\"text-align: right;\">\n",
       "      <th></th>\n",
       "      <th>customer_id</th>\n",
       "      <th>state</th>\n",
       "    </tr>\n",
       "  </thead>\n",
       "  <tbody>\n",
       "    <tr>\n",
       "      <th>0</th>\n",
       "      <td>customer_id_0</td>\n",
       "      <td>NSW</td>\n",
       "    </tr>\n",
       "    <tr>\n",
       "      <th>1</th>\n",
       "      <td>customer_id_1</td>\n",
       "      <td>NSW</td>\n",
       "    </tr>\n",
       "    <tr>\n",
       "      <th>2</th>\n",
       "      <td>customer_id_2</td>\n",
       "      <td>WA</td>\n",
       "    </tr>\n",
       "    <tr>\n",
       "      <th>3</th>\n",
       "      <td>customer_id_3</td>\n",
       "      <td>ACT</td>\n",
       "    </tr>\n",
       "    <tr>\n",
       "      <th>4</th>\n",
       "      <td>customer_id_4</td>\n",
       "      <td>VIC</td>\n",
       "    </tr>\n",
       "    <tr>\n",
       "      <th>5</th>\n",
       "      <td>customer_id_5</td>\n",
       "      <td>TAS</td>\n",
       "    </tr>\n",
       "    <tr>\n",
       "      <th>6</th>\n",
       "      <td>customer_id_6</td>\n",
       "      <td>SA</td>\n",
       "    </tr>\n",
       "    <tr>\n",
       "      <th>7</th>\n",
       "      <td>customer_id_7</td>\n",
       "      <td>QLD</td>\n",
       "    </tr>\n",
       "    <tr>\n",
       "      <th>8</th>\n",
       "      <td>customer_id_8</td>\n",
       "      <td>NSW</td>\n",
       "    </tr>\n",
       "    <tr>\n",
       "      <th>9</th>\n",
       "      <td>customer_id_9</td>\n",
       "      <td>NSW</td>\n",
       "    </tr>\n",
       "  </tbody>\n",
       "</table></div>"
      ],
      "text/plain": [
       "     customer_id state\n",
       "0  customer_id_0   NSW\n",
       "1  customer_id_1   NSW\n",
       "2  customer_id_2    WA\n",
       "3  customer_id_3   ACT\n",
       "4  customer_id_4   VIC\n",
       "5  customer_id_5   TAS\n",
       "6  customer_id_6    SA\n",
       "7  customer_id_7   QLD\n",
       "8  customer_id_8   NSW\n",
       "9  customer_id_9   NSW"
      ]
     },
     "execution_count": 3,
     "metadata": {},
     "output_type": "execute_result"
    }
   ],
   "source": [
    "states_list = [\"VIC\", \"NSW\", \"WA\", \"QLD\", \"NT\", \"SA\", \"ACT\", \"TAS\"]\n",
    "state = random.choices(states_list, k=100)\n",
    "customer_id = [\"customer_id_\" + str(i) for i in range(len(state))]\n",
    "\n",
    "df = pd.DataFrame({\"customer_id\": customer_id, \"state\": state})\n",
    "df.head(10)"
   ]
  },
  {
   "cell_type": "code",
   "execution_count": 4,
   "metadata": {},
   "outputs": [
    {
     "data": {
      "text/html": [
       "<div><div id=b00fcd20-653c-4788-94f3-dfefa4b46858 style=\"display:none; background-color:#9D6CFF; color:white; width:200px; height:30px; padding-left:5px; border-radius:4px; flex-direction:row; justify-content:space-around; align-items:center;\" onmouseover=\"this.style.backgroundColor='#BA9BF8'\" onmouseout=\"this.style.backgroundColor='#9D6CFF'\" onclick=\"window.commands?.execute('create-mitosheet-from-dataframe-output');\">See Full Dataframe in Mito</div> <script> if (window.commands?.hasCommand('create-mitosheet-from-dataframe-output')) document.getElementById('b00fcd20-653c-4788-94f3-dfefa4b46858').style.display = 'flex' </script> <table border=\"1\" class=\"dataframe\">\n",
       "  <thead>\n",
       "    <tr style=\"text-align: right;\">\n",
       "      <th></th>\n",
       "      <th>customer_id</th>\n",
       "      <th>state</th>\n",
       "      <th>state_VIC</th>\n",
       "    </tr>\n",
       "  </thead>\n",
       "  <tbody>\n",
       "    <tr>\n",
       "      <th>35</th>\n",
       "      <td>customer_id_35</td>\n",
       "      <td>VIC</td>\n",
       "      <td>yes</td>\n",
       "    </tr>\n",
       "    <tr>\n",
       "      <th>45</th>\n",
       "      <td>customer_id_45</td>\n",
       "      <td>WA</td>\n",
       "      <td>no</td>\n",
       "    </tr>\n",
       "    <tr>\n",
       "      <th>18</th>\n",
       "      <td>customer_id_18</td>\n",
       "      <td>ACT</td>\n",
       "      <td>no</td>\n",
       "    </tr>\n",
       "    <tr>\n",
       "      <th>42</th>\n",
       "      <td>customer_id_42</td>\n",
       "      <td>NT</td>\n",
       "      <td>no</td>\n",
       "    </tr>\n",
       "    <tr>\n",
       "      <th>39</th>\n",
       "      <td>customer_id_39</td>\n",
       "      <td>VIC</td>\n",
       "      <td>yes</td>\n",
       "    </tr>\n",
       "    <tr>\n",
       "      <th>46</th>\n",
       "      <td>customer_id_46</td>\n",
       "      <td>TAS</td>\n",
       "      <td>no</td>\n",
       "    </tr>\n",
       "    <tr>\n",
       "      <th>43</th>\n",
       "      <td>customer_id_43</td>\n",
       "      <td>QLD</td>\n",
       "      <td>no</td>\n",
       "    </tr>\n",
       "    <tr>\n",
       "      <th>2</th>\n",
       "      <td>customer_id_2</td>\n",
       "      <td>WA</td>\n",
       "      <td>no</td>\n",
       "    </tr>\n",
       "    <tr>\n",
       "      <th>31</th>\n",
       "      <td>customer_id_31</td>\n",
       "      <td>QLD</td>\n",
       "      <td>no</td>\n",
       "    </tr>\n",
       "    <tr>\n",
       "      <th>12</th>\n",
       "      <td>customer_id_12</td>\n",
       "      <td>SA</td>\n",
       "      <td>no</td>\n",
       "    </tr>\n",
       "  </tbody>\n",
       "</table></div>"
      ],
      "text/plain": [
       "       customer_id state state_VIC\n",
       "35  customer_id_35   VIC       yes\n",
       "45  customer_id_45    WA        no\n",
       "18  customer_id_18   ACT        no\n",
       "42  customer_id_42    NT        no\n",
       "39  customer_id_39   VIC       yes\n",
       "46  customer_id_46   TAS        no\n",
       "43  customer_id_43   QLD        no\n",
       "2    customer_id_2    WA        no\n",
       "31  customer_id_31   QLD        no\n",
       "12  customer_id_12    SA        no"
      ]
     },
     "execution_count": 4,
     "metadata": {},
     "output_type": "execute_result"
    }
   ],
   "source": [
    "df[\"state_VIC\"] = np.where(df[\"state\"] == \"VIC\", \"yes\", \"no\")\n",
    "df.sample(10)"
   ]
  },
  {
   "cell_type": "code",
   "execution_count": 21,
   "metadata": {},
   "outputs": [
    {
     "data": {
      "text/plain": [
       "Text(0, 0.5, 'Count')"
      ]
     },
     "execution_count": 21,
     "metadata": {},
     "output_type": "execute_result"
    },
    {
     "data": {
      "image/png": "[encoded data removed]",
      "text/plain": [
       "<Figure size 864x288 with 2 Axes>"
      ]
     },
     "metadata": {},
     "output_type": "display_data"
    },
    {
     "data": {
      "application/javascript": [
       "\n",
       "            setTimeout(function() {\n",
       "                var nbb_cell_id = 21;\n",
       "                var nbb_unformatted_code = \"plt.subplot(1, 2, 1)\\ndf[\\\"state\\\"].value_counts().plot(kind=\\\"bar\\\", rot=0)\\nplt.xlabel(\\\"State\\\")\\nplt.ylabel(\\\"Count\\\")\\nplt.subplot(1, 2, 2)\\ndf[\\\"state_VIC\\\"].value_counts().plot(kind=\\\"bar\\\", rot=0, edgecolor=\\\"black\\\")\\nplt.xlabel(\\\"State_VIC\\\")\\nplt.ylabel(\\\"Count\\\")\";\n",
       "                var nbb_formatted_code = \"plt.subplot(1, 2, 1)\\ndf[\\\"state\\\"].value_counts().plot(kind=\\\"bar\\\", rot=0)\\nplt.xlabel(\\\"State\\\")\\nplt.ylabel(\\\"Count\\\")\\nplt.subplot(1, 2, 2)\\ndf[\\\"state_VIC\\\"].value_counts().plot(kind=\\\"bar\\\", rot=0, edgecolor=\\\"black\\\")\\nplt.xlabel(\\\"State_VIC\\\")\\nplt.ylabel(\\\"Count\\\")\";\n",
       "                var nbb_cells = Jupyter.notebook.get_cells();\n",
       "                for (var i = 0; i < nbb_cells.length; ++i) {\n",
       "                    if (nbb_cells[i].input_prompt_number == nbb_cell_id) {\n",
       "                        if (nbb_cells[i].get_text() == nbb_unformatted_code) {\n",
       "                             nbb_cells[i].set_text(nbb_formatted_code);\n",
       "                        }\n",
       "                        break;\n",
       "                    }\n",
       "                }\n",
       "            }, 500);\n",
       "            "
      ],
      "text/plain": [
       "<IPython.core.display.Javascript object>"
      ]
     },
     "metadata": {},
     "output_type": "display_data"
    }
   ],
   "source": [
    "plt.subplot(1, 2, 1)\n",
    "df[\"state\"].value_counts().plot(kind=\"bar\", rot=0)\n",
    "plt.xlabel(\"State\")\n",
    "plt.ylabel(\"Count\")\n",
    "plt.subplot(1, 2, 2)\n",
    "df[\"state_VIC\"].value_counts().plot(kind=\"bar\", rot=0, edgecolor=\"black\")\n",
    "plt.xlabel(\"State_VIC\")\n",
    "plt.ylabel(\"Count\")"
   ]
  },
  {
   "cell_type": "code",
   "execution_count": null,
   "metadata": {},
   "outputs": [],
   "source": []
  },
  {
   "cell_type": "code",
   "execution_count": null,
   "metadata": {},
   "outputs": [],
   "source": []
  },
  {
   "cell_type": "code",
   "execution_count": null,
   "metadata": {},
   "outputs": [],
   "source": []
  },
  {
   "cell_type": "code",
   "execution_count": null,
   "metadata": {},
   "outputs": [],
   "source": []
  },
  {
   "cell_type": "code",
   "execution_count": null,
   "metadata": {},
   "outputs": [],
   "source": []
  },
  {
   "cell_type": "code",
   "execution_count": null,
   "metadata": {},
   "outputs": [],
   "source": []
  }
 ],
 "metadata": {
  "kernelspec": {
   "display_name": "Python 3 (ipykernel)",
   "language": "python",
   "name": "python3"
  },
  "language_info": {
   "codemirror_mode": {
    "name": "ipython",
    "version": 3
   },
   "file_extension": ".py",
   "mimetype": "text/x-python",
   "name": "python",
   "nbconvert_exporter": "python",
   "pygments_lexer": "ipython3",
   "version": "3.8.13"
  },
  "toc": {
   "base_numbering": 1,
   "nav_menu": {},
   "number_sections": true,
   "sideBar": true,
   "skip_h1_title": false,
   "title_cell": "Table of Contents",
   "title_sidebar": "Contents",
   "toc_cell": false,
   "toc_position": {
    "height": "calc(100% - 180px)",
    "left": "10px",
    "top": "150px",
    "width": "183.558px"
   },
   "toc_section_display": true,
   "toc_window_display": true
  }
 },
 "nbformat": 4,
 "nbformat_minor": 4
}
