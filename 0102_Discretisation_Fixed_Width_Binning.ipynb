{
 "cells": [
  {
   "cell_type": "code",
   "execution_count": 2,
   "metadata": {},
   "outputs": [
    {
     "data": {
      "application/javascript": [
       "\n",
       "            setTimeout(function() {\n",
       "                var nbb_cell_id = 2;\n",
       "                var nbb_unformatted_code = \"%load_ext nb_black\";\n",
       "                var nbb_formatted_code = \"%load_ext nb_black\";\n",
       "                var nbb_cells = Jupyter.notebook.get_cells();\n",
       "                for (var i = 0; i < nbb_cells.length; ++i) {\n",
       "                    if (nbb_cells[i].input_prompt_number == nbb_cell_id) {\n",
       "                        if (nbb_cells[i].get_text() == nbb_unformatted_code) {\n",
       "                             nbb_cells[i].set_text(nbb_formatted_code);\n",
       "                        }\n",
       "                        break;\n",
       "                    }\n",
       "                }\n",
       "            }, 500);\n",
       "            "
      ],
      "text/plain": [
       "<IPython.core.display.Javascript object>"
      ]
     },
     "metadata": {},
     "output_type": "display_data"
    }
   ],
   "source": [
    "%load_ext nb_black"
   ]
  },
  {
   "cell_type": "code",
   "execution_count": 3,
   "metadata": {},
   "outputs": [
    {
     "data": {
      "application/javascript": [
       "\n",
       "            setTimeout(function() {\n",
       "                var nbb_cell_id = 3;\n",
       "                var nbb_unformatted_code = \"import random\\nimport pandas as pd\\nimport numpy as np\\nfrom scipy import stats\\nimport matplotlib.pyplot as plt\\n\\nplt.style.use(\\\"fivethirtyeight\\\")\";\n",
       "                var nbb_formatted_code = \"import random\\nimport pandas as pd\\nimport numpy as np\\nfrom scipy import stats\\nimport matplotlib.pyplot as plt\\n\\nplt.style.use(\\\"fivethirtyeight\\\")\";\n",
       "                var nbb_cells = Jupyter.notebook.get_cells();\n",
       "                for (var i = 0; i < nbb_cells.length; ++i) {\n",
       "                    if (nbb_cells[i].input_prompt_number == nbb_cell_id) {\n",
       "                        if (nbb_cells[i].get_text() == nbb_unformatted_code) {\n",
       "                             nbb_cells[i].set_text(nbb_formatted_code);\n",
       "                        }\n",
       "                        break;\n",
       "                    }\n",
       "                }\n",
       "            }, 500);\n",
       "            "
      ],
      "text/plain": [
       "<IPython.core.display.Javascript object>"
      ]
     },
     "metadata": {},
     "output_type": "display_data"
    }
   ],
   "source": [
    "import random\n",
    "import pandas as pd\n",
    "import numpy as np\n",
    "from scipy import stats\n",
    "import matplotlib.pyplot as plt\n",
    "\n",
    "plt.style.use(\"fivethirtyeight\")\n"
   ]
  },
  {
   "cell_type": "code",
   "execution_count": 4,
   "metadata": {},
   "outputs": [
    {
     "data": {
      "application/javascript": [
       "\n",
       "            setTimeout(function() {\n",
       "                var nbb_cell_id = 4;\n",
       "                var nbb_unformatted_code = \"plt.rcParams[\\\"figure.figsize\\\"] = (12, 4)\\nplt.rcParams.update({\\\"font.size\\\": 14})\";\n",
       "                var nbb_formatted_code = \"plt.rcParams[\\\"figure.figsize\\\"] = (12, 4)\\nplt.rcParams.update({\\\"font.size\\\": 14})\";\n",
       "                var nbb_cells = Jupyter.notebook.get_cells();\n",
       "                for (var i = 0; i < nbb_cells.length; ++i) {\n",
       "                    if (nbb_cells[i].input_prompt_number == nbb_cell_id) {\n",
       "                        if (nbb_cells[i].get_text() == nbb_unformatted_code) {\n",
       "                             nbb_cells[i].set_text(nbb_formatted_code);\n",
       "                        }\n",
       "                        break;\n",
       "                    }\n",
       "                }\n",
       "            }, 500);\n",
       "            "
      ],
      "text/plain": [
       "<IPython.core.display.Javascript object>"
      ]
     },
     "metadata": {},
     "output_type": "display_data"
    }
   ],
   "source": [
    "plt.rcParams[\"figure.figsize\"] = (12, 4)\n",
    "plt.rcParams.update({\"font.size\": 14})"
   ]
  },
  {
   "cell_type": "code",
   "execution_count": 9,
   "metadata": {},
   "outputs": [
    {
     "data": {
      "text/html": [
       "<div><div id=a80d4aba-c0ec-4163-a55b-f6c4a544e0a9 style=\"display:none; background-color:#9D6CFF; color:white; width:200px; height:30px; padding-left:5px; border-radius:4px; flex-direction:row; justify-content:space-around; align-items:center;\" onmouseover=\"this.style.backgroundColor='#BA9BF8'\" onmouseout=\"this.style.backgroundColor='#9D6CFF'\" onclick=\"window.commands?.execute('create-mitosheet-from-dataframe-output');\">See Full Dataframe in Mito</div> <script> if (window.commands?.hasCommand('create-mitosheet-from-dataframe-output')) document.getElementById('a80d4aba-c0ec-4163-a55b-f6c4a544e0a9').style.display = 'flex' </script> <table border=\"1\" class=\"dataframe\">\n",
       "  <thead>\n",
       "    <tr style=\"text-align: right;\">\n",
       "      <th></th>\n",
       "      <th>customer_id</th>\n",
       "      <th>months</th>\n",
       "    </tr>\n",
       "  </thead>\n",
       "  <tbody>\n",
       "    <tr>\n",
       "      <th>0</th>\n",
       "      <td>customer_id_0</td>\n",
       "      <td>50</td>\n",
       "    </tr>\n",
       "    <tr>\n",
       "      <th>1</th>\n",
       "      <td>customer_id_1</td>\n",
       "      <td>99</td>\n",
       "    </tr>\n",
       "    <tr>\n",
       "      <th>2</th>\n",
       "      <td>customer_id_2</td>\n",
       "      <td>45</td>\n",
       "    </tr>\n",
       "    <tr>\n",
       "      <th>3</th>\n",
       "      <td>customer_id_3</td>\n",
       "      <td>101</td>\n",
       "    </tr>\n",
       "    <tr>\n",
       "      <th>4</th>\n",
       "      <td>customer_id_4</td>\n",
       "      <td>13</td>\n",
       "    </tr>\n",
       "    <tr>\n",
       "      <th>5</th>\n",
       "      <td>customer_id_5</td>\n",
       "      <td>21</td>\n",
       "    </tr>\n",
       "    <tr>\n",
       "      <th>6</th>\n",
       "      <td>customer_id_6</td>\n",
       "      <td>56</td>\n",
       "    </tr>\n",
       "    <tr>\n",
       "      <th>7</th>\n",
       "      <td>customer_id_7</td>\n",
       "      <td>115</td>\n",
       "    </tr>\n",
       "    <tr>\n",
       "      <th>8</th>\n",
       "      <td>customer_id_8</td>\n",
       "      <td>26</td>\n",
       "    </tr>\n",
       "    <tr>\n",
       "      <th>9</th>\n",
       "      <td>customer_id_9</td>\n",
       "      <td>83</td>\n",
       "    </tr>\n",
       "  </tbody>\n",
       "</table></div>"
      ],
      "text/plain": [
       "     customer_id  months\n",
       "0  customer_id_0      50\n",
       "1  customer_id_1      99\n",
       "2  customer_id_2      45\n",
       "3  customer_id_3     101\n",
       "4  customer_id_4      13\n",
       "5  customer_id_5      21\n",
       "6  customer_id_6      56\n",
       "7  customer_id_7     115\n",
       "8  customer_id_8      26\n",
       "9  customer_id_9      83"
      ]
     },
     "execution_count": 9,
     "metadata": {},
     "output_type": "execute_result"
    },
    {
     "data": {
      "application/javascript": [
       "\n",
       "            setTimeout(function() {\n",
       "                var nbb_cell_id = 9;\n",
       "                var nbb_unformatted_code = \"months = np.random.randint(0, 121, 1000)\\ncustomer_id = [\\\"customer_id_\\\" + str(i) for i in range(len(months))]\\ndf = pd.DataFrame({\\\"customer_id\\\": customer_id, \\\"months\\\": months})\\ndf.head(10)\";\n",
       "                var nbb_formatted_code = \"months = np.random.randint(0, 121, 1000)\\ncustomer_id = [\\\"customer_id_\\\" + str(i) for i in range(len(months))]\\ndf = pd.DataFrame({\\\"customer_id\\\": customer_id, \\\"months\\\": months})\\ndf.head(10)\";\n",
       "                var nbb_cells = Jupyter.notebook.get_cells();\n",
       "                for (var i = 0; i < nbb_cells.length; ++i) {\n",
       "                    if (nbb_cells[i].input_prompt_number == nbb_cell_id) {\n",
       "                        if (nbb_cells[i].get_text() == nbb_unformatted_code) {\n",
       "                             nbb_cells[i].set_text(nbb_formatted_code);\n",
       "                        }\n",
       "                        break;\n",
       "                    }\n",
       "                }\n",
       "            }, 500);\n",
       "            "
      ],
      "text/plain": [
       "<IPython.core.display.Javascript object>"
      ]
     },
     "metadata": {},
     "output_type": "display_data"
    }
   ],
   "source": [
    "months = np.random.randint(0, 121, 1000)\n",
    "customer_id = [\"customer_id_\" + str(i) for i in range(len(months))]\n",
    "df = pd.DataFrame({\"customer_id\": customer_id, \"months\": months})\n",
    "df.head(10)"
   ]
  },
  {
   "cell_type": "markdown",
   "metadata": {},
   "source": [
    "#### Fixed width binning"
   ]
  },
  {
   "cell_type": "code",
   "execution_count": 10,
   "metadata": {},
   "outputs": [
    {
     "data": {
      "application/javascript": [
       "\n",
       "            setTimeout(function() {\n",
       "                var nbb_cell_id = 10;\n",
       "                var nbb_unformatted_code = \"bin_width = 18.0\";\n",
       "                var nbb_formatted_code = \"bin_width = 18.0\";\n",
       "                var nbb_cells = Jupyter.notebook.get_cells();\n",
       "                for (var i = 0; i < nbb_cells.length; ++i) {\n",
       "                    if (nbb_cells[i].input_prompt_number == nbb_cell_id) {\n",
       "                        if (nbb_cells[i].get_text() == nbb_unformatted_code) {\n",
       "                             nbb_cells[i].set_text(nbb_formatted_code);\n",
       "                        }\n",
       "                        break;\n",
       "                    }\n",
       "                }\n",
       "            }, 500);\n",
       "            "
      ],
      "text/plain": [
       "<IPython.core.display.Javascript object>"
      ]
     },
     "metadata": {},
     "output_type": "display_data"
    }
   ],
   "source": [
    "bin_width = 18.0"
   ]
  },
  {
   "cell_type": "markdown",
   "metadata": {},
   "source": [
    "``` \n",
    "Months Range : Bin\n",
    "---------------\n",
    "00 to 18  : 1\n",
    "19 to 36  : 2\n",
    "37 to 54  : 3\n",
    ".............\n",
    ".............\n",
    "```"
   ]
  },
  {
   "cell_type": "code",
   "execution_count": null,
   "metadata": {},
   "outputs": [],
   "source": []
  },
  {
   "cell_type": "code",
   "execution_count": 11,
   "metadata": {},
   "outputs": [
    {
     "data": {
      "text/html": [
       "<div><div id=a5af0b3d-4201-4ca4-827b-cd835191d086 style=\"display:none; background-color:#9D6CFF; color:white; width:200px; height:30px; padding-left:5px; border-radius:4px; flex-direction:row; justify-content:space-around; align-items:center;\" onmouseover=\"this.style.backgroundColor='#BA9BF8'\" onmouseout=\"this.style.backgroundColor='#9D6CFF'\" onclick=\"window.commands?.execute('create-mitosheet-from-dataframe-output');\">See Full Dataframe in Mito</div> <script> if (window.commands?.hasCommand('create-mitosheet-from-dataframe-output')) document.getElementById('a5af0b3d-4201-4ca4-827b-cd835191d086').style.display = 'flex' </script> <table border=\"1\" class=\"dataframe\">\n",
       "  <thead>\n",
       "    <tr style=\"text-align: right;\">\n",
       "      <th></th>\n",
       "      <th>customer_id</th>\n",
       "      <th>months</th>\n",
       "      <th>months_bin_floor</th>\n",
       "      <th>months_bin_ceil</th>\n",
       "    </tr>\n",
       "  </thead>\n",
       "  <tbody>\n",
       "    <tr>\n",
       "      <th>0</th>\n",
       "      <td>customer_id_0</td>\n",
       "      <td>50</td>\n",
       "      <td>2</td>\n",
       "      <td>3</td>\n",
       "    </tr>\n",
       "    <tr>\n",
       "      <th>1</th>\n",
       "      <td>customer_id_1</td>\n",
       "      <td>99</td>\n",
       "      <td>5</td>\n",
       "      <td>6</td>\n",
       "    </tr>\n",
       "    <tr>\n",
       "      <th>2</th>\n",
       "      <td>customer_id_2</td>\n",
       "      <td>45</td>\n",
       "      <td>2</td>\n",
       "      <td>3</td>\n",
       "    </tr>\n",
       "    <tr>\n",
       "      <th>3</th>\n",
       "      <td>customer_id_3</td>\n",
       "      <td>101</td>\n",
       "      <td>5</td>\n",
       "      <td>6</td>\n",
       "    </tr>\n",
       "    <tr>\n",
       "      <th>4</th>\n",
       "      <td>customer_id_4</td>\n",
       "      <td>13</td>\n",
       "      <td>0</td>\n",
       "      <td>1</td>\n",
       "    </tr>\n",
       "    <tr>\n",
       "      <th>5</th>\n",
       "      <td>customer_id_5</td>\n",
       "      <td>21</td>\n",
       "      <td>1</td>\n",
       "      <td>2</td>\n",
       "    </tr>\n",
       "    <tr>\n",
       "      <th>6</th>\n",
       "      <td>customer_id_6</td>\n",
       "      <td>56</td>\n",
       "      <td>3</td>\n",
       "      <td>4</td>\n",
       "    </tr>\n",
       "    <tr>\n",
       "      <th>7</th>\n",
       "      <td>customer_id_7</td>\n",
       "      <td>115</td>\n",
       "      <td>6</td>\n",
       "      <td>7</td>\n",
       "    </tr>\n",
       "    <tr>\n",
       "      <th>8</th>\n",
       "      <td>customer_id_8</td>\n",
       "      <td>26</td>\n",
       "      <td>1</td>\n",
       "      <td>2</td>\n",
       "    </tr>\n",
       "    <tr>\n",
       "      <th>9</th>\n",
       "      <td>customer_id_9</td>\n",
       "      <td>83</td>\n",
       "      <td>4</td>\n",
       "      <td>5</td>\n",
       "    </tr>\n",
       "  </tbody>\n",
       "</table></div>"
      ],
      "text/plain": [
       "     customer_id  months  months_bin_floor  months_bin_ceil\n",
       "0  customer_id_0      50                 2                3\n",
       "1  customer_id_1      99                 5                6\n",
       "2  customer_id_2      45                 2                3\n",
       "3  customer_id_3     101                 5                6\n",
       "4  customer_id_4      13                 0                1\n",
       "5  customer_id_5      21                 1                2\n",
       "6  customer_id_6      56                 3                4\n",
       "7  customer_id_7     115                 6                7\n",
       "8  customer_id_8      26                 1                2\n",
       "9  customer_id_9      83                 4                5"
      ]
     },
     "execution_count": 11,
     "metadata": {},
     "output_type": "execute_result"
    },
    {
     "data": {
      "application/javascript": [
       "\n",
       "            setTimeout(function() {\n",
       "                var nbb_cell_id = 11;\n",
       "                var nbb_unformatted_code = \"df[\\\"months_bin_floor\\\"] = np.floor(df[\\\"months\\\"] / bin_width).astype(\\\"Int64\\\")\\ndf[\\\"months_bin_ceil\\\"] = np.ceil(df[\\\"months\\\"] / bin_width).astype(\\\"Int64\\\")\\ndf.head(10)\";\n",
       "                var nbb_formatted_code = \"df[\\\"months_bin_floor\\\"] = np.floor(df[\\\"months\\\"] / bin_width).astype(\\\"Int64\\\")\\ndf[\\\"months_bin_ceil\\\"] = np.ceil(df[\\\"months\\\"] / bin_width).astype(\\\"Int64\\\")\\ndf.head(10)\";\n",
       "                var nbb_cells = Jupyter.notebook.get_cells();\n",
       "                for (var i = 0; i < nbb_cells.length; ++i) {\n",
       "                    if (nbb_cells[i].input_prompt_number == nbb_cell_id) {\n",
       "                        if (nbb_cells[i].get_text() == nbb_unformatted_code) {\n",
       "                             nbb_cells[i].set_text(nbb_formatted_code);\n",
       "                        }\n",
       "                        break;\n",
       "                    }\n",
       "                }\n",
       "            }, 500);\n",
       "            "
      ],
      "text/plain": [
       "<IPython.core.display.Javascript object>"
      ]
     },
     "metadata": {},
     "output_type": "display_data"
    }
   ],
   "source": [
    "df[\"months_bin_floor\"] = np.floor(df[\"months\"] / bin_width).astype(\"Int64\")\n",
    "df[\"months_bin_ceil\"] = np.ceil(df[\"months\"] / bin_width).astype(\"Int64\")\n",
    "df.head(10)"
   ]
  },
  {
   "cell_type": "code",
   "execution_count": 12,
   "metadata": {},
   "outputs": [
    {
     "data": {
      "text/plain": [
       "Text(0, 0.5, '# of customers')"
      ]
     },
     "execution_count": 12,
     "metadata": {},
     "output_type": "execute_result"
    },
    {
     "data": {
      "image/png": "[encoded data removed]",
      "text/plain": [
       "<Figure size 864x288 with 2 Axes>"
      ]
     },
     "metadata": {},
     "output_type": "display_data"
    },
    {
     "data": {
      "application/javascript": [
       "\n",
       "            setTimeout(function() {\n",
       "                var nbb_cell_id = 12;\n",
       "                var nbb_unformatted_code = \"plt.subplot(1, 2, 1)\\nplt.hist(df[\\\"months\\\"], bins=20, edgecolor=\\\"black\\\")\\nplt.xlabel(\\\"Months\\\")\\nplt.ylabel(\\\"# of customers\\\")\\nplt.subplot(1, 2, 2)\\ndf[\\\"months_bin_floor\\\"].value_counts().plot(kind=\\\"bar\\\", rot=0, edgecolor=\\\"black\\\")\\nplt.xlabel(\\\"Months Bin\\\")\\nplt.ylabel(\\\"# of customers\\\")\";\n",
       "                var nbb_formatted_code = \"plt.subplot(1, 2, 1)\\nplt.hist(df[\\\"months\\\"], bins=20, edgecolor=\\\"black\\\")\\nplt.xlabel(\\\"Months\\\")\\nplt.ylabel(\\\"# of customers\\\")\\nplt.subplot(1, 2, 2)\\ndf[\\\"months_bin_floor\\\"].value_counts().plot(kind=\\\"bar\\\", rot=0, edgecolor=\\\"black\\\")\\nplt.xlabel(\\\"Months Bin\\\")\\nplt.ylabel(\\\"# of customers\\\")\";\n",
       "                var nbb_cells = Jupyter.notebook.get_cells();\n",
       "                for (var i = 0; i < nbb_cells.length; ++i) {\n",
       "                    if (nbb_cells[i].input_prompt_number == nbb_cell_id) {\n",
       "                        if (nbb_cells[i].get_text() == nbb_unformatted_code) {\n",
       "                             nbb_cells[i].set_text(nbb_formatted_code);\n",
       "                        }\n",
       "                        break;\n",
       "                    }\n",
       "                }\n",
       "            }, 500);\n",
       "            "
      ],
      "text/plain": [
       "<IPython.core.display.Javascript object>"
      ]
     },
     "metadata": {},
     "output_type": "display_data"
    }
   ],
   "source": [
    "plt.subplot(1, 2, 1)\n",
    "plt.hist(df[\"months\"], bins=20, edgecolor=\"black\")\n",
    "plt.xlabel(\"Months\")\n",
    "plt.ylabel(\"# of customers\")\n",
    "plt.subplot(1, 2, 2)\n",
    "df[\"months_bin_floor\"].value_counts().plot(kind=\"bar\", rot=0, edgecolor=\"black\")\n",
    "plt.xlabel(\"Months Bin\")\n",
    "plt.ylabel(\"# of customers\")\n"
   ]
  },
  {
   "cell_type": "markdown",
   "metadata": {},
   "source": [
    "#### Fixed number of bins\n"
   ]
  },
  {
   "cell_type": "code",
   "execution_count": 13,
   "metadata": {},
   "outputs": [
    {
     "data": {
      "application/javascript": [
       "\n",
       "            setTimeout(function() {\n",
       "                var nbb_cell_id = 13;\n",
       "                var nbb_unformatted_code = \"nbins = 5\";\n",
       "                var nbb_formatted_code = \"nbins = 5\";\n",
       "                var nbb_cells = Jupyter.notebook.get_cells();\n",
       "                for (var i = 0; i < nbb_cells.length; ++i) {\n",
       "                    if (nbb_cells[i].input_prompt_number == nbb_cell_id) {\n",
       "                        if (nbb_cells[i].get_text() == nbb_unformatted_code) {\n",
       "                             nbb_cells[i].set_text(nbb_formatted_code);\n",
       "                        }\n",
       "                        break;\n",
       "                    }\n",
       "                }\n",
       "            }, 500);\n",
       "            "
      ],
      "text/plain": [
       "<IPython.core.display.Javascript object>"
      ]
     },
     "metadata": {},
     "output_type": "display_data"
    }
   ],
   "source": [
    "nbins = 5"
   ]
  },
  {
   "cell_type": "code",
   "execution_count": 18,
   "metadata": {},
   "outputs": [
    {
     "name": "stdout",
     "output_type": "stream",
     "text": [
      "min:  0\n",
      "max:  120\n"
     ]
    },
    {
     "data": {
      "application/javascript": [
       "\n",
       "            setTimeout(function() {\n",
       "                var nbb_cell_id = 18;\n",
       "                var nbb_unformatted_code = \"print(\\\"min: \\\", df[\\\"months\\\"].min())\\nprint(\\\"max: \\\", df[\\\"months\\\"].max())\";\n",
       "                var nbb_formatted_code = \"print(\\\"min: \\\", df[\\\"months\\\"].min())\\nprint(\\\"max: \\\", df[\\\"months\\\"].max())\";\n",
       "                var nbb_cells = Jupyter.notebook.get_cells();\n",
       "                for (var i = 0; i < nbb_cells.length; ++i) {\n",
       "                    if (nbb_cells[i].input_prompt_number == nbb_cell_id) {\n",
       "                        if (nbb_cells[i].get_text() == nbb_unformatted_code) {\n",
       "                             nbb_cells[i].set_text(nbb_formatted_code);\n",
       "                        }\n",
       "                        break;\n",
       "                    }\n",
       "                }\n",
       "            }, 500);\n",
       "            "
      ],
      "text/plain": [
       "<IPython.core.display.Javascript object>"
      ]
     },
     "metadata": {},
     "output_type": "display_data"
    }
   ],
   "source": [
    "print(\"min: \", df[\"months\"].min())\n",
    "print(\"max: \", df[\"months\"].max())"
   ]
  },
  {
   "cell_type": "code",
   "execution_count": 14,
   "metadata": {},
   "outputs": [
    {
     "name": "stdout",
     "output_type": "stream",
     "text": [
      "bin width:  24\n"
     ]
    },
    {
     "data": {
      "application/javascript": [
       "\n",
       "            setTimeout(function() {\n",
       "                var nbb_cell_id = 14;\n",
       "                var nbb_unformatted_code = \"# width = (max - min )/ nbins\\nbin_width = round((df[\\\"months\\\"].max() - df[\\\"months\\\"].min()) / nbins)\\nprint(\\\"bin width: \\\", bin_width)\";\n",
       "                var nbb_formatted_code = \"# width = (max - min )/ nbins\\nbin_width = round((df[\\\"months\\\"].max() - df[\\\"months\\\"].min()) / nbins)\\nprint(\\\"bin width: \\\", bin_width)\";\n",
       "                var nbb_cells = Jupyter.notebook.get_cells();\n",
       "                for (var i = 0; i < nbb_cells.length; ++i) {\n",
       "                    if (nbb_cells[i].input_prompt_number == nbb_cell_id) {\n",
       "                        if (nbb_cells[i].get_text() == nbb_unformatted_code) {\n",
       "                             nbb_cells[i].set_text(nbb_formatted_code);\n",
       "                        }\n",
       "                        break;\n",
       "                    }\n",
       "                }\n",
       "            }, 500);\n",
       "            "
      ],
      "text/plain": [
       "<IPython.core.display.Javascript object>"
      ]
     },
     "metadata": {},
     "output_type": "display_data"
    }
   ],
   "source": [
    "# width = (max - min )/ nbins\n",
    "bin_width = round((df[\"months\"].max() - df[\"months\"].min()) / nbins)\n",
    "print(\"bin width: \", bin_width)"
   ]
  },
  {
   "cell_type": "code",
   "execution_count": null,
   "metadata": {},
   "outputs": [],
   "source": [
    "\n"
   ]
  },
  {
   "cell_type": "code",
   "execution_count": 16,
   "metadata": {},
   "outputs": [
    {
     "data": {
      "text/html": [
       "<div><div id=dc965bf4-05eb-4ee8-96a4-e9737412329b style=\"display:none; background-color:#9D6CFF; color:white; width:200px; height:30px; padding-left:5px; border-radius:4px; flex-direction:row; justify-content:space-around; align-items:center;\" onmouseover=\"this.style.backgroundColor='#BA9BF8'\" onmouseout=\"this.style.backgroundColor='#9D6CFF'\" onclick=\"window.commands?.execute('create-mitosheet-from-dataframe-output');\">See Full Dataframe in Mito</div> <script> if (window.commands?.hasCommand('create-mitosheet-from-dataframe-output')) document.getElementById('dc965bf4-05eb-4ee8-96a4-e9737412329b').style.display = 'flex' </script> <table border=\"1\" class=\"dataframe\">\n",
       "  <thead>\n",
       "    <tr style=\"text-align: right;\">\n",
       "      <th></th>\n",
       "      <th>customer_id</th>\n",
       "      <th>months</th>\n",
       "      <th>months_bin_floor</th>\n",
       "      <th>months_bin_ceil</th>\n",
       "      <th>months_bin_cut</th>\n",
       "      <th>months_bin_label</th>\n",
       "      <th>months_bin_label_2</th>\n",
       "    </tr>\n",
       "  </thead>\n",
       "  <tbody>\n",
       "    <tr>\n",
       "      <th>0</th>\n",
       "      <td>customer_id_0</td>\n",
       "      <td>50</td>\n",
       "      <td>2</td>\n",
       "      <td>3</td>\n",
       "      <td>2</td>\n",
       "      <td>(48.0, 72.0]</td>\n",
       "      <td>(48, 72]</td>\n",
       "    </tr>\n",
       "    <tr>\n",
       "      <th>1</th>\n",
       "      <td>customer_id_1</td>\n",
       "      <td>99</td>\n",
       "      <td>4</td>\n",
       "      <td>5</td>\n",
       "      <td>4</td>\n",
       "      <td>(96.0, 120.0]</td>\n",
       "      <td>(96, 120]</td>\n",
       "    </tr>\n",
       "    <tr>\n",
       "      <th>2</th>\n",
       "      <td>customer_id_2</td>\n",
       "      <td>45</td>\n",
       "      <td>1</td>\n",
       "      <td>2</td>\n",
       "      <td>1</td>\n",
       "      <td>(24.0, 48.0]</td>\n",
       "      <td>(24, 48]</td>\n",
       "    </tr>\n",
       "    <tr>\n",
       "      <th>3</th>\n",
       "      <td>customer_id_3</td>\n",
       "      <td>101</td>\n",
       "      <td>4</td>\n",
       "      <td>5</td>\n",
       "      <td>4</td>\n",
       "      <td>(96.0, 120.0]</td>\n",
       "      <td>(96, 120]</td>\n",
       "    </tr>\n",
       "    <tr>\n",
       "      <th>4</th>\n",
       "      <td>customer_id_4</td>\n",
       "      <td>13</td>\n",
       "      <td>0</td>\n",
       "      <td>1</td>\n",
       "      <td>0</td>\n",
       "      <td>(-0.12, 24.0]</td>\n",
       "      <td>(0, 24]</td>\n",
       "    </tr>\n",
       "    <tr>\n",
       "      <th>5</th>\n",
       "      <td>customer_id_5</td>\n",
       "      <td>21</td>\n",
       "      <td>0</td>\n",
       "      <td>1</td>\n",
       "      <td>0</td>\n",
       "      <td>(-0.12, 24.0]</td>\n",
       "      <td>(0, 24]</td>\n",
       "    </tr>\n",
       "    <tr>\n",
       "      <th>6</th>\n",
       "      <td>customer_id_6</td>\n",
       "      <td>56</td>\n",
       "      <td>2</td>\n",
       "      <td>3</td>\n",
       "      <td>2</td>\n",
       "      <td>(48.0, 72.0]</td>\n",
       "      <td>(48, 72]</td>\n",
       "    </tr>\n",
       "    <tr>\n",
       "      <th>7</th>\n",
       "      <td>customer_id_7</td>\n",
       "      <td>115</td>\n",
       "      <td>4</td>\n",
       "      <td>5</td>\n",
       "      <td>4</td>\n",
       "      <td>(96.0, 120.0]</td>\n",
       "      <td>(96, 120]</td>\n",
       "    </tr>\n",
       "    <tr>\n",
       "      <th>8</th>\n",
       "      <td>customer_id_8</td>\n",
       "      <td>26</td>\n",
       "      <td>1</td>\n",
       "      <td>2</td>\n",
       "      <td>1</td>\n",
       "      <td>(24.0, 48.0]</td>\n",
       "      <td>(24, 48]</td>\n",
       "    </tr>\n",
       "    <tr>\n",
       "      <th>9</th>\n",
       "      <td>customer_id_9</td>\n",
       "      <td>83</td>\n",
       "      <td>3</td>\n",
       "      <td>4</td>\n",
       "      <td>3</td>\n",
       "      <td>(72.0, 96.0]</td>\n",
       "      <td>(72, 96]</td>\n",
       "    </tr>\n",
       "  </tbody>\n",
       "</table></div>"
      ],
      "text/plain": [
       "     customer_id  months  months_bin_floor  months_bin_ceil  months_bin_cut  \\\n",
       "0  customer_id_0      50                 2                3               2   \n",
       "1  customer_id_1      99                 4                5               4   \n",
       "2  customer_id_2      45                 1                2               1   \n",
       "3  customer_id_3     101                 4                5               4   \n",
       "4  customer_id_4      13                 0                1               0   \n",
       "5  customer_id_5      21                 0                1               0   \n",
       "6  customer_id_6      56                 2                3               2   \n",
       "7  customer_id_7     115                 4                5               4   \n",
       "8  customer_id_8      26                 1                2               1   \n",
       "9  customer_id_9      83                 3                4               3   \n",
       "\n",
       "  months_bin_label months_bin_label_2  \n",
       "0     (48.0, 72.0]           (48, 72]  \n",
       "1    (96.0, 120.0]          (96, 120]  \n",
       "2     (24.0, 48.0]           (24, 48]  \n",
       "3    (96.0, 120.0]          (96, 120]  \n",
       "4    (-0.12, 24.0]            (0, 24]  \n",
       "5    (-0.12, 24.0]            (0, 24]  \n",
       "6     (48.0, 72.0]           (48, 72]  \n",
       "7    (96.0, 120.0]          (96, 120]  \n",
       "8     (24.0, 48.0]           (24, 48]  \n",
       "9     (72.0, 96.0]           (72, 96]  "
      ]
     },
     "execution_count": 16,
     "metadata": {},
     "output_type": "execute_result"
    },
    {
     "data": {
      "application/javascript": [
       "\n",
       "            setTimeout(function() {\n",
       "                var nbb_cell_id = 16;\n",
       "                var nbb_unformatted_code = \"df[\\\"months_bin_floor\\\"] = np.floor(df[\\\"months\\\"] / bin_width).astype(\\\"Int64\\\")\\ndf[\\\"months_bin_ceil\\\"] = np.ceil(df[\\\"months\\\"] / bin_width).astype(\\\"Int64\\\")\\n\\ndf[\\\"months_bin_cut\\\"] = pd.cut(df[\\\"months\\\"], bins=nbins, labels=False)\\ndf[\\\"months_bin_label\\\"] = pd.cut(df[\\\"months\\\"], bins=nbins)\\ndf[\\\"months_bin_label_2\\\"] = pd.cut(df[\\\"months\\\"], bins=[0, 24, 48, 72, 96, 120])\\n\\ndf.head(10)\";\n",
       "                var nbb_formatted_code = \"df[\\\"months_bin_floor\\\"] = np.floor(df[\\\"months\\\"] / bin_width).astype(\\\"Int64\\\")\\ndf[\\\"months_bin_ceil\\\"] = np.ceil(df[\\\"months\\\"] / bin_width).astype(\\\"Int64\\\")\\n\\ndf[\\\"months_bin_cut\\\"] = pd.cut(df[\\\"months\\\"], bins=nbins, labels=False)\\ndf[\\\"months_bin_label\\\"] = pd.cut(df[\\\"months\\\"], bins=nbins)\\ndf[\\\"months_bin_label_2\\\"] = pd.cut(df[\\\"months\\\"], bins=[0, 24, 48, 72, 96, 120])\\n\\ndf.head(10)\";\n",
       "                var nbb_cells = Jupyter.notebook.get_cells();\n",
       "                for (var i = 0; i < nbb_cells.length; ++i) {\n",
       "                    if (nbb_cells[i].input_prompt_number == nbb_cell_id) {\n",
       "                        if (nbb_cells[i].get_text() == nbb_unformatted_code) {\n",
       "                             nbb_cells[i].set_text(nbb_formatted_code);\n",
       "                        }\n",
       "                        break;\n",
       "                    }\n",
       "                }\n",
       "            }, 500);\n",
       "            "
      ],
      "text/plain": [
       "<IPython.core.display.Javascript object>"
      ]
     },
     "metadata": {},
     "output_type": "display_data"
    }
   ],
   "source": [
    "df[\"months_bin_floor\"] = np.floor(df[\"months\"] / bin_width).astype(\"Int64\")\n",
    "df[\"months_bin_ceil\"] = np.ceil(df[\"months\"] / bin_width).astype(\"Int64\")\n",
    "\n",
    "df[\"months_bin_cut\"] = pd.cut(df[\"months\"], bins=nbins, labels=False)\n",
    "df[\"months_bin_label\"] = pd.cut(df[\"months\"], bins=nbins)\n",
    "df[\"months_bin_label_2\"] = pd.cut(df[\"months\"], bins=[0, 24, 48, 72, 96, 120])\n",
    "\n",
    "df.head(10)"
   ]
  },
  {
   "cell_type": "code",
   "execution_count": 17,
   "metadata": {},
   "outputs": [
    {
     "data": {
      "text/plain": [
       "Text(0, 0.5, '# of customers')"
      ]
     },
     "execution_count": 17,
     "metadata": {},
     "output_type": "execute_result"
    },
    {
     "data": {
      "image/png": "[encoded data removed]",
      "text/plain": [
       "<Figure size 864x288 with 2 Axes>"
      ]
     },
     "metadata": {},
     "output_type": "display_data"
    },
    {
     "data": {
      "application/javascript": [
       "\n",
       "            setTimeout(function() {\n",
       "                var nbb_cell_id = 17;\n",
       "                var nbb_unformatted_code = \"plt.subplot(1, 2, 1)\\nplt.hist(df[\\\"months\\\"], bins=20, edgecolor=\\\"black\\\")\\nplt.xlabel(\\\"months\\\")\\nplt.ylabel(\\\"# of customers\\\")\\nplt.subplot(1, 2, 2)\\ndf[\\\"months_bin_floor\\\"].value_counts().plot(kind=\\\"bar\\\", rot=0, edgecolor=\\\"black\\\")\\nplt.xlabel(\\\"Months Bin\\\")\\nplt.ylabel(\\\"# of customers\\\")\\n# _ = plt.hist(df[\\\"Age_bin_ceil\\\"], edgecolor=\\\"black\\\")\\n# plt.grid()\";\n",
       "                var nbb_formatted_code = \"plt.subplot(1, 2, 1)\\nplt.hist(df[\\\"months\\\"], bins=20, edgecolor=\\\"black\\\")\\nplt.xlabel(\\\"months\\\")\\nplt.ylabel(\\\"# of customers\\\")\\nplt.subplot(1, 2, 2)\\ndf[\\\"months_bin_floor\\\"].value_counts().plot(kind=\\\"bar\\\", rot=0, edgecolor=\\\"black\\\")\\nplt.xlabel(\\\"Months Bin\\\")\\nplt.ylabel(\\\"# of customers\\\")\\n# _ = plt.hist(df[\\\"Age_bin_ceil\\\"], edgecolor=\\\"black\\\")\\n# plt.grid()\";\n",
       "                var nbb_cells = Jupyter.notebook.get_cells();\n",
       "                for (var i = 0; i < nbb_cells.length; ++i) {\n",
       "                    if (nbb_cells[i].input_prompt_number == nbb_cell_id) {\n",
       "                        if (nbb_cells[i].get_text() == nbb_unformatted_code) {\n",
       "                             nbb_cells[i].set_text(nbb_formatted_code);\n",
       "                        }\n",
       "                        break;\n",
       "                    }\n",
       "                }\n",
       "            }, 500);\n",
       "            "
      ],
      "text/plain": [
       "<IPython.core.display.Javascript object>"
      ]
     },
     "metadata": {},
     "output_type": "display_data"
    }
   ],
   "source": [
    "plt.subplot(1, 2, 1)\n",
    "plt.hist(df[\"months\"], bins=20, edgecolor=\"black\")\n",
    "plt.xlabel(\"months\")\n",
    "plt.ylabel(\"# of customers\")\n",
    "plt.subplot(1, 2, 2)\n",
    "df[\"months_bin_floor\"].value_counts().plot(kind=\"bar\", rot=0, edgecolor=\"black\")\n",
    "plt.xlabel(\"Months Bin\")\n",
    "plt.ylabel(\"# of customers\")\n",
    "# _ = plt.hist(df[\"Age_bin_ceil\"], edgecolor=\"black\")\n",
    "# plt.grid()"
   ]
  },
  {
   "cell_type": "code",
   "execution_count": null,
   "metadata": {},
   "outputs": [],
   "source": []
  },
  {
   "cell_type": "code",
   "execution_count": null,
   "metadata": {},
   "outputs": [],
   "source": []
  }
 ],
 "metadata": {
  "kernelspec": {
   "display_name": "Python 3 (ipykernel)",
   "language": "python",
   "name": "python3"
  },
  "language_info": {
   "codemirror_mode": {
    "name": "ipython",
    "version": 3
   },
   "file_extension": ".py",
   "mimetype": "text/x-python",
   "name": "python",
   "nbconvert_exporter": "python",
   "pygments_lexer": "ipython3",
   "version": "3.8.13"
  },
  "toc": {
   "base_numbering": 1,
   "nav_menu": {},
   "number_sections": true,
   "sideBar": true,
   "skip_h1_title": false,
   "title_cell": "Table of Contents",
   "title_sidebar": "Contents",
   "toc_cell": false,
   "toc_position": {},
   "toc_section_display": true,
   "toc_window_display": true
  }
 },
 "nbformat": 4,
 "nbformat_minor": 4
}
