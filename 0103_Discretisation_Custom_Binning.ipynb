{
 "cells": [
  {
   "cell_type": "code",
   "execution_count": 1,
   "metadata": {},
   "outputs": [
    {
     "data": {
      "application/javascript": [
       "\n",
       "            setTimeout(function() {\n",
       "                var nbb_cell_id = 1;\n",
       "                var nbb_unformatted_code = \"%load_ext nb_black\";\n",
       "                var nbb_formatted_code = \"%load_ext nb_black\";\n",
       "                var nbb_cells = Jupyter.notebook.get_cells();\n",
       "                for (var i = 0; i < nbb_cells.length; ++i) {\n",
       "                    if (nbb_cells[i].input_prompt_number == nbb_cell_id) {\n",
       "                        if (nbb_cells[i].get_text() == nbb_unformatted_code) {\n",
       "                             nbb_cells[i].set_text(nbb_formatted_code);\n",
       "                        }\n",
       "                        break;\n",
       "                    }\n",
       "                }\n",
       "            }, 500);\n",
       "            "
      ],
      "text/plain": [
       "<IPython.core.display.Javascript object>"
      ]
     },
     "metadata": {},
     "output_type": "display_data"
    }
   ],
   "source": [
    "%load_ext nb_black"
   ]
  },
  {
   "cell_type": "code",
   "execution_count": 2,
   "metadata": {},
   "outputs": [
    {
     "data": {
      "application/javascript": [
       "\n",
       "            setTimeout(function() {\n",
       "                var nbb_cell_id = 2;\n",
       "                var nbb_unformatted_code = \"import random\\nimport pandas as pd\\nimport numpy as np\\nfrom scipy import stats\\nimport matplotlib.pyplot as plt\\n\\nplt.style.use(\\\"fivethirtyeight\\\")\";\n",
       "                var nbb_formatted_code = \"import random\\nimport pandas as pd\\nimport numpy as np\\nfrom scipy import stats\\nimport matplotlib.pyplot as plt\\n\\nplt.style.use(\\\"fivethirtyeight\\\")\";\n",
       "                var nbb_cells = Jupyter.notebook.get_cells();\n",
       "                for (var i = 0; i < nbb_cells.length; ++i) {\n",
       "                    if (nbb_cells[i].input_prompt_number == nbb_cell_id) {\n",
       "                        if (nbb_cells[i].get_text() == nbb_unformatted_code) {\n",
       "                             nbb_cells[i].set_text(nbb_formatted_code);\n",
       "                        }\n",
       "                        break;\n",
       "                    }\n",
       "                }\n",
       "            }, 500);\n",
       "            "
      ],
      "text/plain": [
       "<IPython.core.display.Javascript object>"
      ]
     },
     "metadata": {},
     "output_type": "display_data"
    }
   ],
   "source": [
    "import random\n",
    "import pandas as pd\n",
    "import numpy as np\n",
    "from scipy import stats\n",
    "import matplotlib.pyplot as plt\n",
    "\n",
    "plt.style.use(\"fivethirtyeight\")"
   ]
  },
  {
   "cell_type": "code",
   "execution_count": 3,
   "metadata": {},
   "outputs": [
    {
     "data": {
      "application/javascript": [
       "\n",
       "            setTimeout(function() {\n",
       "                var nbb_cell_id = 3;\n",
       "                var nbb_unformatted_code = \"plt.rcParams[\\\"figure.figsize\\\"] = (12, 4)\\nplt.rcParams.update({\\\"font.size\\\": 14})\";\n",
       "                var nbb_formatted_code = \"plt.rcParams[\\\"figure.figsize\\\"] = (12, 4)\\nplt.rcParams.update({\\\"font.size\\\": 14})\";\n",
       "                var nbb_cells = Jupyter.notebook.get_cells();\n",
       "                for (var i = 0; i < nbb_cells.length; ++i) {\n",
       "                    if (nbb_cells[i].input_prompt_number == nbb_cell_id) {\n",
       "                        if (nbb_cells[i].get_text() == nbb_unformatted_code) {\n",
       "                             nbb_cells[i].set_text(nbb_formatted_code);\n",
       "                        }\n",
       "                        break;\n",
       "                    }\n",
       "                }\n",
       "            }, 500);\n",
       "            "
      ],
      "text/plain": [
       "<IPython.core.display.Javascript object>"
      ]
     },
     "metadata": {},
     "output_type": "display_data"
    }
   ],
   "source": [
    "plt.rcParams[\"figure.figsize\"] = (12, 4)\n",
    "plt.rcParams.update({\"font.size\": 14})"
   ]
  },
  {
   "cell_type": "code",
   "execution_count": 4,
   "metadata": {},
   "outputs": [
    {
     "data": {
      "text/html": [
       "<div><div id=7f50e762-de44-45b4-ae99-262559a5a20b style=\"display:none; background-color:#9D6CFF; color:white; width:200px; height:30px; padding-left:5px; border-radius:4px; flex-direction:row; justify-content:space-around; align-items:center;\" onmouseover=\"this.style.backgroundColor='#BA9BF8'\" onmouseout=\"this.style.backgroundColor='#9D6CFF'\" onclick=\"window.commands?.execute('create-mitosheet-from-dataframe-output');\">See Full Dataframe in Mito</div> <script> if (window.commands?.hasCommand('create-mitosheet-from-dataframe-output')) document.getElementById('7f50e762-de44-45b4-ae99-262559a5a20b').style.display = 'flex' </script> <table border=\"1\" class=\"dataframe\">\n",
       "  <thead>\n",
       "    <tr style=\"text-align: right;\">\n",
       "      <th></th>\n",
       "      <th>customer_id</th>\n",
       "      <th>age</th>\n",
       "    </tr>\n",
       "  </thead>\n",
       "  <tbody>\n",
       "    <tr>\n",
       "      <th>0</th>\n",
       "      <td>customer_id_0</td>\n",
       "      <td>58</td>\n",
       "    </tr>\n",
       "    <tr>\n",
       "      <th>1</th>\n",
       "      <td>customer_id_1</td>\n",
       "      <td>24</td>\n",
       "    </tr>\n",
       "    <tr>\n",
       "      <th>2</th>\n",
       "      <td>customer_id_2</td>\n",
       "      <td>50</td>\n",
       "    </tr>\n",
       "    <tr>\n",
       "      <th>3</th>\n",
       "      <td>customer_id_3</td>\n",
       "      <td>72</td>\n",
       "    </tr>\n",
       "    <tr>\n",
       "      <th>4</th>\n",
       "      <td>customer_id_4</td>\n",
       "      <td>30</td>\n",
       "    </tr>\n",
       "    <tr>\n",
       "      <th>5</th>\n",
       "      <td>customer_id_5</td>\n",
       "      <td>92</td>\n",
       "    </tr>\n",
       "    <tr>\n",
       "      <th>6</th>\n",
       "      <td>customer_id_6</td>\n",
       "      <td>4</td>\n",
       "    </tr>\n",
       "    <tr>\n",
       "      <th>7</th>\n",
       "      <td>customer_id_7</td>\n",
       "      <td>33</td>\n",
       "    </tr>\n",
       "    <tr>\n",
       "      <th>8</th>\n",
       "      <td>customer_id_8</td>\n",
       "      <td>92</td>\n",
       "    </tr>\n",
       "    <tr>\n",
       "      <th>9</th>\n",
       "      <td>customer_id_9</td>\n",
       "      <td>22</td>\n",
       "    </tr>\n",
       "  </tbody>\n",
       "</table></div>"
      ],
      "text/plain": [
       "     customer_id  age\n",
       "0  customer_id_0   58\n",
       "1  customer_id_1   24\n",
       "2  customer_id_2   50\n",
       "3  customer_id_3   72\n",
       "4  customer_id_4   30\n",
       "5  customer_id_5   92\n",
       "6  customer_id_6    4\n",
       "7  customer_id_7   33\n",
       "8  customer_id_8   92\n",
       "9  customer_id_9   22"
      ]
     },
     "execution_count": 4,
     "metadata": {},
     "output_type": "execute_result"
    },
    {
     "data": {
      "application/javascript": [
       "\n",
       "            setTimeout(function() {\n",
       "                var nbb_cell_id = 4;\n",
       "                var nbb_unformatted_code = \"age = np.random.randint(0, 100, 10000)\\ncustomer_id = [\\\"customer_id_\\\" + str(i) for i in range(len(age))]\\ndf = pd.DataFrame({\\\"customer_id\\\": customer_id, \\\"age\\\": age})\\ndf.head(10)\";\n",
       "                var nbb_formatted_code = \"age = np.random.randint(0, 100, 10000)\\ncustomer_id = [\\\"customer_id_\\\" + str(i) for i in range(len(age))]\\ndf = pd.DataFrame({\\\"customer_id\\\": customer_id, \\\"age\\\": age})\\ndf.head(10)\";\n",
       "                var nbb_cells = Jupyter.notebook.get_cells();\n",
       "                for (var i = 0; i < nbb_cells.length; ++i) {\n",
       "                    if (nbb_cells[i].input_prompt_number == nbb_cell_id) {\n",
       "                        if (nbb_cells[i].get_text() == nbb_unformatted_code) {\n",
       "                             nbb_cells[i].set_text(nbb_formatted_code);\n",
       "                        }\n",
       "                        break;\n",
       "                    }\n",
       "                }\n",
       "            }, 500);\n",
       "            "
      ],
      "text/plain": [
       "<IPython.core.display.Javascript object>"
      ]
     },
     "metadata": {},
     "output_type": "display_data"
    }
   ],
   "source": [
    "age = np.random.randint(0, 100, 10000)\n",
    "customer_id = [\"customer_id_\" + str(i) for i in range(len(age))]\n",
    "df = pd.DataFrame({\"customer_id\": customer_id, \"age\": age})\n",
    "df.head(10)"
   ]
  },
  {
   "cell_type": "code",
   "execution_count": 5,
   "metadata": {},
   "outputs": [
    {
     "data": {
      "application/javascript": [
       "\n",
       "            setTimeout(function() {\n",
       "                var nbb_cell_id = 5;\n",
       "                var nbb_unformatted_code = \"bin_ranges = [0, 3, 12, 19, 60, 100]\\nbin_names_str = [\\\"toddler\\\", \\\"child\\\", \\\"teen\\\", \\\"adult\\\", \\\"senior\\\"]\";\n",
       "                var nbb_formatted_code = \"bin_ranges = [0, 3, 12, 19, 60, 100]\\nbin_names_str = [\\\"toddler\\\", \\\"child\\\", \\\"teen\\\", \\\"adult\\\", \\\"senior\\\"]\";\n",
       "                var nbb_cells = Jupyter.notebook.get_cells();\n",
       "                for (var i = 0; i < nbb_cells.length; ++i) {\n",
       "                    if (nbb_cells[i].input_prompt_number == nbb_cell_id) {\n",
       "                        if (nbb_cells[i].get_text() == nbb_unformatted_code) {\n",
       "                             nbb_cells[i].set_text(nbb_formatted_code);\n",
       "                        }\n",
       "                        break;\n",
       "                    }\n",
       "                }\n",
       "            }, 500);\n",
       "            "
      ],
      "text/plain": [
       "<IPython.core.display.Javascript object>"
      ]
     },
     "metadata": {},
     "output_type": "display_data"
    }
   ],
   "source": [
    "bin_ranges = [0, 3, 12, 19, 60, 100]\n",
    "bin_names_str = [\"toddler\", \"child\", \"teen\", \"adult\", \"senior\"]"
   ]
  },
  {
   "cell_type": "code",
   "execution_count": 6,
   "metadata": {},
   "outputs": [
    {
     "data": {
      "text/html": [
       "<div><div id=a872308f-e99d-4281-8a57-9c25c56fad13 style=\"display:none; background-color:#9D6CFF; color:white; width:200px; height:30px; padding-left:5px; border-radius:4px; flex-direction:row; justify-content:space-around; align-items:center;\" onmouseover=\"this.style.backgroundColor='#BA9BF8'\" onmouseout=\"this.style.backgroundColor='#9D6CFF'\" onclick=\"window.commands?.execute('create-mitosheet-from-dataframe-output');\">See Full Dataframe in Mito</div> <script> if (window.commands?.hasCommand('create-mitosheet-from-dataframe-output')) document.getElementById('a872308f-e99d-4281-8a57-9c25c56fad13').style.display = 'flex' </script> <table border=\"1\" class=\"dataframe\">\n",
       "  <thead>\n",
       "    <tr style=\"text-align: right;\">\n",
       "      <th></th>\n",
       "      <th>customer_id</th>\n",
       "      <th>age</th>\n",
       "      <th>age_bin_custom_range</th>\n",
       "      <th>age_bin_str_label</th>\n",
       "    </tr>\n",
       "  </thead>\n",
       "  <tbody>\n",
       "    <tr>\n",
       "      <th>0</th>\n",
       "      <td>customer_id_0</td>\n",
       "      <td>58</td>\n",
       "      <td>(19, 60]</td>\n",
       "      <td>adult</td>\n",
       "    </tr>\n",
       "    <tr>\n",
       "      <th>1</th>\n",
       "      <td>customer_id_1</td>\n",
       "      <td>24</td>\n",
       "      <td>(19, 60]</td>\n",
       "      <td>adult</td>\n",
       "    </tr>\n",
       "    <tr>\n",
       "      <th>2</th>\n",
       "      <td>customer_id_2</td>\n",
       "      <td>50</td>\n",
       "      <td>(19, 60]</td>\n",
       "      <td>adult</td>\n",
       "    </tr>\n",
       "    <tr>\n",
       "      <th>3</th>\n",
       "      <td>customer_id_3</td>\n",
       "      <td>72</td>\n",
       "      <td>(60, 100]</td>\n",
       "      <td>senior</td>\n",
       "    </tr>\n",
       "    <tr>\n",
       "      <th>4</th>\n",
       "      <td>customer_id_4</td>\n",
       "      <td>30</td>\n",
       "      <td>(19, 60]</td>\n",
       "      <td>adult</td>\n",
       "    </tr>\n",
       "    <tr>\n",
       "      <th>5</th>\n",
       "      <td>customer_id_5</td>\n",
       "      <td>92</td>\n",
       "      <td>(60, 100]</td>\n",
       "      <td>senior</td>\n",
       "    </tr>\n",
       "    <tr>\n",
       "      <th>6</th>\n",
       "      <td>customer_id_6</td>\n",
       "      <td>4</td>\n",
       "      <td>(3, 12]</td>\n",
       "      <td>child</td>\n",
       "    </tr>\n",
       "    <tr>\n",
       "      <th>7</th>\n",
       "      <td>customer_id_7</td>\n",
       "      <td>33</td>\n",
       "      <td>(19, 60]</td>\n",
       "      <td>adult</td>\n",
       "    </tr>\n",
       "    <tr>\n",
       "      <th>8</th>\n",
       "      <td>customer_id_8</td>\n",
       "      <td>92</td>\n",
       "      <td>(60, 100]</td>\n",
       "      <td>senior</td>\n",
       "    </tr>\n",
       "    <tr>\n",
       "      <th>9</th>\n",
       "      <td>customer_id_9</td>\n",
       "      <td>22</td>\n",
       "      <td>(19, 60]</td>\n",
       "      <td>adult</td>\n",
       "    </tr>\n",
       "  </tbody>\n",
       "</table></div>"
      ],
      "text/plain": [
       "     customer_id  age age_bin_custom_range age_bin_str_label\n",
       "0  customer_id_0   58             (19, 60]             adult\n",
       "1  customer_id_1   24             (19, 60]             adult\n",
       "2  customer_id_2   50             (19, 60]             adult\n",
       "3  customer_id_3   72            (60, 100]            senior\n",
       "4  customer_id_4   30             (19, 60]             adult\n",
       "5  customer_id_5   92            (60, 100]            senior\n",
       "6  customer_id_6    4              (3, 12]             child\n",
       "7  customer_id_7   33             (19, 60]             adult\n",
       "8  customer_id_8   92            (60, 100]            senior\n",
       "9  customer_id_9   22             (19, 60]             adult"
      ]
     },
     "execution_count": 6,
     "metadata": {},
     "output_type": "execute_result"
    },
    {
     "data": {
      "application/javascript": [
       "\n",
       "            setTimeout(function() {\n",
       "                var nbb_cell_id = 6;\n",
       "                var nbb_unformatted_code = \"df[\\\"age_bin_custom_range\\\"] = pd.cut(df[\\\"age\\\"], bins=bin_ranges)\\ndf[\\\"age_bin_str_label\\\"] = pd.cut(df[\\\"age\\\"], bins=bin_ranges, labels=bin_names_str)\\n\\ndf.head(10)\";\n",
       "                var nbb_formatted_code = \"df[\\\"age_bin_custom_range\\\"] = pd.cut(df[\\\"age\\\"], bins=bin_ranges)\\ndf[\\\"age_bin_str_label\\\"] = pd.cut(df[\\\"age\\\"], bins=bin_ranges, labels=bin_names_str)\\n\\ndf.head(10)\";\n",
       "                var nbb_cells = Jupyter.notebook.get_cells();\n",
       "                for (var i = 0; i < nbb_cells.length; ++i) {\n",
       "                    if (nbb_cells[i].input_prompt_number == nbb_cell_id) {\n",
       "                        if (nbb_cells[i].get_text() == nbb_unformatted_code) {\n",
       "                             nbb_cells[i].set_text(nbb_formatted_code);\n",
       "                        }\n",
       "                        break;\n",
       "                    }\n",
       "                }\n",
       "            }, 500);\n",
       "            "
      ],
      "text/plain": [
       "<IPython.core.display.Javascript object>"
      ]
     },
     "metadata": {},
     "output_type": "display_data"
    }
   ],
   "source": [
    "df[\"age_bin_custom_range\"] = pd.cut(df[\"age\"], bins=bin_ranges)\n",
    "df[\"age_bin_str_label\"] = pd.cut(df[\"age\"], bins=bin_ranges, labels=bin_names_str)\n",
    "\n",
    "df.head(10)"
   ]
  },
  {
   "cell_type": "code",
   "execution_count": 7,
   "metadata": {},
   "outputs": [
    {
     "data": {
      "text/plain": [
       "Text(0, 0.5, 'Count')"
      ]
     },
     "execution_count": 7,
     "metadata": {},
     "output_type": "execute_result"
    },
    {
     "data": {
      "image/png": "[encoded data removed]",
      "text/plain": [
       "<Figure size 864x288 with 2 Axes>"
      ]
     },
     "metadata": {},
     "output_type": "display_data"
    },
    {
     "data": {
      "application/javascript": [
       "\n",
       "            setTimeout(function() {\n",
       "                var nbb_cell_id = 7;\n",
       "                var nbb_unformatted_code = \"plt.subplot(1, 2, 1)\\nplt.hist(df[\\\"age\\\"], bins=20, edgecolor=\\\"black\\\")\\nplt.xlabel(\\\"Age\\\")\\nplt.ylabel(\\\"Count\\\")\\nplt.subplot(1, 2, 2)\\ndf[\\\"age_bin_str_label\\\"].value_counts().plot(kind=\\\"bar\\\", rot=0, edgecolor=\\\"black\\\")\\nplt.xlabel(\\\"Age Group\\\")\\nplt.ylabel(\\\"Count\\\")\\n\\n# _ = plt.hist(df[\\\"Age_bin_ceil\\\"], edgecolor=\\\"black\\\")\\n# plt.grid()\";\n",
       "                var nbb_formatted_code = \"plt.subplot(1, 2, 1)\\nplt.hist(df[\\\"age\\\"], bins=20, edgecolor=\\\"black\\\")\\nplt.xlabel(\\\"Age\\\")\\nplt.ylabel(\\\"Count\\\")\\nplt.subplot(1, 2, 2)\\ndf[\\\"age_bin_str_label\\\"].value_counts().plot(kind=\\\"bar\\\", rot=0, edgecolor=\\\"black\\\")\\nplt.xlabel(\\\"Age Group\\\")\\nplt.ylabel(\\\"Count\\\")\\n\\n# _ = plt.hist(df[\\\"Age_bin_ceil\\\"], edgecolor=\\\"black\\\")\\n# plt.grid()\";\n",
       "                var nbb_cells = Jupyter.notebook.get_cells();\n",
       "                for (var i = 0; i < nbb_cells.length; ++i) {\n",
       "                    if (nbb_cells[i].input_prompt_number == nbb_cell_id) {\n",
       "                        if (nbb_cells[i].get_text() == nbb_unformatted_code) {\n",
       "                             nbb_cells[i].set_text(nbb_formatted_code);\n",
       "                        }\n",
       "                        break;\n",
       "                    }\n",
       "                }\n",
       "            }, 500);\n",
       "            "
      ],
      "text/plain": [
       "<IPython.core.display.Javascript object>"
      ]
     },
     "metadata": {},
     "output_type": "display_data"
    }
   ],
   "source": [
    "plt.subplot(1, 2, 1)\n",
    "plt.hist(df[\"age\"], bins=20, edgecolor=\"black\")\n",
    "plt.xlabel(\"Age\")\n",
    "plt.ylabel(\"Count\")\n",
    "plt.subplot(1, 2, 2)\n",
    "df[\"age_bin_str_label\"].value_counts().plot(kind=\"bar\", rot=0, edgecolor=\"black\")\n",
    "plt.xlabel(\"Age Group\")\n",
    "plt.ylabel(\"Count\")\n",
    "\n",
    "# _ = plt.hist(df[\"Age_bin_ceil\"], edgecolor=\"black\")\n",
    "# plt.grid()"
   ]
  },
  {
   "cell_type": "code",
   "execution_count": 8,
   "metadata": {},
   "outputs": [
    {
     "data": {
      "text/html": [
       "<div><div id=d0eafea5-15d3-439d-831a-ccbb2cb1c300 style=\"display:none; background-color:#9D6CFF; color:white; width:200px; height:30px; padding-left:5px; border-radius:4px; flex-direction:row; justify-content:space-around; align-items:center;\" onmouseover=\"this.style.backgroundColor='#BA9BF8'\" onmouseout=\"this.style.backgroundColor='#9D6CFF'\" onclick=\"window.commands?.execute('create-mitosheet-from-dataframe-output');\">See Full Dataframe in Mito</div> <script> if (window.commands?.hasCommand('create-mitosheet-from-dataframe-output')) document.getElementById('d0eafea5-15d3-439d-831a-ccbb2cb1c300').style.display = 'flex' </script> <table border=\"1\" class=\"dataframe\">\n",
       "  <thead>\n",
       "    <tr style=\"text-align: right;\">\n",
       "      <th></th>\n",
       "      <th>customer_id</th>\n",
       "      <th>income</th>\n",
       "    </tr>\n",
       "  </thead>\n",
       "  <tbody>\n",
       "    <tr>\n",
       "      <th>0</th>\n",
       "      <td>customer_id_0</td>\n",
       "      <td>100456</td>\n",
       "    </tr>\n",
       "    <tr>\n",
       "      <th>1</th>\n",
       "      <td>customer_id_1</td>\n",
       "      <td>61808</td>\n",
       "    </tr>\n",
       "    <tr>\n",
       "      <th>2</th>\n",
       "      <td>customer_id_2</td>\n",
       "      <td>89050</td>\n",
       "    </tr>\n",
       "    <tr>\n",
       "      <th>3</th>\n",
       "      <td>customer_id_3</td>\n",
       "      <td>152811</td>\n",
       "    </tr>\n",
       "    <tr>\n",
       "      <th>4</th>\n",
       "      <td>customer_id_4</td>\n",
       "      <td>62159</td>\n",
       "    </tr>\n",
       "    <tr>\n",
       "      <th>5</th>\n",
       "      <td>customer_id_5</td>\n",
       "      <td>78272</td>\n",
       "    </tr>\n",
       "    <tr>\n",
       "      <th>6</th>\n",
       "      <td>customer_id_6</td>\n",
       "      <td>114207</td>\n",
       "    </tr>\n",
       "    <tr>\n",
       "      <th>7</th>\n",
       "      <td>customer_id_7</td>\n",
       "      <td>197605</td>\n",
       "    </tr>\n",
       "    <tr>\n",
       "      <th>8</th>\n",
       "      <td>customer_id_8</td>\n",
       "      <td>42618</td>\n",
       "    </tr>\n",
       "    <tr>\n",
       "      <th>9</th>\n",
       "      <td>customer_id_9</td>\n",
       "      <td>35115</td>\n",
       "    </tr>\n",
       "  </tbody>\n",
       "</table></div>"
      ],
      "text/plain": [
       "     customer_id  income\n",
       "0  customer_id_0  100456\n",
       "1  customer_id_1   61808\n",
       "2  customer_id_2   89050\n",
       "3  customer_id_3  152811\n",
       "4  customer_id_4   62159\n",
       "5  customer_id_5   78272\n",
       "6  customer_id_6  114207\n",
       "7  customer_id_7  197605\n",
       "8  customer_id_8   42618\n",
       "9  customer_id_9   35115"
      ]
     },
     "execution_count": 8,
     "metadata": {},
     "output_type": "execute_result"
    },
    {
     "data": {
      "application/javascript": [
       "\n",
       "            setTimeout(function() {\n",
       "                var nbb_cell_id = 8;\n",
       "                var nbb_unformatted_code = \"income = np.concatenate(\\n    [\\n        np.random.randint(20000, 80000, 600),\\n        np.random.randint(80000, 120000, 200),\\n        np.random.randint(120000, 180000, 150),\\n        np.random.randint(180000, 250000, 50),\\n    ]\\n)\\n\\nnp.random.shuffle(income)\\n\\ncustomer_id = [\\\"customer_id_\\\" + str(i) for i in range(len(income))]\\ndf = pd.DataFrame({\\\"customer_id\\\": customer_id, \\\"income\\\": income})\\ndf.head(10)\";\n",
       "                var nbb_formatted_code = \"income = np.concatenate(\\n    [\\n        np.random.randint(20000, 80000, 600),\\n        np.random.randint(80000, 120000, 200),\\n        np.random.randint(120000, 180000, 150),\\n        np.random.randint(180000, 250000, 50),\\n    ]\\n)\\n\\nnp.random.shuffle(income)\\n\\ncustomer_id = [\\\"customer_id_\\\" + str(i) for i in range(len(income))]\\ndf = pd.DataFrame({\\\"customer_id\\\": customer_id, \\\"income\\\": income})\\ndf.head(10)\";\n",
       "                var nbb_cells = Jupyter.notebook.get_cells();\n",
       "                for (var i = 0; i < nbb_cells.length; ++i) {\n",
       "                    if (nbb_cells[i].input_prompt_number == nbb_cell_id) {\n",
       "                        if (nbb_cells[i].get_text() == nbb_unformatted_code) {\n",
       "                             nbb_cells[i].set_text(nbb_formatted_code);\n",
       "                        }\n",
       "                        break;\n",
       "                    }\n",
       "                }\n",
       "            }, 500);\n",
       "            "
      ],
      "text/plain": [
       "<IPython.core.display.Javascript object>"
      ]
     },
     "metadata": {},
     "output_type": "display_data"
    }
   ],
   "source": [
    "income = np.concatenate(\n",
    "    [\n",
    "        np.random.randint(20000, 80000, 600),\n",
    "        np.random.randint(80000, 120000, 200),\n",
    "        np.random.randint(120000, 180000, 150),\n",
    "        np.random.randint(180000, 250000, 50),\n",
    "    ]\n",
    ")\n",
    "\n",
    "np.random.shuffle(income)\n",
    "\n",
    "customer_id = [\"customer_id_\" + str(i) for i in range(len(income))]\n",
    "df = pd.DataFrame({\"customer_id\": customer_id, \"income\": income})\n",
    "df.head(10)"
   ]
  },
  {
   "cell_type": "code",
   "execution_count": 9,
   "metadata": {},
   "outputs": [
    {
     "data": {
      "application/javascript": [
       "\n",
       "            setTimeout(function() {\n",
       "                var nbb_cell_id = 9;\n",
       "                var nbb_unformatted_code = \"bin_ranges = [20000, 80000, 120000, 180000, 250000]\\nbin_names_str = [\\\"low\\\", \\\"medium\\\", \\\"high\\\", \\\"very high\\\"]\";\n",
       "                var nbb_formatted_code = \"bin_ranges = [20000, 80000, 120000, 180000, 250000]\\nbin_names_str = [\\\"low\\\", \\\"medium\\\", \\\"high\\\", \\\"very high\\\"]\";\n",
       "                var nbb_cells = Jupyter.notebook.get_cells();\n",
       "                for (var i = 0; i < nbb_cells.length; ++i) {\n",
       "                    if (nbb_cells[i].input_prompt_number == nbb_cell_id) {\n",
       "                        if (nbb_cells[i].get_text() == nbb_unformatted_code) {\n",
       "                             nbb_cells[i].set_text(nbb_formatted_code);\n",
       "                        }\n",
       "                        break;\n",
       "                    }\n",
       "                }\n",
       "            }, 500);\n",
       "            "
      ],
      "text/plain": [
       "<IPython.core.display.Javascript object>"
      ]
     },
     "metadata": {},
     "output_type": "display_data"
    }
   ],
   "source": [
    "bin_ranges = [20000, 80000, 120000, 180000, 250000]\n",
    "bin_names_str = [\"low\", \"medium\", \"high\", \"very high\"]"
   ]
  },
  {
   "cell_type": "code",
   "execution_count": 10,
   "metadata": {},
   "outputs": [
    {
     "data": {
      "text/html": [
       "<div><div id=8c57f422-39bc-4a9c-a1e8-89609735bef0 style=\"display:none; background-color:#9D6CFF; color:white; width:200px; height:30px; padding-left:5px; border-radius:4px; flex-direction:row; justify-content:space-around; align-items:center;\" onmouseover=\"this.style.backgroundColor='#BA9BF8'\" onmouseout=\"this.style.backgroundColor='#9D6CFF'\" onclick=\"window.commands?.execute('create-mitosheet-from-dataframe-output');\">See Full Dataframe in Mito</div> <script> if (window.commands?.hasCommand('create-mitosheet-from-dataframe-output')) document.getElementById('8c57f422-39bc-4a9c-a1e8-89609735bef0').style.display = 'flex' </script> <table border=\"1\" class=\"dataframe\">\n",
       "  <thead>\n",
       "    <tr style=\"text-align: right;\">\n",
       "      <th></th>\n",
       "      <th>customer_id</th>\n",
       "      <th>income</th>\n",
       "      <th>income_bin_custom_range</th>\n",
       "      <th>income_bin_str_label</th>\n",
       "    </tr>\n",
       "  </thead>\n",
       "  <tbody>\n",
       "    <tr>\n",
       "      <th>0</th>\n",
       "      <td>customer_id_0</td>\n",
       "      <td>100456</td>\n",
       "      <td>(80000, 120000]</td>\n",
       "      <td>medium</td>\n",
       "    </tr>\n",
       "    <tr>\n",
       "      <th>1</th>\n",
       "      <td>customer_id_1</td>\n",
       "      <td>61808</td>\n",
       "      <td>(20000, 80000]</td>\n",
       "      <td>low</td>\n",
       "    </tr>\n",
       "    <tr>\n",
       "      <th>2</th>\n",
       "      <td>customer_id_2</td>\n",
       "      <td>89050</td>\n",
       "      <td>(80000, 120000]</td>\n",
       "      <td>medium</td>\n",
       "    </tr>\n",
       "    <tr>\n",
       "      <th>3</th>\n",
       "      <td>customer_id_3</td>\n",
       "      <td>152811</td>\n",
       "      <td>(120000, 180000]</td>\n",
       "      <td>high</td>\n",
       "    </tr>\n",
       "    <tr>\n",
       "      <th>4</th>\n",
       "      <td>customer_id_4</td>\n",
       "      <td>62159</td>\n",
       "      <td>(20000, 80000]</td>\n",
       "      <td>low</td>\n",
       "    </tr>\n",
       "    <tr>\n",
       "      <th>5</th>\n",
       "      <td>customer_id_5</td>\n",
       "      <td>78272</td>\n",
       "      <td>(20000, 80000]</td>\n",
       "      <td>low</td>\n",
       "    </tr>\n",
       "    <tr>\n",
       "      <th>6</th>\n",
       "      <td>customer_id_6</td>\n",
       "      <td>114207</td>\n",
       "      <td>(80000, 120000]</td>\n",
       "      <td>medium</td>\n",
       "    </tr>\n",
       "    <tr>\n",
       "      <th>7</th>\n",
       "      <td>customer_id_7</td>\n",
       "      <td>197605</td>\n",
       "      <td>(180000, 250000]</td>\n",
       "      <td>very high</td>\n",
       "    </tr>\n",
       "    <tr>\n",
       "      <th>8</th>\n",
       "      <td>customer_id_8</td>\n",
       "      <td>42618</td>\n",
       "      <td>(20000, 80000]</td>\n",
       "      <td>low</td>\n",
       "    </tr>\n",
       "    <tr>\n",
       "      <th>9</th>\n",
       "      <td>customer_id_9</td>\n",
       "      <td>35115</td>\n",
       "      <td>(20000, 80000]</td>\n",
       "      <td>low</td>\n",
       "    </tr>\n",
       "  </tbody>\n",
       "</table></div>"
      ],
      "text/plain": [
       "     customer_id  income income_bin_custom_range income_bin_str_label\n",
       "0  customer_id_0  100456         (80000, 120000]               medium\n",
       "1  customer_id_1   61808          (20000, 80000]                  low\n",
       "2  customer_id_2   89050         (80000, 120000]               medium\n",
       "3  customer_id_3  152811        (120000, 180000]                 high\n",
       "4  customer_id_4   62159          (20000, 80000]                  low\n",
       "5  customer_id_5   78272          (20000, 80000]                  low\n",
       "6  customer_id_6  114207         (80000, 120000]               medium\n",
       "7  customer_id_7  197605        (180000, 250000]            very high\n",
       "8  customer_id_8   42618          (20000, 80000]                  low\n",
       "9  customer_id_9   35115          (20000, 80000]                  low"
      ]
     },
     "execution_count": 10,
     "metadata": {},
     "output_type": "execute_result"
    },
    {
     "data": {
      "application/javascript": [
       "\n",
       "            setTimeout(function() {\n",
       "                var nbb_cell_id = 10;\n",
       "                var nbb_unformatted_code = \"df[\\\"income_bin_custom_range\\\"] = pd.cut(df[\\\"income\\\"], bins=bin_ranges)\\ndf[\\\"income_bin_str_label\\\"] = pd.cut(df[\\\"income\\\"], bins=bin_ranges, labels=bin_names_str)\\n\\ndf.head(10)\";\n",
       "                var nbb_formatted_code = \"df[\\\"income_bin_custom_range\\\"] = pd.cut(df[\\\"income\\\"], bins=bin_ranges)\\ndf[\\\"income_bin_str_label\\\"] = pd.cut(df[\\\"income\\\"], bins=bin_ranges, labels=bin_names_str)\\n\\ndf.head(10)\";\n",
       "                var nbb_cells = Jupyter.notebook.get_cells();\n",
       "                for (var i = 0; i < nbb_cells.length; ++i) {\n",
       "                    if (nbb_cells[i].input_prompt_number == nbb_cell_id) {\n",
       "                        if (nbb_cells[i].get_text() == nbb_unformatted_code) {\n",
       "                             nbb_cells[i].set_text(nbb_formatted_code);\n",
       "                        }\n",
       "                        break;\n",
       "                    }\n",
       "                }\n",
       "            }, 500);\n",
       "            "
      ],
      "text/plain": [
       "<IPython.core.display.Javascript object>"
      ]
     },
     "metadata": {},
     "output_type": "display_data"
    }
   ],
   "source": [
    "df[\"income_bin_custom_range\"] = pd.cut(df[\"income\"], bins=bin_ranges)\n",
    "df[\"income_bin_str_label\"] = pd.cut(df[\"income\"], bins=bin_ranges, labels=bin_names_str)\n",
    "\n",
    "df.head(10)"
   ]
  },
  {
   "cell_type": "code",
   "execution_count": 11,
   "metadata": {},
   "outputs": [
    {
     "data": {
      "text/plain": [
       "Text(0, 0.5, 'Count')"
      ]
     },
     "execution_count": 11,
     "metadata": {},
     "output_type": "execute_result"
    },
    {
     "data": {
      "image/png": "[encoded data removed]",
      "text/plain": [
       "<Figure size 864x288 with 2 Axes>"
      ]
     },
     "metadata": {},
     "output_type": "display_data"
    },
    {
     "data": {
      "application/javascript": [
       "\n",
       "            setTimeout(function() {\n",
       "                var nbb_cell_id = 11;\n",
       "                var nbb_unformatted_code = \"plt.subplot(1, 2, 1)\\nplt.hist(df[\\\"income\\\"], bins=20, edgecolor=\\\"black\\\")\\nplt.xlabel(\\\"income\\\")\\nplt.ylabel(\\\"Count\\\")\\nplt.subplot(1, 2, 2)\\ndf[\\\"income_bin_str_label\\\"].value_counts().plot(kind=\\\"bar\\\", rot=0, edgecolor=\\\"black\\\")\\nplt.xlabel(\\\"income\\\")\\nplt.ylabel(\\\"Count\\\")\";\n",
       "                var nbb_formatted_code = \"plt.subplot(1, 2, 1)\\nplt.hist(df[\\\"income\\\"], bins=20, edgecolor=\\\"black\\\")\\nplt.xlabel(\\\"income\\\")\\nplt.ylabel(\\\"Count\\\")\\nplt.subplot(1, 2, 2)\\ndf[\\\"income_bin_str_label\\\"].value_counts().plot(kind=\\\"bar\\\", rot=0, edgecolor=\\\"black\\\")\\nplt.xlabel(\\\"income\\\")\\nplt.ylabel(\\\"Count\\\")\";\n",
       "                var nbb_cells = Jupyter.notebook.get_cells();\n",
       "                for (var i = 0; i < nbb_cells.length; ++i) {\n",
       "                    if (nbb_cells[i].input_prompt_number == nbb_cell_id) {\n",
       "                        if (nbb_cells[i].get_text() == nbb_unformatted_code) {\n",
       "                             nbb_cells[i].set_text(nbb_formatted_code);\n",
       "                        }\n",
       "                        break;\n",
       "                    }\n",
       "                }\n",
       "            }, 500);\n",
       "            "
      ],
      "text/plain": [
       "<IPython.core.display.Javascript object>"
      ]
     },
     "metadata": {},
     "output_type": "display_data"
    }
   ],
   "source": [
    "plt.subplot(1, 2, 1)\n",
    "plt.hist(df[\"income\"], bins=20, edgecolor=\"black\")\n",
    "plt.xlabel(\"income\")\n",
    "plt.ylabel(\"Count\")\n",
    "plt.subplot(1, 2, 2)\n",
    "df[\"income_bin_str_label\"].value_counts().plot(kind=\"bar\", rot=0, edgecolor=\"black\")\n",
    "plt.xlabel(\"income\")\n",
    "plt.ylabel(\"Count\")"
   ]
  },
  {
   "cell_type": "code",
   "execution_count": null,
   "metadata": {},
   "outputs": [],
   "source": []
  },
  {
   "cell_type": "code",
   "execution_count": null,
   "metadata": {},
   "outputs": [],
   "source": []
  },
  {
   "cell_type": "code",
   "execution_count": null,
   "metadata": {},
   "outputs": [],
   "source": []
  },
  {
   "cell_type": "code",
   "execution_count": null,
   "metadata": {},
   "outputs": [],
   "source": []
  }
 ],
 "metadata": {
  "kernelspec": {
   "display_name": "Python 3 (ipykernel)",
   "language": "python",
   "name": "python3"
  },
  "language_info": {
   "codemirror_mode": {
    "name": "ipython",
    "version": 3
   },
   "file_extension": ".py",
   "mimetype": "text/x-python",
   "name": "python",
   "nbconvert_exporter": "python",
   "pygments_lexer": "ipython3",
   "version": "3.8.13"
  },
  "toc": {
   "base_numbering": 1,
   "nav_menu": {},
   "number_sections": true,
   "sideBar": true,
   "skip_h1_title": false,
   "title_cell": "Table of Contents",
   "title_sidebar": "Contents",
   "toc_cell": false,
   "toc_position": {},
   "toc_section_display": true,
   "toc_window_display": false
  }
 },
 "nbformat": 4,
 "nbformat_minor": 4
}
